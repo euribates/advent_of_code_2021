{
 "cells": [
  {
   "cell_type": "code",
   "execution_count": 3,
   "metadata": {},
   "outputs": [],
   "source": [
    "def load_data(filename):\n",
    "    with open(filename, 'r') as f:\n",
    "        for item in f.readlines():\n",
    "            yield(int(item.strip()))"
   ]
  },
  {
   "cell_type": "code",
   "execution_count": 13,
   "metadata": {},
   "outputs": [
    {
     "name": "stdout",
     "output_type": "stream",
     "text": [
      "199\n",
      "200\n",
      "208\n",
      "210\n",
      "200\n",
      "207\n",
      "240\n",
      "269\n",
      "260\n",
      "263\n"
     ]
    }
   ],
   "source": [
    "for num in load_data('01-sample.txt'):\n",
    "    print(num)"
   ]
  },
  {
   "cell_type": "code",
   "execution_count": 38,
   "metadata": {},
   "outputs": [],
   "source": [
    "from itertools import tee\n",
    "\n",
    "def count_increments(seq):\n",
    "    i1, i2 = tee(seq)\n",
    "    next(i2)\n",
    "    return sum(\n",
    "        1 if a < b else 0\n",
    "        for a, b, in zip(i1, i2)\n",
    "    )"
   ]
  },
  {
   "cell_type": "code",
   "execution_count": 39,
   "metadata": {},
   "outputs": [],
   "source": [
    "assert count_increments(load_data('01-sample.txt')) == 7"
   ]
  },
  {
   "cell_type": "code",
   "execution_count": 40,
   "metadata": {},
   "outputs": [
    {
     "name": "stdout",
     "output_type": "stream",
     "text": [
      "First Solution: 1709\n"
     ]
    }
   ],
   "source": [
    "print('First Solution:', count_increments(load_data('01-input.txt')))"
   ]
  },
  {
   "cell_type": "code",
   "execution_count": 41,
   "metadata": {},
   "outputs": [],
   "source": [
    "i1, i2, i3 = tee(load_data('01-sample.txt'), 3)"
   ]
  },
  {
   "cell_type": "code",
   "execution_count": 42,
   "metadata": {},
   "outputs": [],
   "source": [
    "def sum_of_measurements(seq):\n",
    "    i1, i2, i3 = tee(seq, 3)\n",
    "    next(i2)\n",
    "    next(i3); next(i3)\n",
    "    for a, b, c in zip(i1, i2, i3):\n",
    "        yield a+b+c"
   ]
  },
  {
   "cell_type": "code",
   "execution_count": 43,
   "metadata": {},
   "outputs": [
    {
     "name": "stdout",
     "output_type": "stream",
     "text": [
      "607\n",
      "618\n",
      "618\n",
      "617\n",
      "647\n",
      "716\n",
      "769\n",
      "792\n"
     ]
    }
   ],
   "source": [
    "for s in sum_of_measurements(load_data('01-sample.txt')):\n",
    "    print(s)"
   ]
  },
  {
   "cell_type": "code",
   "execution_count": 45,
   "metadata": {},
   "outputs": [],
   "source": [
    "assert count_increments(sum_of_measurements(load_data('01-sample.txt'))) == 5"
   ]
  },
  {
   "cell_type": "code",
   "execution_count": 47,
   "metadata": {},
   "outputs": [
    {
     "name": "stdout",
     "output_type": "stream",
     "text": [
      "Second Solution: 1761\n"
     ]
    }
   ],
   "source": [
    "print('Second Solution:', count_increments(sum_of_measurements(load_data('01-input.txt'))))"
   ]
  },
  {
   "cell_type": "code",
   "execution_count": null,
   "metadata": {},
   "outputs": [],
   "source": []
  }
 ],
 "metadata": {
  "kernelspec": {
   "display_name": "Python 3",
   "language": "python",
   "name": "python3"
  },
  "language_info": {
   "codemirror_mode": {
    "name": "ipython",
    "version": 3
   },
   "file_extension": ".py",
   "mimetype": "text/x-python",
   "name": "python",
   "nbconvert_exporter": "python",
   "pygments_lexer": "ipython3",
   "version": "3.8.10"
  }
 },
 "nbformat": 4,
 "nbformat_minor": 4
}
