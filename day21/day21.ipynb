{
 "cells": [
  {
   "cell_type": "markdown",
   "metadata": {},
   "source": [
    "# Day 21: Dirac Dice"
   ]
  },
  {
   "cell_type": "code",
   "execution_count": 1,
   "metadata": {},
   "outputs": [],
   "source": [
    "import itertools\n",
    "\n",
    "def new_deterministic_dice():\n",
    "    return itertools.cycle(range(1, 101))"
   ]
  },
  {
   "cell_type": "code",
   "execution_count": 2,
   "metadata": {},
   "outputs": [],
   "source": [
    "def play_turn(player, pos, score, tron=False):\n",
    "    dice_values = [next(deterministic_dice) for _ in range(3)]\n",
    "    moves = sum(dice_values)\n",
    "    pos = (pos + moves) % 10\n",
    "    score += pos + 1\n",
    "    if tron:\n",
    "        shoots = '+'.join([str(v) for v in dice_values])\n",
    "        print(f'Player {player} rolls {shoots} and moves to space {pos_one+1} for a total score of {score_one}')\n",
    "    return (pos, score)"
   ]
  },
  {
   "cell_type": "code",
   "execution_count": 3,
   "metadata": {},
   "outputs": [],
   "source": [
    "deterministic_dice = new_deterministic_dice()\n",
    "pos_player_one = 3\n",
    "pos_player_two = 7 \n",
    "score_player_one = score_player_two = 0\n",
    "\n",
    "pos_player_one, score_player_one = play_turn('1', pos_player_one, score_player_one)\n",
    "pos_player_two, score_player_two = play_turn('2', pos_player_two, score_player_two)\n",
    "    \n",
    "assert pos_player_one == 9\n",
    "assert score_player_one == 10\n",
    "assert pos_player_two == 2\n",
    "assert score_player_two == 3\n",
    "\n",
    "pos_player_one, score_player_one = play_turn('1', pos_player_one, score_player_one)\n",
    "pos_player_two, score_player_two = play_turn('2', pos_player_two, score_player_two)\n",
    "\n",
    "assert pos_player_one == 3\n",
    "assert score_player_one == 14\n",
    "assert pos_player_two == 5\n",
    "assert score_player_two == 9\n",
    "\n",
    "pos_player_one, score_player_one = play_turn('1', pos_player_one, score_player_one)\n",
    "pos_player_two, score_player_two = play_turn('2', pos_player_two, score_player_two)\n",
    "\n",
    "assert pos_player_one == 5\n",
    "assert score_player_one == 20\n",
    "assert pos_player_two == 6\n",
    "assert score_player_two == 16\n",
    "\n",
    "pos_player_one, score_player_one = play_turn('1', pos_player_one, score_player_one)\n",
    "pos_player_two, score_player_two = play_turn('2', pos_player_two, score_player_two)\n",
    "\n",
    "assert pos_player_one == 5\n",
    "assert score_player_one == 26\n",
    "assert pos_player_two == 5\n",
    "assert score_player_two == 22"
   ]
  },
  {
   "cell_type": "code",
   "execution_count": 4,
   "metadata": {},
   "outputs": [
    {
     "name": "stdout",
     "output_type": "stream",
     "text": [
      "Score player one: 1000\n",
      "Score player two: 745\n",
      "993\n"
     ]
    }
   ],
   "source": [
    "deterministic_dice = new_deterministic_dice()\n",
    "pos_player_one = 3\n",
    "pos_player_two = 7 \n",
    "score_player_one = score_player_two = 0\n",
    "dice_rolls = 0\n",
    "while True:\n",
    "    pos_player_one, score_player_one = play_turn('1', pos_player_one, score_player_one)\n",
    "    dice_rolls += 3\n",
    "    if score_player_one >= 1000:\n",
    "        break\n",
    "    pos_player_two, score_player_two = play_turn('2', pos_player_two, score_player_two)\n",
    "    dice_rolls += 3\n",
    "    if score_player_two >= 1000:\n",
    "        break\n",
    "\n",
    "print(f'Score player one: {score_player_one}')\n",
    "print(f'Score player two: {score_player_two}')\n",
    "print(dice_rolls)\n",
    "assert dice_rolls == 993\n",
    "assert dice_rolls * score_player_two == 739785"
   ]
  },
  {
   "cell_type": "markdown",
   "metadata": {},
   "source": [
    "## Solution part one"
   ]
  },
  {
   "cell_type": "markdown",
   "metadata": {},
   "source": [
    "- Player **1** starting position: $8$\n",
    "    \n",
    "- Player **2** starting position: $10$"
   ]
  },
  {
   "cell_type": "code",
   "execution_count": 5,
   "metadata": {},
   "outputs": [
    {
     "name": "stdout",
     "output_type": "stream",
     "text": [
      "Score player one: 1000\n",
      "Score player two: 810\n",
      "Solution part one: 605070\n"
     ]
    }
   ],
   "source": [
    "deterministic_dice = new_deterministic_dice()\n",
    "\n",
    "pos_player_one = 7  # 8 - 1\n",
    "pos_player_two = 9  # 10 - 1\n",
    "score_player_one = score_player_two = 0\n",
    "dice_rolls = 0\n",
    "\n",
    "while True:\n",
    "    pos_player_one, score_player_one = play_turn('1', pos_player_one, score_player_one)\n",
    "    dice_rolls += 3\n",
    "    if score_player_one >= 1000:\n",
    "        break\n",
    "    pos_player_two, score_player_two = play_turn('2', pos_player_two, score_player_two)\n",
    "    dice_rolls += 3\n",
    "    if score_player_two >= 1000:\n",
    "        break\n",
    "\n",
    "print(f'Score player one: {score_player_one}')\n",
    "print(f'Score player two: {score_player_two}')\n",
    "sol = dice_rolls * min(score_player_one, score_player_two)\n",
    "print(f'Solution part one: {sol}')\n"
   ]
  },
  {
   "cell_type": "markdown",
   "metadata": {},
   "source": [
    "## Part two"
   ]
  },
  {
   "cell_type": "code",
   "execution_count": 6,
   "metadata": {},
   "outputs": [
    {
     "name": "stdout",
     "output_type": "stream",
     "text": [
      "Counter({6: 7, 5: 6, 7: 6, 4: 3, 8: 3, 3: 1, 9: 1})\n"
     ]
    }
   ],
   "source": [
    "from collections import Counter\n",
    "from itertools import product\n",
    "import beepy\n",
    "\n",
    "count = Counter()\n",
    "for a, b, c in product([1, 2, 3], [1, 2, 3], [1, 2, 3]):\n",
    "    count[a+b+c] += 1\n",
    "print(count)"
   ]
  },
  {
   "cell_type": "code",
   "execution_count": 7,
   "metadata": {},
   "outputs": [],
   "source": [
    "def dirac_dice():\n",
    "    return [\n",
    "        (3, 1),  # once out of every 27 cases dice sum is 1\n",
    "        (4, 3),  # 3 out of every 27 cases dice sum is 4\n",
    "        (5, 6),  # 6 out of every 27 cases dice sum is 5\n",
    "        (6, 7),  # 7 out of every 27 cases dice sum is 6\n",
    "        (7, 6),  # 6 out of every 27 cases dice sum is 7\n",
    "        (8, 3),  # 3 out of every 27 cases dice sum is 8\n",
    "        (9, 1),  # once out of every 27 cases dice sum is 9\n",
    "    ]"
   ]
  },
  {
   "cell_type": "code",
   "execution_count": 8,
   "metadata": {},
   "outputs": [],
   "source": [
    "from functools import lru_cache\n",
    "\n",
    "@lru_cache(2*10*21*7*2)\n",
    "def play_turn(player, pos, score, dice, tron=True):\n",
    "    pos = (pos + dice) % 10\n",
    "    score += (pos + 1)\n",
    "    if tron:\n",
    "        print(f'Player {player} rolls {dice} and moves to space {pos+1} for a total score of {score}')\n",
    "    return pos, score"
   ]
  },
  {
   "cell_type": "code",
   "execution_count": 9,
   "metadata": {},
   "outputs": [],
   "source": [
    "LIMIT = 21\n",
    "\n",
    "def player_one(pos_1, score_1, pos_2, score_2, dice, times, tron=True):\n",
    "    new_pos, new_score = play_turn(\"one\", pos_1, score_1, dice, tron=tron) \n",
    "    if new_score >= LIMIT:\n",
    "        if tron:\n",
    "            print(\"Player one wins\")\n",
    "        return (1, 0)\n",
    "    one_wins = two_wins = 0\n",
    "    for dice, times in dirac_dice():\n",
    "        a, b = player_two(new_pos, new_score, pos_2, score_2, dice, times, tron=tron)\n",
    "        one_wins += a * times\n",
    "        two_wins += b * times\n",
    "    return one_wins, two_wins\n",
    "\n",
    "def player_two(pos_1, score_1, pos_2, score_2, dice, times, tron=True):\n",
    "    new_pos, new_score = play_turn(\"two\", pos_2, score_2, dice, tron=tron) \n",
    "    if new_score >= LIMIT:\n",
    "        if tron:\n",
    "            print(\"Player two wins\")\n",
    "        return (0, 1)\n",
    "    one_wins = two_wins = 0\n",
    "    for dice, times in dirac_dice():\n",
    "        a, b = player_one(pos_1, score_1, new_pos, new_score, dice, times, tron=tron)\n",
    "        one_wins += a * times\n",
    "        two_wins += b * times\n",
    "    return one_wins, two_wins"
   ]
  },
  {
   "cell_type": "markdown",
   "metadata": {},
   "source": [
    "Using the same starting positions as in the example above, player 1 wins in $444356092776315$ universes, while player 2 merely wins in $341960390180808$ universes.\n",
    "\n"
   ]
  },
  {
   "cell_type": "code",
   "execution_count": 10,
   "metadata": {},
   "outputs": [],
   "source": [
    "def solution_two(pos_1, pos_2, tron=True):\n",
    "    print(f\"solution starts pos_1 is {pos_1} pos_2 {pos_2}\")\n",
    "    result_one = result_two = 0\n",
    "    for dice, times in dirac_dice():\n",
    "        if tron:\n",
    "            print(f\"  brach {dice} * {times}\")\n",
    "        a, b = player_one(pos_1, 0, pos_2, 0, dice, times, tron=tron)\n",
    "        result_one += a * times\n",
    "        result_two += b * times\n",
    "    print(f\"Player one wins {result_one} times\")\n",
    "    print(f\"Player two wins {result_two} times\")\n",
    "    return result_one, result_two\n",
    "    "
   ]
  },
  {
   "cell_type": "code",
   "execution_count": 11,
   "metadata": {},
   "outputs": [
    {
     "name": "stdout",
     "output_type": "stream",
     "text": [
      "solution starts pos_1 is 3 pos_2 7\n",
      "Player one wins 444356092776315 times\n",
      "Player two wins 341960390180808 times\n"
     ]
    }
   ],
   "source": [
    "pos_player_one = 3\n",
    "pos_player_two = 7     \n",
    "one_wins, two_wins = solution_two(pos_player_one, pos_player_two, tron=False)\n",
    "assert one_wins == 444356092776315\n",
    "assert two_wins == 341960390180808"
   ]
  },
  {
   "cell_type": "markdown",
   "metadata": {},
   "source": [
    "Using your given starting positions, determine every possible outcome. Find the player that wins in more universes; in how many universes does that player win?"
   ]
  },
  {
   "cell_type": "code",
   "execution_count": 12,
   "metadata": {},
   "outputs": [
    {
     "name": "stdout",
     "output_type": "stream",
     "text": [
      "Player 1 starting position: 8\n",
      "Player 2 starting position: 10\n"
     ]
    }
   ],
   "source": [
    "%cat 21-input.txt"
   ]
  },
  {
   "cell_type": "code",
   "execution_count": 13,
   "metadata": {},
   "outputs": [
    {
     "name": "stdout",
     "output_type": "stream",
     "text": [
      "solution starts pos_1 is 7 pos_2 9\n",
      "Player one wins 218433063958910 times\n",
      "Player two wins 189371397363999 times\n",
      "Solution part two: 218433063958910\n"
     ]
    }
   ],
   "source": [
    "pos_player_one = 7  # position 8\n",
    "pos_player_two = 9  # position 10\n",
    "one_wins, two_wins = solution_two(pos_player_one, pos_player_two, tron=False)\n",
    "\n",
    "sol = max([one_wins, two_wins])\n",
    "print(f\"Solution part two: {sol}\")"
   ]
  }
 ],
 "metadata": {
  "kernelspec": {
   "display_name": "Python 3",
   "language": "python",
   "name": "python3"
  },
  "language_info": {
   "codemirror_mode": {
    "name": "ipython",
    "version": 3
   },
   "file_extension": ".py",
   "mimetype": "text/x-python",
   "name": "python",
   "nbconvert_exporter": "python",
   "pygments_lexer": "ipython3",
   "version": "3.8.10"
  }
 },
 "nbformat": 4,
 "nbformat_minor": 4
}
