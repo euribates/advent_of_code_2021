{
 "cells": [
  {
   "cell_type": "markdown",
   "metadata": {},
   "source": [
    "# Day 15: Chiton"
   ]
  },
  {
   "cell_type": "code",
   "execution_count": 1,
   "metadata": {},
   "outputs": [],
   "source": [
    "import numpy as np\n",
    "from heapq import heappush, heappop, heapify\n",
    "\n",
    "from IPython.core.display import display, HTML"
   ]
  },
  {
   "cell_type": "code",
   "execution_count": 2,
   "metadata": {},
   "outputs": [],
   "source": [
    "def load_input(filename):\n",
    "    matrix = []\n",
    "    with open(filename) as fr:\n",
    "        for line in fr:\n",
    "            line = line.strip()\n",
    "            matrix.append([int(c) for c in line])\n",
    "    return np.array(matrix)"
   ]
  },
  {
   "cell_type": "code",
   "execution_count": 3,
   "metadata": {},
   "outputs": [],
   "source": [
    "m = load_input('15-sample.txt')\n",
    "assert m.shape == (10, 10)\n",
    "m[5,3]  # Access using y, x\n",
    "assert m[5, 3] == 9"
   ]
  },
  {
   "cell_type": "code",
   "execution_count": 4,
   "metadata": {},
   "outputs": [],
   "source": [
    "def neighbours(m, y, x):\n",
    "    max_y, max_x = m.shape\n",
    "    if y-1 >= 0:\n",
    "        yield m[y-1, x], y-1, x\n",
    "    if x + 1 < max_x:\n",
    "        yield m[y, x+1], y, x+1\n",
    "    if y + 1 < max_y:\n",
    "        yield m[y+1, x], y+1, x\n",
    "    if x-1 >= 0:\n",
    "        yield m[y, x-1], y, x-1\n",
    "    \n",
    "assert list(neighbours(m, 2, 2)) == [\n",
    "    (8, 1, 2),\n",
    "    (6, 2, 3),\n",
    "    (9, 3, 2),\n",
    "    (1, 2, 1)\n",
    "]\n",
    "assert list(neighbours(m, 0, 0)) == [(1, 0, 1), (1, 1, 0)]\n",
    "assert list(neighbours(m, 0, 9)) == [(2, 1, 9), (4, 0, 8)]\n",
    "assert list(neighbours(m, 9, 9)) == [(1, 8, 9), (8, 9, 8)]\n",
    "assert list(neighbours(m, 9, 0)) == [(1, 8, 0), (3, 9, 1)]\n"
   ]
  },
  {
   "cell_type": "code",
   "execution_count": 5,
   "metadata": {},
   "outputs": [],
   "source": [
    "visited = np.zeros(m.shape, bool)\n",
    "assert visited.sum() == 0\n",
    "visited[0, 0] = True\n",
    "assert visited.sum() == 1"
   ]
  },
  {
   "cell_type": "code",
   "execution_count": 6,
   "metadata": {},
   "outputs": [],
   "source": [
    "def show_map(values, path=None):\n",
    "    path = path or []\n",
    "    max_x, max_y = distance.shape\n",
    "    buff = ['<table>']\n",
    "    for y in range(max_y):\n",
    "        buff.append('<tr>')\n",
    "        for x in range(max_x):\n",
    "            value = values[y, x]\n",
    "            if (y, x) in path:\n",
    "                buff.append(f'<th style=\"background-color: silver\"><b>{value}</b></th>')\n",
    "            else:\n",
    "                buff.append(f'<td>{value}</td>')\n",
    "        buff.append('</tr>')\n",
    "    buff.append('</table>')\n",
    "    return HTML('\\n'.join(buff))"
   ]
  },
  {
   "cell_type": "code",
   "execution_count": 7,
   "metadata": {},
   "outputs": [
    {
     "name": "stdout",
     "output_type": "stream",
     "text": [
      "[(2, 1, 0), (5, 2, 3), (3, 1, 1), (12, 1, 1)] <class 'list'> 4\n",
      "(2, 1, 0)\n",
      "(3, 1, 1)\n",
      "(5, 2, 3)\n",
      "(12, 1, 1)\n"
     ]
    }
   ],
   "source": [
    "l = [ (12, 1,1), (5, 2, 3), (3, 1, 1) ,(2,1,0)]\n",
    "heapify(l)\n",
    "print(l, type(l), len(l))\n",
    "while l:\n",
    "    print(heappop(l))"
   ]
  },
  {
   "cell_type": "code",
   "execution_count": 8,
   "metadata": {},
   "outputs": [
    {
     "data": {
      "text/plain": [
       "4294967296"
      ]
     },
     "execution_count": 8,
     "metadata": {},
     "output_type": "execute_result"
    }
   ],
   "source": [
    "pow(2, 32)"
   ]
  },
  {
   "cell_type": "code",
   "execution_count": 9,
   "metadata": {},
   "outputs": [],
   "source": [
    "def dijkstra(m, tron=True):\n",
    "    if tron: \n",
    "        print('dijkstra starts')\n",
    "    visited = np.zeros(m.shape, bool)\n",
    "    distance = np.full(m.shape, 4294967296)\n",
    "    distance[0, 0] = 0\n",
    "    frontier = [(0, 0, 0)]\n",
    "    heapify(frontier)\n",
    "    iteration = 0\n",
    "    while frontier:\n",
    "        iteration += 1\n",
    "        v, y, x = heappop(frontier)\n",
    "        visited[y, x] = True\n",
    "        if tron:\n",
    "            print(f\"--[ Iteracion {iteration} ]-----------------\")\n",
    "            print(f\"  Examinando nodo y: {y} x: {x} -> {m[y, x]}\")\n",
    "        if iteration > 150000:\n",
    "            print('Stack overflow')\n",
    "            break \n",
    "        if tron: \n",
    "            print(f\"  Añadiendo vecinos de ({y}, {x}) a la frontera\")\n",
    "        for _value, _y, _x in neighbours(m, y, x):\n",
    "            if visited[_y, _x]:\n",
    "                if tron:\n",
    "                    print(f\"     - Descarta ({_y}, {_x}) (Ya visitado)\")\n",
    "                continue\n",
    "            new_distance = distance[y, x] + m[_y, _x]\n",
    "            if tron:\n",
    "                print(f\"  new_distance is {new_distance} ({distance[y, x]} + {m[_y, _x]})\")\n",
    "            if new_distance < distance[_y, _x]:\n",
    "                distance[_y, _x] = new_distance\n",
    "                if tron: \n",
    "                    print(\"     - new distance set\")    \n",
    "            if (_y, _x) not in set([(yy, xx) for _, yy, xx in frontier]):\n",
    "                if tron:\n",
    "                    print(f\"     - Añade ({_value}, {_y}, {_x}) a la frontera\")\n",
    "                heappush(frontier, (new_distance, _y, _x))\n",
    "            \n",
    "        if tron:\n",
    "            print(f'  Frontera tiene ahora {len(frontier)} items')\n",
    "            for index, (v, y, x) in enumerate(frontier):\n",
    "                print(f'    - {index}) x={x} y={y} => {v}')\n",
    "            display(show_map(distance, set([(yy, xx) for _, yy, xx in frontier])))\n",
    "\n",
    "    return distance"
   ]
  },
  {
   "cell_type": "code",
   "execution_count": 10,
   "metadata": {},
   "outputs": [],
   "source": [
    "def find_shortest_path(distance):\n",
    "    max_y, max_x = distance.shape\n",
    "    x = max_x - 1\n",
    "    y = max_y - 1\n",
    "    value = distance[y, x]\n",
    "    while (y, x) != (0, 0):\n",
    "        yield (y, x)\n",
    "        value, y, x = min(neighbours(distance, y, x))"
   ]
  },
  {
   "cell_type": "code",
   "execution_count": 11,
   "metadata": {},
   "outputs": [],
   "source": [
    "def total_cost(m, path):\n",
    "    return sum([\n",
    "        m[y, x]\n",
    "        for y, x in path])"
   ]
  },
  {
   "cell_type": "code",
   "execution_count": 12,
   "metadata": {},
   "outputs": [
    {
     "data": {
      "text/html": [
       "<table>\n",
       "<tr>\n",
       "<td>1</td>\n",
       "<td>1</td>\n",
       "<td>6</td>\n",
       "<td>3</td>\n",
       "<td>7</td>\n",
       "<td>5</td>\n",
       "<td>1</td>\n",
       "<td>7</td>\n",
       "<td>4</td>\n",
       "<td>2</td>\n",
       "</tr>\n",
       "<tr>\n",
       "<th style=\"background-color: silver\"><b>1</b></th>\n",
       "<td>3</td>\n",
       "<td>8</td>\n",
       "<td>1</td>\n",
       "<td>3</td>\n",
       "<td>7</td>\n",
       "<td>3</td>\n",
       "<td>6</td>\n",
       "<td>7</td>\n",
       "<td>2</td>\n",
       "</tr>\n",
       "<tr>\n",
       "<th style=\"background-color: silver\"><b>2</b></th>\n",
       "<th style=\"background-color: silver\"><b>1</b></th>\n",
       "<th style=\"background-color: silver\"><b>3</b></th>\n",
       "<th style=\"background-color: silver\"><b>6</b></th>\n",
       "<th style=\"background-color: silver\"><b>5</b></th>\n",
       "<th style=\"background-color: silver\"><b>1</b></th>\n",
       "<th style=\"background-color: silver\"><b>1</b></th>\n",
       "<td>3</td>\n",
       "<td>2</td>\n",
       "<td>8</td>\n",
       "</tr>\n",
       "<tr>\n",
       "<td>3</td>\n",
       "<td>6</td>\n",
       "<td>9</td>\n",
       "<td>4</td>\n",
       "<td>9</td>\n",
       "<td>3</td>\n",
       "<th style=\"background-color: silver\"><b>1</b></th>\n",
       "<th style=\"background-color: silver\"><b>5</b></th>\n",
       "<td>6</td>\n",
       "<td>9</td>\n",
       "</tr>\n",
       "<tr>\n",
       "<td>7</td>\n",
       "<td>4</td>\n",
       "<td>6</td>\n",
       "<td>3</td>\n",
       "<td>4</td>\n",
       "<td>1</td>\n",
       "<td>7</td>\n",
       "<th style=\"background-color: silver\"><b>1</b></th>\n",
       "<th style=\"background-color: silver\"><b>1</b></th>\n",
       "<td>1</td>\n",
       "</tr>\n",
       "<tr>\n",
       "<td>1</td>\n",
       "<td>3</td>\n",
       "<td>1</td>\n",
       "<td>9</td>\n",
       "<td>1</td>\n",
       "<td>2</td>\n",
       "<td>8</td>\n",
       "<td>1</td>\n",
       "<th style=\"background-color: silver\"><b>3</b></th>\n",
       "<td>7</td>\n",
       "</tr>\n",
       "<tr>\n",
       "<td>1</td>\n",
       "<td>3</td>\n",
       "<td>5</td>\n",
       "<td>9</td>\n",
       "<td>9</td>\n",
       "<td>1</td>\n",
       "<td>2</td>\n",
       "<td>4</td>\n",
       "<th style=\"background-color: silver\"><b>2</b></th>\n",
       "<td>1</td>\n",
       "</tr>\n",
       "<tr>\n",
       "<td>3</td>\n",
       "<td>1</td>\n",
       "<td>2</td>\n",
       "<td>5</td>\n",
       "<td>4</td>\n",
       "<td>2</td>\n",
       "<td>1</td>\n",
       "<td>6</td>\n",
       "<th style=\"background-color: silver\"><b>3</b></th>\n",
       "<td>9</td>\n",
       "</tr>\n",
       "<tr>\n",
       "<td>1</td>\n",
       "<td>2</td>\n",
       "<td>9</td>\n",
       "<td>3</td>\n",
       "<td>1</td>\n",
       "<td>3</td>\n",
       "<td>8</td>\n",
       "<td>5</td>\n",
       "<th style=\"background-color: silver\"><b>2</b></th>\n",
       "<th style=\"background-color: silver\"><b>1</b></th>\n",
       "</tr>\n",
       "<tr>\n",
       "<td>2</td>\n",
       "<td>3</td>\n",
       "<td>1</td>\n",
       "<td>1</td>\n",
       "<td>9</td>\n",
       "<td>4</td>\n",
       "<td>4</td>\n",
       "<td>5</td>\n",
       "<td>8</td>\n",
       "<th style=\"background-color: silver\"><b>1</b></th>\n",
       "</tr>\n",
       "</table>"
      ],
      "text/plain": [
       "<IPython.core.display.HTML object>"
      ]
     },
     "metadata": {},
     "output_type": "display_data"
    },
    {
     "name": "stdout",
     "output_type": "stream",
     "text": [
      "Total cost: 40\n"
     ]
    }
   ],
   "source": [
    "m = load_input('15-sample.txt')\n",
    "assert m.shape == (10, 10)\n",
    "distance = dijkstra(m, tron=False)\n",
    "shortest_path = list(find_shortest_path(distance))\n",
    "display(show_map(m, shortest_path))\n",
    "print('Total cost:', total_cost(m, shortest_path))"
   ]
  },
  {
   "cell_type": "code",
   "execution_count": 13,
   "metadata": {},
   "outputs": [
    {
     "data": {
      "text/html": [
       "<table>\n",
       "<tr>\n",
       "<td>0</td>\n",
       "<td>1</td>\n",
       "<td>7</td>\n",
       "<td>10</td>\n",
       "<td>17</td>\n",
       "<td>22</td>\n",
       "<td>23</td>\n",
       "<td>30</td>\n",
       "<td>34</td>\n",
       "<td>36</td>\n",
       "</tr>\n",
       "<tr>\n",
       "<th style=\"background-color: silver\"><b>1</b></th>\n",
       "<td>4</td>\n",
       "<td>12</td>\n",
       "<td>11</td>\n",
       "<td>14</td>\n",
       "<td>21</td>\n",
       "<td>23</td>\n",
       "<td>29</td>\n",
       "<td>32</td>\n",
       "<td>34</td>\n",
       "</tr>\n",
       "<tr>\n",
       "<th style=\"background-color: silver\"><b>3</b></th>\n",
       "<th style=\"background-color: silver\"><b>4</b></th>\n",
       "<th style=\"background-color: silver\"><b>7</b></th>\n",
       "<th style=\"background-color: silver\"><b>13</b></th>\n",
       "<th style=\"background-color: silver\"><b>18</b></th>\n",
       "<th style=\"background-color: silver\"><b>19</b></th>\n",
       "<th style=\"background-color: silver\"><b>20</b></th>\n",
       "<td>23</td>\n",
       "<td>25</td>\n",
       "<td>33</td>\n",
       "</tr>\n",
       "<tr>\n",
       "<td>6</td>\n",
       "<td>10</td>\n",
       "<td>16</td>\n",
       "<td>17</td>\n",
       "<td>26</td>\n",
       "<td>22</td>\n",
       "<th style=\"background-color: silver\"><b>21</b></th>\n",
       "<th style=\"background-color: silver\"><b>26</b></th>\n",
       "<td>31</td>\n",
       "<td>38</td>\n",
       "</tr>\n",
       "<tr>\n",
       "<td>13</td>\n",
       "<td>14</td>\n",
       "<td>20</td>\n",
       "<td>20</td>\n",
       "<td>24</td>\n",
       "<td>23</td>\n",
       "<td>28</td>\n",
       "<th style=\"background-color: silver\"><b>27</b></th>\n",
       "<th style=\"background-color: silver\"><b>28</b></th>\n",
       "<td>29</td>\n",
       "</tr>\n",
       "<tr>\n",
       "<td>14</td>\n",
       "<td>17</td>\n",
       "<td>18</td>\n",
       "<td>27</td>\n",
       "<td>25</td>\n",
       "<td>25</td>\n",
       "<td>33</td>\n",
       "<td>28</td>\n",
       "<th style=\"background-color: silver\"><b>31</b></th>\n",
       "<td>36</td>\n",
       "</tr>\n",
       "<tr>\n",
       "<td>15</td>\n",
       "<td>18</td>\n",
       "<td>23</td>\n",
       "<td>32</td>\n",
       "<td>34</td>\n",
       "<td>26</td>\n",
       "<td>28</td>\n",
       "<td>32</td>\n",
       "<th style=\"background-color: silver\"><b>33</b></th>\n",
       "<td>34</td>\n",
       "</tr>\n",
       "<tr>\n",
       "<td>18</td>\n",
       "<td>19</td>\n",
       "<td>21</td>\n",
       "<td>26</td>\n",
       "<td>30</td>\n",
       "<td>28</td>\n",
       "<td>29</td>\n",
       "<td>35</td>\n",
       "<th style=\"background-color: silver\"><b>36</b></th>\n",
       "<td>43</td>\n",
       "</tr>\n",
       "<tr>\n",
       "<td>19</td>\n",
       "<td>21</td>\n",
       "<td>30</td>\n",
       "<td>29</td>\n",
       "<td>30</td>\n",
       "<td>31</td>\n",
       "<td>37</td>\n",
       "<td>40</td>\n",
       "<th style=\"background-color: silver\"><b>38</b></th>\n",
       "<th style=\"background-color: silver\"><b>39</b></th>\n",
       "</tr>\n",
       "<tr>\n",
       "<td>21</td>\n",
       "<td>24</td>\n",
       "<td>25</td>\n",
       "<td>26</td>\n",
       "<td>35</td>\n",
       "<td>35</td>\n",
       "<td>39</td>\n",
       "<td>44</td>\n",
       "<td>46</td>\n",
       "<th style=\"background-color: silver\"><b>40</b></th>\n",
       "</tr>\n",
       "</table>"
      ],
      "text/plain": [
       "<IPython.core.display.HTML object>"
      ]
     },
     "execution_count": 13,
     "metadata": {},
     "output_type": "execute_result"
    }
   ],
   "source": [
    "show_map(distance, shortest_path)"
   ]
  },
  {
   "cell_type": "markdown",
   "metadata": {},
   "source": [
    "## Solution part one"
   ]
  },
  {
   "cell_type": "code",
   "execution_count": 14,
   "metadata": {},
   "outputs": [
    {
     "name": "stdout",
     "output_type": "stream",
     "text": [
      "Total cost: 621\n"
     ]
    }
   ],
   "source": [
    "m = load_input('15-input.txt')\n",
    "assert m.shape == (100, 100)\n",
    "distance = dijkstra(m, tron=False)\n",
    "shortest_path = list(find_shortest_path(distance))\n",
    "print('Total cost:', total_cost(m, shortest_path))"
   ]
  },
  {
   "cell_type": "markdown",
   "metadata": {},
   "source": [
    "## Extra"
   ]
  },
  {
   "cell_type": "code",
   "execution_count": 15,
   "metadata": {},
   "outputs": [],
   "source": [
    "from PIL import Image, ImageDraw\n",
    "\n",
    "# https://betterfigures.org/2015/06/23/picking-a-colour-scale-for-scientific-graphics/\n",
    "\n",
    "\n",
    "COLOR_SCALE = [\n",
    "    '#800026',\n",
    "    '#be0026',\n",
    "    '#e41a1c',\n",
    "    '#fd4e2a',\n",
    "    '#fe8e3c',\n",
    "    '#ffb34c',\n",
    "    '#ffda76',\n",
    "    '#ffeea1',\n",
    "    '#ffffcd',\n",
    "    '#FFFFFF',\n",
    "]\n",
    "\n",
    "def iter_world(world):\n",
    "    max_y, max_x = world.shape\n",
    "    for y in range(max_y):\n",
    "        for x in range(max_x):\n",
    "            yield world[y, x], y, x\n",
    "            \n",
    "\n",
    "def draw_world(world, path=None, scale=5):\n",
    "    path = path or []\n",
    "    max_y, max_x = world.shape\n",
    "    new_size = (max_x * scale, max_y * scale)\n",
    "    img = Image.new('RGBA', new_size)\n",
    "    draw = ImageDraw.Draw(img)\n",
    "    for (level, y, x) in iter_world(world):\n",
    "        box = (x*scale, y*scale, x*scale+scale-2, y*scale+scale-2)\n",
    "        color = \"#000000\" if (y, x) in path else COLOR_SCALE[level]\n",
    "        draw.rectangle(box, fill=color)\n",
    "    return img"
   ]
  },
  {
   "cell_type": "code",
   "execution_count": 16,
   "metadata": {},
   "outputs": [
    {
     "data": {
      "image/png": "[encoded data removed]",
      "text/plain": [
       "<PIL.Image.Image image mode=RGBA size=200x200 at 0x7FEF06542C70>"
      ]
     },
     "execution_count": 16,
     "metadata": {},
     "output_type": "execute_result"
    }
   ],
   "source": [
    "m = load_input('15-sample.txt')\n",
    "distance = dijkstra(m, tron=False)\n",
    "shortest_path = list(find_shortest_path(distance))\n",
    "draw_world(m, shortest_path, scale=20)"
   ]
  },
  {
   "cell_type": "code",
   "execution_count": 17,
   "metadata": {},
   "outputs": [
    {
     "data": {
      "text/plain": [
       "(0,\n",
       " 46,\n",
       " array([[ 0,  1,  7, 10, 17, 22, 23, 30, 34, 36],\n",
       "        [ 1,  4, 12, 11, 14, 21, 23, 29, 32, 34],\n",
       "        [ 3,  4,  7, 13, 18, 19, 20, 23, 25, 33],\n",
       "        [ 6, 10, 16, 17, 26, 22, 21, 26, 31, 38],\n",
       "        [13, 14, 20, 20, 24, 23, 28, 27, 28, 29],\n",
       "        [14, 17, 18, 27, 25, 25, 33, 28, 31, 36],\n",
       "        [15, 18, 23, 32, 34, 26, 28, 32, 33, 34],\n",
       "        [18, 19, 21, 26, 30, 28, 29, 35, 36, 43],\n",
       "        [19, 21, 30, 29, 30, 31, 37, 40, 38, 39],\n",
       "        [21, 24, 25, 26, 35, 35, 39, 44, 46, 40]]))"
      ]
     },
     "execution_count": 17,
     "metadata": {},
     "output_type": "execute_result"
    }
   ],
   "source": [
    "distance.min(), distance.max(), distance"
   ]
  },
  {
   "cell_type": "code",
   "execution_count": 18,
   "metadata": {},
   "outputs": [
    {
     "name": "stdout",
     "output_type": "stream",
     "text": [
      "(100, 100)\n"
     ]
    },
    {
     "data": {
      "image/png": "[encoded data removed]",
      "text/plain": [
       "<PIL.Image.Image image mode=RGBA size=600x600 at 0x7FEF064B29D0>"
      ]
     },
     "execution_count": 18,
     "metadata": {},
     "output_type": "execute_result"
    }
   ],
   "source": [
    "m = load_input('15-input.txt')\n",
    "print(m.shape)\n",
    "distance = dijkstra(m, tron=False)\n",
    "shortest_path = list(find_shortest_path(distance))\n",
    "draw_world(m, shortest_path, scale=6)"
   ]
  },
  {
   "cell_type": "code",
   "execution_count": 25,
   "metadata": {},
   "outputs": [],
   "source": [
    "d = np.eye(3)"
   ]
  },
  {
   "cell_type": "code",
   "execution_count": 31,
   "metadata": {},
   "outputs": [
    {
     "data": {
      "text/plain": [
       "array([[3., 3., 4.],\n",
       "       [4., 6., 6.],\n",
       "       [8., 9., 2.]])"
      ]
     },
     "execution_count": 31,
     "metadata": {},
     "output_type": "execute_result"
    }
   ],
   "source": [
    "d + np.ones((3, 3)) + np.array([[1,2,3], [3,4,5], [7,8,9]]) % np.full((3, 3), 9)\n"
   ]
  },
  {
   "cell_type": "code",
   "execution_count": 37,
   "metadata": {},
   "outputs": [
    {
     "data": {
      "text/plain": [
       "array([[1., 0., 0., 1., 0., 0.],\n",
       "       [0., 1., 0., 0., 1., 0.],\n",
       "       [0., 0., 1., 0., 0., 1.]])"
      ]
     },
     "execution_count": 37,
     "metadata": {},
     "output_type": "execute_result"
    }
   ],
   "source": [
    "np.concatenate((np.eye(3), np.eye(3)), axis=1)"
   ]
  },
  {
   "cell_type": "code",
   "execution_count": null,
   "metadata": {},
   "outputs": [],
   "source": []
  }
 ],
 "metadata": {
  "kernelspec": {
   "display_name": "Python 3",
   "language": "python",
   "name": "python3"
  },
  "language_info": {
   "codemirror_mode": {
    "name": "ipython",
    "version": 3
   },
   "file_extension": ".py",
   "mimetype": "text/x-python",
   "name": "python",
   "nbconvert_exporter": "python",
   "pygments_lexer": "ipython3",
   "version": "3.8.10"
  }
 },
 "nbformat": 4,
 "nbformat_minor": 4
}
