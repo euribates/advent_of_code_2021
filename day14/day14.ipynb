{
 "cells": [
  {
   "cell_type": "markdown",
   "metadata": {},
   "source": [
    "# Day 14: Extended Polymerization"
   ]
  },
  {
   "cell_type": "code",
   "execution_count": 1,
   "metadata": {},
   "outputs": [],
   "source": [
    "from collections import Counter"
   ]
  },
  {
   "cell_type": "code",
   "execution_count": 2,
   "metadata": {},
   "outputs": [],
   "source": [
    "def load_input(filename):\n",
    "    rules = {}\n",
    "    with open(filename) as fr:\n",
    "        root = fr.readline().strip()\n",
    "        fr.readline()\n",
    "        for line in fr.readlines():\n",
    "            f, t = line.strip().split(' -> ')\n",
    "            rules[f[0], f[1]] = t\n",
    "    return root, rules\n",
    "        "
   ]
  },
  {
   "cell_type": "code",
   "execution_count": 3,
   "metadata": {},
   "outputs": [],
   "source": [
    "root, rules = load_input('14-sample.txt')\n",
    "assert root == 'NNCB'\n",
    "assert len(rules) == 16\n",
    "assert rules['H', 'B'] == 'C'"
   ]
  },
  {
   "cell_type": "code",
   "execution_count": 4,
   "metadata": {},
   "outputs": [],
   "source": [
    "def polimerize(seq, rules):\n",
    "    seq = iter(seq)\n",
    "    a = next(seq)\n",
    "    yield a\n",
    "    for b in seq:\n",
    "        yield rules[a, b]\n",
    "        yield b\n",
    "        a = b"
   ]
  },
  {
   "cell_type": "code",
   "execution_count": 5,
   "metadata": {},
   "outputs": [],
   "source": [
    "root, rules = load_input('14-sample.txt')\n",
    "assert ''.join(polimerize(root, rules)) == 'NCNBCHB'"
   ]
  },
  {
   "cell_type": "code",
   "execution_count": 6,
   "metadata": {},
   "outputs": [],
   "source": [
    "initial, rules = load_input('14-sample.txt')\n",
    "for _ in range(4):\n",
    "    initial = ''.join(polimerize(initial, rules))\n",
    "assert initial  == 'NBBNBNBBCCNBCNCCNBBNBBNBBBNBBNBBCBHCBHHNHCBBCBHCB'"
   ]
  },
  {
   "cell_type": "markdown",
   "metadata": {},
   "source": [
    "This polymer grows quickly. After step $5$, it has length $97$; After step $10$, it has length $3073$. After step $10$, `B` occurs $1749$ times, `C` occurs $298$ times, `H` occurs $161$ times, and `N` occurs $865$ times; taking the quantity of the most common element `(B, 1749)` and subtracting the quantity of the least common element `(H, 161)` produces $1749 - 161 = 1588$.\n",
    "\n"
   ]
  },
  {
   "cell_type": "code",
   "execution_count": 7,
   "metadata": {},
   "outputs": [],
   "source": [
    "initial, rules = load_input('14-sample.txt')\n",
    "for _ in range(5):\n",
    "    initial = ''.join(polimerize(initial, rules))\n",
    "assert len(initial) == 97\n",
    "for _ in range(5):\n",
    "    initial = ''.join(polimerize(initial, rules))\n",
    "assert len(initial) == 3073\n",
    "\n",
    "assert initial.count('B') == 1749\n",
    "assert initial.count('C') == 298\n",
    "assert initial.count('H') == 161\n",
    "assert initial.count('N') == 865"
   ]
  },
  {
   "cell_type": "code",
   "execution_count": 8,
   "metadata": {},
   "outputs": [],
   "source": [
    "def solution_part_one(filename, iterations=10):\n",
    "    initial, rules = load_input(filename)\n",
    "    for _ in range(iterations):\n",
    "        initial = ''.join(polimerize(initial, rules))\n",
    "    c = Counter(initial)\n",
    "    most_common = c.most_common()\n",
    "    _, max_count = most_common[0]\n",
    "    _, min_count = most_common[-1]\n",
    "    return max_count - min_count\n",
    "    "
   ]
  },
  {
   "cell_type": "code",
   "execution_count": 9,
   "metadata": {},
   "outputs": [],
   "source": [
    "assert solution_part_one('14-sample.txt') == 1588"
   ]
  },
  {
   "cell_type": "markdown",
   "metadata": {},
   "source": [
    "## Solution part one"
   ]
  },
  {
   "cell_type": "code",
   "execution_count": 10,
   "metadata": {},
   "outputs": [
    {
     "name": "stdout",
     "output_type": "stream",
     "text": [
      "Solution part one: 3906\n"
     ]
    }
   ],
   "source": [
    "sol = solution_part_one('14-input.txt')\n",
    "print(f\"Solution part one: {sol}\")"
   ]
  },
  {
   "cell_type": "markdown",
   "metadata": {},
   "source": [
    "## Part two"
   ]
  },
  {
   "cell_type": "code",
   "execution_count": 11,
   "metadata": {},
   "outputs": [
    {
     "name": "stdout",
     "output_type": "stream",
     "text": [
      "N\n",
      "C\n",
      "N\n",
      "B\n",
      "C\n",
      "H\n",
      "B\n"
     ]
    }
   ],
   "source": [
    "initial, rules = load_input('14-sample.txt')\n",
    "for c in polimerize(iter(initial), rules):\n",
    "    print(c)"
   ]
  },
  {
   "cell_type": "markdown",
   "metadata": {},
   "source": [
    "Template:     `NNCB`\n",
    "        \n",
    "- After step 1: `NCNBCHB`\n",
    "- After step 2: `NBCCNBBBCBHCB`\n",
    "- After step 3: `NBBBCNCCNBBNBNBBCHBHHBCHB`\n",
    "- After step 4: `NBBNBNBBCCNBCNCCNBBNBBNBBBNBBNBBCBHCBHHNHCBBCBHCB`"
   ]
  },
  {
   "cell_type": "code",
   "execution_count": 12,
   "metadata": {},
   "outputs": [],
   "source": [
    "initial, rules = load_input('14-sample.txt')\n",
    "\n",
    "def level0():\n",
    "    for c in iter(polimerize(initial, rules)):\n",
    "        yield c\n",
    "\n",
    "def level1():\n",
    "    for c in polimerize(level0(), rules):\n",
    "        yield c\n",
    "        \n",
    "def level2():\n",
    "    for c in polimerize(level1(), rules):\n",
    "        yield c   \n",
    "        \n",
    "def level3():\n",
    "    for c in polimerize(level2(), rules):\n",
    "        yield c   \n",
    "        "
   ]
  },
  {
   "cell_type": "code",
   "execution_count": 13,
   "metadata": {},
   "outputs": [],
   "source": [
    "assert ''.join(level0()) == 'NCNBCHB'\n",
    "assert ''.join(level1()) == 'NBCCNBBBCBHCB'\n",
    "assert ''.join(level2()) == 'NBBBCNCCNBBNBNBBCHBHHBCHB'\n",
    "assert ''.join(level3()) == 'NBBNBNBBCCNBCNCCNBBNBBNBBBNBBNBBCBHCBHHNHCBBCBHCB'"
   ]
  },
  {
   "cell_type": "code",
   "execution_count": 14,
   "metadata": {},
   "outputs": [
    {
     "name": "stdout",
     "output_type": "stream",
     "text": [
      "  recursive_polimerize level 1\n",
      "  Leaving level 1\n",
      "   recursive_polimerize level 2\n",
      "  recursive_polimerize level 1\n",
      "  Leaving level 1\n",
      "   Leaving level 2\n",
      "    recursive_polimerize level 3\n",
      "   recursive_polimerize level 2\n",
      "  recursive_polimerize level 1\n",
      "  Leaving level 1\n",
      "   Leaving level 2\n",
      "    Leaving level 3\n",
      "     recursive_polimerize level 4\n",
      "    recursive_polimerize level 3\n",
      "   recursive_polimerize level 2\n",
      "  recursive_polimerize level 1\n",
      "  Leaving level 1\n",
      "   Leaving level 2\n",
      "    Leaving level 3\n",
      "     Leaving level 4\n"
     ]
    }
   ],
   "source": [
    "def recursive_polimerize(initial, rules, level=40, tron=False):\n",
    "    if tron:\n",
    "        print(\" \"*level, f\"recursive_polimerize level {level}\")\n",
    "    if level < 0:\n",
    "        for c in initial:\n",
    "            yield c\n",
    "    elif level == 1:\n",
    "        for c in polimerize(initial, rules):\n",
    "            yield c\n",
    "    else:\n",
    "        for c in polimerize(recursive_polimerize(initial, rules, level-1, tron=tron), rules):\n",
    "            yield c\n",
    "    if tron:\n",
    "        print(\" \"*level, f\"Leaving level {level}\")\n",
    "            \n",
    "assert ''.join(recursive_polimerize(initial, rules, level=1, tron=True)) == 'NCNBCHB'\n",
    "assert ''.join(recursive_polimerize(initial, rules, level=2, tron=True)) == 'NBCCNBBBCBHCB'\n",
    "assert ''.join(recursive_polimerize(initial, rules, level=3, tron=True)) == 'NBBBCNCCNBBNBNBBCHBHHBCHB'\n",
    "assert ''.join(recursive_polimerize(initial, rules, level=4, tron=True)) == 'NBBNBNBBCCNBCNCCNBBNBBNBBBNBBNBBCBHCBHHNHCBBCBHCB'"
   ]
  },
  {
   "cell_type": "markdown",
   "metadata": {},
   "source": [
    "This polymer grows quickly. After step  5 , it has length  97 ; After step  10 , it has length  3073 . After step  10 , B occurs  1749  times, C occurs  298  times, H occurs  161  times, and N occurs  865  times; taking the quantity of the most common element (B, 1749) and subtracting the quantity of the least common element (H, 161) produces  1749−161=1588 ."
   ]
  },
  {
   "cell_type": "code",
   "execution_count": 15,
   "metadata": {},
   "outputs": [],
   "source": [
    "assert len(''.join(recursive_polimerize(initial, rules, level=5))) == 97\n",
    "assert len(''.join(recursive_polimerize(initial, rules, level=10))) == 3073"
   ]
  },
  {
   "cell_type": "code",
   "execution_count": 43,
   "metadata": {},
   "outputs": [],
   "source": [
    "def solution_part_two(filename, iterations=10, tron=False):\n",
    "    initial, rules = load_input(filename)\n",
    "    initial = initial[0:2]\n",
    "    counter = Counter()\n",
    "    for c in recursive_polimerize(initial, rules, iterations, tron=tron):\n",
    "        counter[c] += 1\n",
    "    most_common = counter.most_common()\n",
    "    _, max_count = most_common[0]\n",
    "    _, min_count = most_common[-1]\n",
    "    return max_count - min_count"
   ]
  },
  {
   "cell_type": "code",
   "execution_count": 44,
   "metadata": {},
   "outputs": [
    {
     "ename": "AssertionError",
     "evalue": "",
     "output_type": "error",
     "traceback": [
      "\u001b[0;31m---------------------------------------------------------------------------\u001b[0m",
      "\u001b[0;31mAssertionError\u001b[0m                            Traceback (most recent call last)",
      "\u001b[0;32m<ipython-input-44-45d13342a781>\u001b[0m in \u001b[0;36m<module>\u001b[0;34m\u001b[0m\n\u001b[0;32m----> 1\u001b[0;31m \u001b[0;32massert\u001b[0m \u001b[0msolution_part_two\u001b[0m\u001b[0;34m(\u001b[0m\u001b[0;34m'14-sample.txt'\u001b[0m\u001b[0;34m,\u001b[0m \u001b[0miterations\u001b[0m\u001b[0;34m=\u001b[0m\u001b[0;36m10\u001b[0m\u001b[0;34m)\u001b[0m \u001b[0;34m==\u001b[0m \u001b[0;36m1588\u001b[0m\u001b[0;34m\u001b[0m\u001b[0;34m\u001b[0m\u001b[0m\n\u001b[0m",
      "\u001b[0;31mAssertionError\u001b[0m: "
     ]
    }
   ],
   "source": [
    "assert solution_part_two('14-sample.txt', iterations=10) == 1588"
   ]
  },
  {
   "cell_type": "code",
   "execution_count": 45,
   "metadata": {},
   "outputs": [
    {
     "name": "stdout",
     "output_type": "stream",
     "text": [
      "                         recursive_polimerize level 24\n",
      "                        recursive_polimerize level 23\n",
      "                       recursive_polimerize level 22\n",
      "                      recursive_polimerize level 21\n",
      "                     recursive_polimerize level 20\n",
      "                    recursive_polimerize level 19\n",
      "                   recursive_polimerize level 18\n",
      "                  recursive_polimerize level 17\n",
      "                 recursive_polimerize level 16\n",
      "                recursive_polimerize level 15\n",
      "               recursive_polimerize level 14\n",
      "              recursive_polimerize level 13\n",
      "             recursive_polimerize level 12\n",
      "            recursive_polimerize level 11\n",
      "           recursive_polimerize level 10\n",
      "          recursive_polimerize level 9\n",
      "         recursive_polimerize level 8\n",
      "        recursive_polimerize level 7\n",
      "       recursive_polimerize level 6\n",
      "      recursive_polimerize level 5\n",
      "     recursive_polimerize level 4\n",
      "    recursive_polimerize level 3\n",
      "   recursive_polimerize level 2\n",
      "  recursive_polimerize level 1\n",
      "  Leaving level 1\n",
      "   Leaving level 2\n",
      "    Leaving level 3\n",
      "     Leaving level 4\n",
      "      Leaving level 5\n",
      "       Leaving level 6\n",
      "        Leaving level 7\n",
      "         Leaving level 8\n",
      "          Leaving level 9\n",
      "           Leaving level 10\n",
      "            Leaving level 11\n",
      "             Leaving level 12\n",
      "              Leaving level 13\n",
      "               Leaving level 14\n",
      "                Leaving level 15\n",
      "                 Leaving level 16\n",
      "                  Leaving level 17\n",
      "                   Leaving level 18\n",
      "                    Leaving level 19\n",
      "                     Leaving level 20\n",
      "                      Leaving level 21\n",
      "                       Leaving level 22\n",
      "                        Leaving level 23\n",
      "                         Leaving level 24\n",
      "Solution part two: 3613929\n",
      "CPU times: user 5.41 s, sys: 8.01 ms, total: 5.41 s\n",
      "Wall time: 5.42 s\n"
     ]
    }
   ],
   "source": [
    "%%time\n",
    "sol = solution_part_two('14-input.txt', iterations=24, tron=True)\n",
    "print(f\"Solution part two: {sol}\")"
   ]
  },
  {
   "cell_type": "code",
   "execution_count": 36,
   "metadata": {},
   "outputs": [
    {
     "data": {
      "text/plain": [
       "1.2086329459655686e+21"
      ]
     },
     "execution_count": 36,
     "metadata": {},
     "output_type": "execute_result"
    }
   ],
   "source": [
    "\n",
    "pow(48, 17) / (60*60*24*365)"
   ]
  },
  {
   "cell_type": "code",
   "execution_count": 42,
   "metadata": {},
   "outputs": [
    {
     "name": "stdout",
     "output_type": "stream",
     "text": [
      "1 5 2.5 -2.5\n",
      "2 10 5.0 0.0\n",
      "3 23 11.5 -1.5\n",
      "4 54 27.0 -4.0\n",
      "5 104 52.0 2.0\n",
      "6 216 108.0 -4.0\n",
      "7 462 231.0 -15.0\n",
      "8 935 467.5 -5.5\n",
      "9 1922 961.0 -26.0\n",
      "10 3906 1953.0 -31.0\n",
      "11 8042 4021.0 -115.0\n",
      "12 16200 8100.0 -58.0\n",
      "13 32818 16409.0 -209.0\n",
      "14 65868 32934.0 -116.0\n",
      "15 132545 66272.5 -404.5\n",
      "16 265621 132810.5 -265.5\n",
      "17 532278 266139.0 -518.0\n",
      "18 1065347 532673.5 -395.5\n",
      "19 2131750 1065875.0 -528.0\n",
      "20 4263987 2131993.5 -243.5\n",
      "21 8526311 4263155.5 831.5\n",
      "22 17047775 8523887.5 2423.5\n",
      "23 34081836 17040918.0 6857.0\n"
     ]
    }
   ],
   "source": [
    "prev = 0\n",
    "for i in range(1, 24):\n",
    "    sol = solution_part_two('14-input.txt', iterations=i)\n",
    "    print(f\"{i} {sol} {sol/2} {prev-sol/2}\")\n",
    "    prev = sol"
   ]
  },
  {
   "cell_type": "code",
   "execution_count": 38,
   "metadata": {},
   "outputs": [
    {
     "data": {
      "text/plain": [
       "1065875.0"
      ]
     },
     "execution_count": 38,
     "metadata": {},
     "output_type": "execute_result"
    }
   ],
   "source": [
    "2131750 / 2"
   ]
  },
  {
   "cell_type": "code",
   "execution_count": null,
   "metadata": {},
   "outputs": [],
   "source": []
  }
 ],
 "metadata": {
  "kernelspec": {
   "display_name": "Python 3",
   "language": "python",
   "name": "python3"
  },
  "language_info": {
   "codemirror_mode": {
    "name": "ipython",
    "version": 3
   },
   "file_extension": ".py",
   "mimetype": "text/x-python",
   "name": "python",
   "nbconvert_exporter": "python",
   "pygments_lexer": "ipython3",
   "version": "3.8.10"
  }
 },
 "nbformat": 4,
 "nbformat_minor": 4
}
