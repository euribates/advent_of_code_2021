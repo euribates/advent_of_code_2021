{
 "cells": [
  {
   "cell_type": "markdown",
   "metadata": {},
   "source": [
    "# Day 14: Extended Polymerization"
   ]
  },
  {
   "cell_type": "code",
   "execution_count": 1,
   "metadata": {},
   "outputs": [],
   "source": [
    "from collections import Counter"
   ]
  },
  {
   "cell_type": "code",
   "execution_count": 2,
   "metadata": {},
   "outputs": [],
   "source": [
    "def load_input(filename):\n",
    "    rules = {}\n",
    "    with open(filename) as fr:\n",
    "        root = fr.readline().strip()\n",
    "        fr.readline()\n",
    "        for line in fr.readlines():\n",
    "            f, t = line.strip().split(' -> ')\n",
    "            rules[f] = t\n",
    "    return root, rules\n",
    "        "
   ]
  },
  {
   "cell_type": "code",
   "execution_count": 3,
   "metadata": {},
   "outputs": [],
   "source": [
    "root, rules = load_input('14-sample.txt')\n",
    "assert root == 'NNCB'\n",
    "assert len(rules) == 16\n",
    "assert rules['HB'] == 'C'"
   ]
  },
  {
   "cell_type": "code",
   "execution_count": 4,
   "metadata": {},
   "outputs": [],
   "source": [
    "def polymerize(seq, rules):\n",
    "    seq = iter(seq)\n",
    "    a = next(seq)\n",
    "    yield a\n",
    "    for b in seq:\n",
    "        yield rules[''.join([a, b])]\n",
    "        yield b\n",
    "        a = b"
   ]
  },
  {
   "cell_type": "code",
   "execution_count": 5,
   "metadata": {},
   "outputs": [],
   "source": [
    "root, rules = load_input('14-sample.txt')\n",
    "assert ''.join(polymerize(root, rules)) == 'NCNBCHB'"
   ]
  },
  {
   "cell_type": "code",
   "execution_count": 6,
   "metadata": {},
   "outputs": [],
   "source": [
    "initial, rules = load_input('14-sample.txt')\n",
    "for _ in range(4):\n",
    "    initial = ''.join(polymerize(initial, rules))\n",
    "assert initial  == 'NBBNBNBBCCNBCNCCNBBNBBNBBBNBBNBBCBHCBHHNHCBBCBHCB'"
   ]
  },
  {
   "cell_type": "markdown",
   "metadata": {},
   "source": [
    "This polymer grows quickly. After step $5$, it has length $97$; After step $10$, it has length $3073$. After step $10$, `B` occurs $1749$ times, `C` occurs $298$ times, `H` occurs $161$ times, and `N` occurs $865$ times; taking the quantity of the most common element `(B, 1749)` and subtracting the quantity of the least common element `(H, 161)` produces $1749 - 161 = 1588$.\n",
    "\n"
   ]
  },
  {
   "cell_type": "code",
   "execution_count": 7,
   "metadata": {},
   "outputs": [],
   "source": [
    "def get_polymer(initial, rules, level):\n",
    "    result = initial\n",
    "    for _ in range(level):\n",
    "        result = ''.join(polymerize(result, rules))\n",
    "    return result"
   ]
  },
  {
   "cell_type": "code",
   "execution_count": 8,
   "metadata": {},
   "outputs": [],
   "source": [
    "initial, rules = load_input('14-sample.txt')\n",
    "assert len(get_polymer(initial, rules, 5)) == 97\n",
    "\n",
    "polymer = get_polymer(initial, rules, 10)\n",
    "assert len(polymer) == 3073\n",
    "assert polymer.count('B') == 1749\n",
    "assert polymer.count('C') == 298\n",
    "assert polymer.count('H') == 161\n",
    "assert polymer.count('N') == 865"
   ]
  },
  {
   "cell_type": "code",
   "execution_count": 9,
   "metadata": {},
   "outputs": [],
   "source": [
    "def solution_part_one(filename, iterations=10):\n",
    "    initial, rules = load_input(filename)\n",
    "    polymer = get_polymer(initial, rules, iterations)\n",
    "    c = Counter(polymer)\n",
    "    most_common = c.most_common()\n",
    "    _, max_count = most_common[0]\n",
    "    _, min_count = most_common[-1]\n",
    "    return max_count - min_count\n",
    "    "
   ]
  },
  {
   "cell_type": "code",
   "execution_count": 10,
   "metadata": {},
   "outputs": [],
   "source": [
    "assert solution_part_one('14-sample.txt') == 1588"
   ]
  },
  {
   "cell_type": "markdown",
   "metadata": {},
   "source": [
    "## Solution part one"
   ]
  },
  {
   "cell_type": "code",
   "execution_count": 11,
   "metadata": {},
   "outputs": [
    {
     "name": "stdout",
     "output_type": "stream",
     "text": [
      "Solution part one: 3906\n"
     ]
    }
   ],
   "source": [
    "sol = solution_part_one('14-input.txt')\n",
    "print(f\"Solution part one: {sol}\")"
   ]
  },
  {
   "cell_type": "markdown",
   "metadata": {},
   "source": [
    "## Part two"
   ]
  },
  {
   "cell_type": "code",
   "execution_count": 12,
   "metadata": {},
   "outputs": [],
   "source": [
    "import itertools\n",
    "import time\n",
    "import datetime\n",
    "import functools\n",
    "\n",
    "def pairs(seq):\n",
    "    a, b = itertools.tee(seq, 2)\n",
    "    next(b)\n",
    "    for i0, i1 in zip(a, b):\n",
    "        yield ''.join([i0, i1])\n",
    "\n",
    "\n",
    "assert list(pairs('ABC')) == ['AB', 'BC']\n",
    "assert list(pairs('NNCB')) == ['NN', 'NC', 'CB']"
   ]
  },
  {
   "cell_type": "code",
   "execution_count": 13,
   "metadata": {},
   "outputs": [
    {
     "name": "stdout",
     "output_type": "stream",
     "text": [
      "ABCABCBBCAACABCABCBBCAACBBCABCBBCAACABCAACBBCAACABCABCBBCAACABCABCBBCAACBBCABCBBCAACABCAACBBCAACBBCABCBBCAACABCABCBBCAACBBCABCBBCAACABCAACBBCAACABCABCBBCAACABCAACBBCAACBBCABCBBCAACABCAACBBCAACABCABCBBCAACABCABCBBCAACBBCABCBBCAACABCAACBBCAACABCABCBBCAACABCABCBBCAACBBCABCBBCAACABCAACBBCAACBBCABCBBCAACABCABCBBCAACBBCABCBBCAACABCAACBBCAACABCABCBBCAACABCAACBBCAACBBCABCBBCAACABCAACBBCAACBBCABCBBCAACABCABCBBCAACBBCABCBBCAACABCAACBBCAACABCABCBBCAACABCABCBBCAACBBCABCBBCAACABCAACBBCAACBBCABCBBCAACABCABCBBCAACBBCABCBBCAACABCAACBBCAACABCABCBBCAACABCAACBBCAACBBCABCBBCAACABCAACBBCAACABCABCBBCAACABCABCBBCAACBBCABCBBCAACABCAACBBCAACABCABCBBCAACABCAACBBCAACBBCABCBBCAACABCAACBBCAACBBCABCBBCAACABCABCBBCAACBBCABCBBCAACABCAACBBCAACABCABCBBCAACABCAACBBCAACBBCABCBBCAACABCAACBBCAACABCABCBBCAACABCABCBBCAACBBCABCBBCAACABCAACBBCAACABCABCBBCAACABCABCBBCAACBBCABCBBCAACABCAACBBCAACBBCABCBBCAACABCABCBBCAACBBCABCBBCAACABCAACBBCAACABCABCBBCAACABCAACBBCAACBBCABCBBCAACABCAACBBCAACABCABCBBCAACABCABCBBCAACBBCABCBBCAACABCAACBBCAACABCABCBBCAACABCAB\n"
     ]
    }
   ],
   "source": [
    "initial, rules = load_input('14-simple.txt')\n",
    "print(get_polymer(initial, rules, 10))"
   ]
  },
  {
   "cell_type": "code",
   "execution_count": 14,
   "metadata": {},
   "outputs": [],
   "source": [
    "def drop_zeros(dd):\n",
    "    return Counter({ k: dd[k] for k in dd if dd[k] != 0})\n",
    "             \n",
    "counter = Counter('abcx')\n",
    "counter['x'] -= 1\n",
    "counter = drop_zeros(counter)\n",
    "assert 'x' not in counter\n",
    "assert len(counter) == 3"
   ]
  },
  {
   "cell_type": "code",
   "execution_count": 15,
   "metadata": {},
   "outputs": [
    {
     "name": "stdout",
     "output_type": "stream",
     "text": [
      "Counter({'C': 3, 'B': 3, 'A': 3})\n"
     ]
    }
   ],
   "source": [
    "def matraca(filename, level, tron=False, show_cache_stats=False):\n",
    "    initial, rules = load_input(filename)\n",
    "    result = Counter()\n",
    "    num_symbols = len(set(rules))\n",
    "    max_level = level\n",
    "    \n",
    "    @functools.lru_cache(40*num_symbols*num_symbols)\n",
    "    def sumsub(root, level, tron=False):\n",
    "        delta = max_level - level\n",
    "        if tron: \n",
    "            print(\" \" * level, f\"- Called sumsub({root!r}, level={level!r}) [delta: {delta}\")\n",
    "        if delta < 1:\n",
    "            return {}\n",
    "        elif delta == 1:\n",
    "            left, right = root\n",
    "            ax = rules[root]\n",
    "            return Counter([left, ax, right])\n",
    "        if delta > 1:\n",
    "            left, right = root  \n",
    "            ax = rules[root]\n",
    "            result = Counter({ax: -1})\n",
    "            left_branch = f'{left}{ax}'\n",
    "            result.update(sumsub(left_branch, level+1, tron))\n",
    "            right_branch = f'{ax}{right}'\n",
    "            result.update(sumsub(right_branch, level+1, tron))\n",
    "            return result\n",
    "    sumsub.cache_clear()\n",
    "\n",
    "    if level == 0:\n",
    "        return Counter(initial)\n",
    "    if tron:\n",
    "        polimer = get_polymer(initial, rules, max_level)\n",
    "        print(f'polimer por level {level}: {polimer}')\n",
    "        print(f'root por level {level}: {initial[0:2]}')\n",
    "    result = Counter()\n",
    "    for a, b in pairs(initial):\n",
    "        subpart = Counter()\n",
    "        if tron:\n",
    "            print(f\"Analyzing {a}{b}\")\n",
    "        subpart.update(sumsub(f\"{a}{b}\", 0))\n",
    "        if tron: \n",
    "            polymer = get_polymer(f\"{a}{b}\", rules, max_level)\n",
    "            print(f\" - polymer: {polymer}\")\n",
    "            print(f\" - subtree {a}{b} delivers: {subpart}\")\n",
    "        subpart[b] -= 1\n",
    "        result.update(subpart)\n",
    "    if b in result:\n",
    "        result[b] += 1\n",
    "    if show_cache_stats:\n",
    "        print(sumsub.cache_info())\n",
    "    return drop_zeros(result)\n",
    "\n",
    "print(matraca('14-simple.txt', 3))"
   ]
  },
  {
   "cell_type": "code",
   "execution_count": 16,
   "metadata": {},
   "outputs": [],
   "source": [
    "assert matraca('14-simple.txt', 0) == Counter({'A': 1, 'B': 1})\n",
    "assert matraca('14-simple.txt', 1) == Counter({'A': 1, 'B': 1, 'C': 1})\n",
    "assert matraca('14-simple.txt', 2) == Counter({'A': 2, 'B': 2, 'C': 1})\n",
    "assert matraca('14-simple.txt', 3) == Counter({'A': 3, 'B': 3, 'C': 3})"
   ]
  },
  {
   "cell_type": "code",
   "execution_count": 17,
   "metadata": {},
   "outputs": [],
   "source": [
    "initial, rules = load_input('14-simple.txt')\n",
    "for level in range(4, 12):\n",
    "    polymer = get_polymer(initial, rules, level)\n",
    "    assert matraca('14-simple.txt', level) == Counter(polymer)"
   ]
  },
  {
   "cell_type": "markdown",
   "metadata": {},
   "source": [
    "### Tests with sample"
   ]
  },
  {
   "cell_type": "code",
   "execution_count": 18,
   "metadata": {},
   "outputs": [],
   "source": [
    "assert matraca('14-sample.txt', 0) == Counter('NNCB')\n",
    "assert matraca('14-sample.txt', 1) == Counter('NCNBCHB')\n",
    "assert matraca('14-sample.txt', 2) == Counter('NBCCNBBBCBHCB')\n",
    "assert matraca('14-sample.txt', 3) == Counter('NBBBCNCCNBBNBNBBCHBHHBCHB')"
   ]
  },
  {
   "cell_type": "code",
   "execution_count": 19,
   "metadata": {},
   "outputs": [
    {
     "name": "stdout",
     "output_type": "stream",
     "text": [
      "4 True\n",
      "5 True\n",
      "6 True\n",
      "7 True\n",
      "8 True\n",
      "9 True\n",
      "10 True\n",
      "11 True\n",
      "12 True\n",
      "13 True\n",
      "14 True\n",
      "15 True\n",
      "16 True\n",
      "17 True\n",
      "18 True\n",
      "19 True\n",
      "20 True\n",
      "21 True\n"
     ]
    }
   ],
   "source": [
    "initial, rules = load_input('14-sample.txt')\n",
    "for level in range(4, 22):\n",
    "    polymer = get_polymer(initial, rules, level)\n",
    "    assert matraca('14-sample.txt', level) == Counter(polymer)\n",
    "    print(level, True)"
   ]
  },
  {
   "cell_type": "code",
   "execution_count": 20,
   "metadata": {},
   "outputs": [],
   "source": [
    "def solution_part_two(filename, iterations=10):\n",
    "    initial, rules = load_input(filename)\n",
    "    c = matraca(filename, iterations)\n",
    "    most_common = c.most_common()\n",
    "    _, max_count = most_common[0]\n",
    "    _, min_count = most_common[-1]\n",
    "    return max_count - min_count"
   ]
  },
  {
   "cell_type": "code",
   "execution_count": 21,
   "metadata": {},
   "outputs": [],
   "source": [
    "assert solution_part_two('14-sample.txt', 10) == 1588"
   ]
  },
  {
   "cell_type": "code",
   "execution_count": 22,
   "metadata": {},
   "outputs": [],
   "source": [
    "assert solution_part_two('14-sample.txt', 40) == 2188189693529"
   ]
  },
  {
   "cell_type": "markdown",
   "metadata": {},
   "source": [
    "## Solution part two"
   ]
  },
  {
   "cell_type": "code",
   "execution_count": 23,
   "metadata": {},
   "outputs": [
    {
     "name": "stdout",
     "output_type": "stream",
     "text": [
      "Solution part two: 4441317262452\n"
     ]
    }
   ],
   "source": [
    "sol = solution_part_two('14-input.txt', 40)\n",
    "print(f\"Solution part two: {sol}\")"
   ]
  }
 ],
 "metadata": {
  "kernelspec": {
   "display_name": "Python 3",
   "language": "python",
   "name": "python3"
  },
  "language_info": {
   "codemirror_mode": {
    "name": "ipython",
    "version": 3
   },
   "file_extension": ".py",
   "mimetype": "text/x-python",
   "name": "python",
   "nbconvert_exporter": "python",
   "pygments_lexer": "ipython3",
   "version": "3.8.10"
  }
 },
 "nbformat": 4,
 "nbformat_minor": 4
}
