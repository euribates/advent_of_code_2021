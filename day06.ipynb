{
 "cells": [
  {
   "cell_type": "markdown",
   "metadata": {},
   "source": [
    "# Day 6: Lanternfish"
   ]
  },
  {
   "cell_type": "markdown",
   "metadata": {},
   "source": [
    "## First part"
   ]
  },
  {
   "cell_type": "code",
   "execution_count": 1,
   "metadata": {},
   "outputs": [],
   "source": [
    "from dataclasses import dataclass"
   ]
  },
  {
   "cell_type": "code",
   "execution_count": 2,
   "metadata": {},
   "outputs": [],
   "source": [
    "def load_data(filename):\n",
    "    with open(filename) as f:\n",
    "        for item in f.read().strip().split(','):\n",
    "            yield int(item)"
   ]
  },
  {
   "cell_type": "code",
   "execution_count": 3,
   "metadata": {},
   "outputs": [],
   "source": [
    "assert list(load_data('06-sample.txt')) == [3,4,3,1,2]"
   ]
  },
  {
   "cell_type": "code",
   "execution_count": 4,
   "metadata": {},
   "outputs": [],
   "source": [
    "@dataclass\n",
    "class LanternFish:\n",
    "    counter: int\n",
    "        \n",
    "    def tick(self):\n",
    "        result = None\n",
    "        self.counter -= 1\n",
    "        if self.counter < 0:\n",
    "            result = LanternFish(8)\n",
    "            self.counter = 6\n",
    "        return result\n",
    "    \n",
    "    def __repr__(self):\n",
    "        return str(self.counter)\n"
   ]
  },
  {
   "cell_type": "code",
   "execution_count": 5,
   "metadata": {},
   "outputs": [],
   "source": [
    "def tick_all(sample):\n",
    "    for fish in sample[:]:\n",
    "        new_fish = fish.tick()\n",
    "        if new_fish:\n",
    "            sample.append(new_fish)\n",
    "    return sample"
   ]
  },
  {
   "cell_type": "code",
   "execution_count": 6,
   "metadata": {},
   "outputs": [],
   "source": [
    "sample = [LanternFish(n) for n in load_data('06-sample.txt')]\n",
    "for days in range(18):\n",
    "    sample = tick_all(sample)\n",
    "assert len(sample) == 26"
   ]
  },
  {
   "cell_type": "code",
   "execution_count": 7,
   "metadata": {},
   "outputs": [],
   "source": [
    "sample = [LanternFish(n) for n in load_data('06-sample.txt')]\n",
    "for days in range(80):\n",
    "    sample = tick_all(sample)\n",
    "assert len(sample) == 5934"
   ]
  },
  {
   "cell_type": "markdown",
   "metadata": {},
   "source": [
    "### Solution part 1"
   ]
  },
  {
   "cell_type": "code",
   "execution_count": 8,
   "metadata": {},
   "outputs": [
    {
     "name": "stdout",
     "output_type": "stream",
     "text": [
      "First part: 388419\n"
     ]
    }
   ],
   "source": [
    "sample = [LanternFish(n) for n in load_data('06-input.txt')]\n",
    "for days in range(80):\n",
    "    sample = tick_all(sample)\n",
    "sol = len(sample)\n",
    "print(f\"First part: {sol}\")"
   ]
  },
  {
   "cell_type": "markdown",
   "metadata": {},
   "source": [
    "## Second part"
   ]
  },
  {
   "cell_type": "code",
   "execution_count": 9,
   "metadata": {},
   "outputs": [],
   "source": [
    "from collections import Counter"
   ]
  },
  {
   "cell_type": "code",
   "execution_count": 10,
   "metadata": {},
   "outputs": [
    {
     "name": "stdout",
     "output_type": "stream",
     "text": [
      "--[0]-------------------------\n",
      ". 1 1 2 1 . . . . \n",
      "--[1]-------------------------\n",
      "1 1 2 1 . . . . . \n",
      "--[2]-------------------------\n",
      "1 2 1 . . . 1 . 1 \n",
      "--[3]-------------------------\n",
      "2 1 . . . 1 1 1 1 \n",
      "--[3]-------------------------\n",
      "1 . . . 1 1 3 1 2 \n"
     ]
    }
   ],
   "source": [
    "def create_sample(filename):\n",
    "    sample = Counter({index: 0 for index in range(9)})\n",
    "    for num in load_data(filename):\n",
    "        sample[num] += 1\n",
    "    return sample\n",
    "\n",
    "def next_gen(sample):\n",
    "    new_fishes = sample[0]\n",
    "    for index in range(9):\n",
    "        sample[index] = sample[index+1]\n",
    "    sample[6] += new_fishes\n",
    "    sample[8] = new_fishes\n",
    "    return sample\n",
    "\n",
    "def print_sample(sample, day):\n",
    "    print(f\"--[{day}]-------------------------\")\n",
    "    for index in range(9):\n",
    "        print(str(sample[index]) if sample[index] > 0 else '.', end=\" \")\n",
    "    print()\n",
    " \n",
    "sample = create_sample('06-sample.txt')\n",
    "for day in range(4):\n",
    "    print_sample(sample, day)\n",
    "    sample = next_gen(sample)\n",
    "print_sample(sample, day)"
   ]
  },
  {
   "cell_type": "code",
   "execution_count": 11,
   "metadata": {},
   "outputs": [],
   "source": [
    "sample = create_sample('06-sample.txt')    \n",
    "for day in range(18):\n",
    "    sample = next_gen(sample)\n",
    "total = sum(sample[k] for k in sample)\n",
    "assert total == 26"
   ]
  },
  {
   "cell_type": "code",
   "execution_count": 12,
   "metadata": {},
   "outputs": [],
   "source": [
    "sample = create_sample('06-sample.txt')\n",
    "for day in range(80):\n",
    "    sample = next_gen(sample)\n",
    "total = sum(sample[k] for k in sample)\n",
    "assert total == 5934"
   ]
  },
  {
   "cell_type": "markdown",
   "metadata": {},
   "source": [
    "### Second part solution"
   ]
  },
  {
   "cell_type": "code",
   "execution_count": 13,
   "metadata": {},
   "outputs": [
    {
     "name": "stdout",
     "output_type": "stream",
     "text": [
      "Second part: 1740449478328\n"
     ]
    }
   ],
   "source": [
    "sample = create_sample('06-input.txt')\n",
    "for day in range(256):\n",
    "    sample = next_gen(sample)\n",
    "total = sum(sample[k] for k in sample)\n",
    "print(f\"Second part: {total}\")"
   ]
  }
 ],
 "metadata": {
  "kernelspec": {
   "display_name": "Python 3",
   "language": "python",
   "name": "python3"
  },
  "language_info": {
   "codemirror_mode": {
    "name": "ipython",
    "version": 3
   },
   "file_extension": ".py",
   "mimetype": "text/x-python",
   "name": "python",
   "nbconvert_exporter": "python",
   "pygments_lexer": "ipython3",
   "version": "3.8.10"
  }
 },
 "nbformat": 4,
 "nbformat_minor": 4
}
