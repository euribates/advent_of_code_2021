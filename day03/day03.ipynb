{
 "cells": [
  {
   "cell_type": "markdown",
   "metadata": {},
   "source": [
    "## Imports"
   ]
  },
  {
   "cell_type": "code",
   "execution_count": 64,
   "metadata": {},
   "outputs": [],
   "source": [
    "import itertools\n",
    "from collections import Counter"
   ]
  },
  {
   "cell_type": "markdown",
   "metadata": {},
   "source": [
    "## Data Input"
   ]
  },
  {
   "cell_type": "code",
   "execution_count": 41,
   "metadata": {},
   "outputs": [],
   "source": [
    "def load_data(filename):\n",
    "    with open(filename, 'r') as f:\n",
    "        for item in f.readlines():\n",
    "            yield [int(_) for _ in item.strip()]"
   ]
  },
  {
   "cell_type": "code",
   "execution_count": 42,
   "metadata": {},
   "outputs": [
    {
     "name": "stdout",
     "output_type": "stream",
     "text": [
      "[0, 0, 1, 0, 0]\n",
      "[1, 1, 1, 1, 0]\n",
      "[1, 0, 1, 1, 0]\n",
      "[1, 0, 1, 1, 1]\n",
      "[1, 0, 1, 0, 1]\n",
      "[0, 1, 1, 1, 1]\n",
      "[0, 0, 1, 1, 1]\n",
      "[1, 1, 1, 0, 0]\n",
      "[1, 0, 0, 0, 0]\n",
      "[1, 1, 0, 0, 1]\n",
      "[0, 0, 0, 1, 0]\n",
      "[0, 1, 0, 1, 0]\n"
     ]
    }
   ],
   "source": [
    "for bits in load_data('03-sample.txt'):\n",
    "    print(bits)"
   ]
  },
  {
   "cell_type": "code",
   "execution_count": 55,
   "metadata": {},
   "outputs": [],
   "source": [
    "\n",
    "def get_result(seq):\n",
    "    counter = Counter()\n",
    "    for bits in seq:\n",
    "        for index, bit in enumerate(bits):\n",
    "            if bit == 1:\n",
    "                counter[index] += 1\n",
    "            else:\n",
    "                counter[index] -= 1\n",
    "    gamma = []\n",
    "    epsilon = []\n",
    "    for index in sorted(counter):\n",
    "        if counter[index] < 0:\n",
    "            gamma.append('0')\n",
    "            epsilon.append('1')\n",
    "        elif counter[index] > 0:\n",
    "            gamma.append('1')\n",
    "            epsilon.append('0')\n",
    "        else:\n",
    "            raise ValueError('Equal number of 1/0')\n",
    "    return (\n",
    "        int(''.join(gamma), 2),\n",
    "        int(''.join(epsilon), 2),\n",
    "    )\n",
    "    \n",
    " \n",
    "gamma, epsilon = get_result(load_data('03-sample.txt'))\n",
    "assert gamma == 22\n",
    "assert epsilon == 9\n",
    "assert gamma * epsilon == 198"
   ]
  },
  {
   "cell_type": "code",
   "execution_count": 56,
   "metadata": {},
   "outputs": [
    {
     "name": "stdout",
     "output_type": "stream",
     "text": [
      "First Solution: 844 × 3251 = 2743844\n"
     ]
    }
   ],
   "source": [
    "gamma, epsilon = get_result(load_data('03-input.txt'))\n",
    "print(f\"First Solution: {gamma} × {epsilon} = {gamma*epsilon}\")\n"
   ]
  },
  {
   "cell_type": "markdown",
   "metadata": {},
   "source": [
    "## Second Part"
   ]
  },
  {
   "cell_type": "code",
   "execution_count": 74,
   "metadata": {},
   "outputs": [],
   "source": [
    "def split_iter(iterable, condition):\n",
    "    \"\"\"\n",
    "    Split an iterable in two, based on callable condition.\n",
    "\n",
    "    condition must be a callable that accepts an element\n",
    "    of the sequence, and returns a boolean. The `split_iter` \n",
    "    function returns two iterables: First one is for the items\n",
    "    that are avaluated by `condition` as `True`, second one is \n",
    "    an iterable for the rest.\n",
    "\n",
    "    Example:\n",
    "\n",
    "        >>> pares, impares = split_iter(range(10), lambda x: x % 2 == 0)\n",
    "        >>> assert list(pares) == [0, 2, 4, 6, 8]\n",
    "        >>> assert list(impares) == [1, 3, 5, 7, 9]\n",
    "        >>> lt4, gte4 = split_iter(range(10), lambda x: x < 4)\n",
    "        >>> assert list(lt4) == [0, 1, 2, 3]\n",
    "        >>> assert list(gte4) == [4, 5, 6, 7, 8, 9]\n",
    "    \"\"\"\n",
    "    a, b = itertools.tee(iterable, 2)\n",
    "    positive_iter = (_ for _ in a if condition(_))\n",
    "    negative_iter = (_ for _ in b if not condition(_))\n",
    "    return positive_iter, negative_iter"
   ]
  },
  {
   "cell_type": "code",
   "execution_count": 82,
   "metadata": {},
   "outputs": [],
   "source": [
    "def find_oxygen_generator_rating(seq):  \n",
    "    seq = list(seq)\n",
    "    if len(seq) == 1:\n",
    "        return ''.join([str(_) for _ in seq[0]])\n",
    "    elif len(seq) == 2:\n",
    "        item = seq[0] if seq[0][0] == 1 else seq[1]\n",
    "        return ''.join([str(_) for _ in item])\n",
    "    else:\n",
    "        zeros, ones = split_iter(seq, lambda item: item[0] == 0)\n",
    "        zeros = list(zeros); num_zeros = len(zeros)\n",
    "        ones = list(ones); num_ones = len(ones)\n",
    "        if num_zeros > num_ones:\n",
    "            zeros = [b for a, *b in zeros]\n",
    "            return '0' + find_oxygen_generator_rating(zeros)\n",
    "        else:\n",
    "            ones = [b for a, *b in ones]\n",
    "            return '1' + find_oxygen_generator_rating(ones)\n",
    "    \n",
    "assert find_oxygen_generator_rating(load_data('03-sample.txt')) == '10111'\n"
   ]
  },
  {
   "cell_type": "code",
   "execution_count": 107,
   "metadata": {},
   "outputs": [],
   "source": [
    "def find_CO2_scrubber_rating(seq, start=0):  \n",
    "    seq = list(seq)\n",
    "    # print(f\"--[ start = {start} ]---------------------[ {len(seq)} ]----\")\n",
    "    # for _ in seq:\n",
    "    #    print(start * '\\t', _)\n",
    "    if len(seq) == 1:\n",
    "        return ''.join([str(_) for _ in seq[0]])\n",
    "    elif len(seq) == 2:\n",
    "        item = seq[0] if seq[0][0] == 0 else seq[1]\n",
    "        return ''.join([str(_) for _ in item])\n",
    "    else:\n",
    "        zeros, ones = split_iter(seq, lambda item: item[0] == 0)\n",
    "        zeros = list(zeros); num_zeros = len(zeros)\n",
    "        ones = list(ones); num_ones = len(ones)\n",
    "        if num_zeros <= num_ones:\n",
    "            zeros = [b for a, *b in zeros]\n",
    "            return '0' + find_CO2_scrubber_rating(zeros, start+1)\n",
    "        elif num_zeros > num_ones:\n",
    "            ones = [b for a, *b in ones]\n",
    "            return '1' + find_CO2_scrubber_rating(ones, start+1)\n",
    "    \n",
    "assert find_CO2_scrubber_rating(load_data('03-sample.txt')) == '01010'"
   ]
  },
  {
   "cell_type": "code",
   "execution_count": 109,
   "metadata": {},
   "outputs": [
    {
     "name": "stdout",
     "output_type": "stream",
     "text": [
      "Second Solution: 1981 × 3371 = 6677951\n"
     ]
    }
   ],
   "source": [
    "source = list(load_data('03-input.txt'))\n",
    "oxygen = int(find_oxygen_generator_rating(source), 2)\n",
    "co2 = int(find_CO2_scrubber_rating(source), 2)\n",
    "\n",
    "print(f\"Second Solution: {oxygen} × {co2} = {oxygen*co2}\")"
   ]
  }
 ],
 "metadata": {
  "kernelspec": {
   "display_name": "Python 3",
   "language": "python",
   "name": "python3"
  },
  "language_info": {
   "codemirror_mode": {
    "name": "ipython",
    "version": 3
   },
   "file_extension": ".py",
   "mimetype": "text/x-python",
   "name": "python",
   "nbconvert_exporter": "python",
   "pygments_lexer": "ipython3",
   "version": "3.8.10"
  }
 },
 "nbformat": 4,
 "nbformat_minor": 4
}
