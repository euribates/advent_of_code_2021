{
 "cells": [
  {
   "cell_type": "markdown",
   "metadata": {},
   "source": [
    "# Day 8: Seven Segment Search"
   ]
  },
  {
   "cell_type": "code",
   "execution_count": 1,
   "metadata": {},
   "outputs": [],
   "source": [
    "def load_data(filename):\n",
    "    with open(filename) as f:\n",
    "        for line in f.readlines():\n",
    "            digits, outcome = line.strip().split(' | ')\n",
    "            yield(\n",
    "                digits.split(' '),\n",
    "                outcome.split(' ')\n",
    "            )"
   ]
  },
  {
   "cell_type": "code",
   "execution_count": 2,
   "metadata": {},
   "outputs": [],
   "source": [
    "acc = 0\n",
    "for _, outcome in load_data('08-sample.txt'):\n",
    "    acc += sum(\n",
    "        1 if len(s) in (2, 3, 4, 7) else 0\n",
    "        for s in outcome\n",
    "    )\n",
    "assert acc == 26"
   ]
  },
  {
   "cell_type": "code",
   "execution_count": 3,
   "metadata": {},
   "outputs": [
    {
     "name": "stdout",
     "output_type": "stream",
     "text": [
      "Solution for part one: 375\n"
     ]
    }
   ],
   "source": [
    "acc = 0\n",
    "for _, outcome in load_data('08-input.txt'):\n",
    "    acc += sum(\n",
    "        1 if len(s) in (2, 3, 4, 7) else 0\n",
    "        for s in outcome\n",
    "    )\n",
    "print(f\"Solution for part one: {acc}\")\n"
   ]
  },
  {
   "cell_type": "markdown",
   "metadata": {},
   "source": [
    "## Second part"
   ]
  },
  {
   "cell_type": "code",
   "execution_count": 4,
   "metadata": {},
   "outputs": [
    {
     "name": "stdout",
     "output_type": "stream",
     "text": [
      "Found eight: acedgfb\n",
      "Found seven: dab\n",
      "Found four: eafb\n",
      "Found one: ab\n",
      "Found two: gcdfa\n",
      "Found three: fbcad\n",
      "Found five: cdfbe\n",
      "Found nine: cefabd\n",
      "Found six: cdfgeb\n",
      "Found zero: cagedb\n"
     ]
    }
   ],
   "source": [
    "def get_signalmap(items, tron=True):\n",
    "    signalmap = {}\n",
    "    for item in items:\n",
    "        if len(item) == 2:\n",
    "            one = item\n",
    "            if tron: print(f\"Found one: {one}\")\n",
    "            signalmap[frozenset(one)] = '1'\n",
    "        elif len(item) == 3:\n",
    "            seven = item\n",
    "            if tron: print(f\"Found seven: {seven}\")\n",
    "            signalmap[frozenset(seven)] = '7'\n",
    "        elif len(item) == 4:\n",
    "            four = item\n",
    "            if tron: print(f\"Found four: {four}\")\n",
    "            signalmap[frozenset(four)] = '4'\n",
    "        elif len(item) == 7:\n",
    "            eight = item\n",
    "            if tron: print(f\"Found eight: {eight}\")\n",
    "            signalmap[frozenset(eight)] = '8'\n",
    "    fiveleds = [_ for _ in items if len(_) == 5]\n",
    "    for value in fiveleds[:]:\n",
    "        if len(set(value).difference(set(four))) == 3:\n",
    "            two = value\n",
    "            if tron: print(f\"Found two: {two}\")\n",
    "            signalmap[frozenset(two)] = '2'\n",
    "            fiveleds.remove(two)\n",
    "        elif len(set(value).union(set(one))) == 5:\n",
    "            three = value\n",
    "            if tron: print(f\"Found three: {three}\")\n",
    "            signalmap[frozenset(three)] = '3'\n",
    "            fiveleds.remove(three)\n",
    "    five = fiveleds.pop()\n",
    "    assert not fiveleds\n",
    "    if tron: print(f\"Found five: {five}\")\n",
    "    signalmap[frozenset(five)] = '5'\n",
    "\n",
    "    sixleds = [_ for _ in items if len(_) == 6]\n",
    "    for value in sixleds[:]:\n",
    "        if len(set(value).difference(set(four))) == 2:\n",
    "            nine = value\n",
    "            if tron: print(f\"Found nine: {nine}\")\n",
    "            signalmap[frozenset(nine)] = '9'\n",
    "            sixleds.remove(nine)\n",
    "        elif len(set(value).difference(set(seven))) == 4:\n",
    "            six = value\n",
    "            if tron: print(f\"Found six: {six}\")\n",
    "            signalmap[frozenset(six)] = '6'\n",
    "            sixleds.remove(six)\n",
    "    zero = sixleds.pop()\n",
    "    assert not sixleds\n",
    "    if tron: print(f\"Found zero: {zero}\")\n",
    "    signalmap[frozenset(zero)] = '0'\n",
    "    return signalmap\n",
    "\n",
    "items = 'acedgfb cdfbe gcdfa fbcad dab cefabd cdfgeb eafb cagedb ab'.split()\n",
    "signalmap = get_signalmap(items)\n",
    "\n",
    "assert signalmap[frozenset(\"acedgfb\")] == '8'\n",
    "assert signalmap[frozenset(\"cdfbe\")] == '5'\n",
    "assert signalmap[frozenset(\"gcdfa\")] == '2'\n",
    "assert signalmap[frozenset(\"fbcad\")] == '3'\n",
    "assert signalmap[frozenset(\"dab\")] == '7'\n",
    "assert signalmap[frozenset(\"cefabd\")] == '9'\n",
    "assert signalmap[frozenset(\"cdfgeb\")] == '6'\n",
    "assert signalmap[frozenset(\"eafb\")] == '4'\n",
    "assert signalmap[frozenset(\"cagedb\")] == '0'\n",
    "assert signalmap[frozenset(\"ab\")] == '1'\n",
    "assert signalmap[frozenset(\"ba\")] == '1'"
   ]
  },
  {
   "cell_type": "code",
   "execution_count": 5,
   "metadata": {},
   "outputs": [],
   "source": [
    "acc = 0\n",
    "for signals, outcome in load_data('08-sample.txt'):\n",
    "    signalmap = get_signalmap(signals, tron=False)\n",
    "    value = int(''.join([ signalmap[frozenset(x)] for x in outcome ]))\n",
    "    acc += value\n",
    "\n",
    "# Adding all of the output values in this larger example produces 61229.\n",
    "assert acc == 61229"
   ]
  },
  {
   "cell_type": "code",
   "execution_count": 6,
   "metadata": {},
   "outputs": [
    {
     "name": "stdout",
     "output_type": "stream",
     "text": [
      "Solution part two: 1019355\n"
     ]
    }
   ],
   "source": [
    "acc = 0\n",
    "for signals, outcome in load_data('08-input.txt'):\n",
    "    signalmap = get_signalmap(signals, tron=False)\n",
    "    value = int(''.join([ signalmap[frozenset(x)] for x in outcome ]))\n",
    "    acc += value\n",
    "print(f\"Solution part two: {acc}\")\n"
   ]
  }
 ],
 "metadata": {
  "kernelspec": {
   "display_name": "Python 3",
   "language": "python",
   "name": "python3"
  },
  "language_info": {
   "codemirror_mode": {
    "name": "ipython",
    "version": 3
   },
   "file_extension": ".py",
   "mimetype": "text/x-python",
   "name": "python",
   "nbconvert_exporter": "python",
   "pygments_lexer": "ipython3",
   "version": "3.8.10"
  }
 },
 "nbformat": 4,
 "nbformat_minor": 4
}
