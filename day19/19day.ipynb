{
 "cells": [
  {
   "cell_type": "markdown",
   "metadata": {},
   "source": [
    "# Day 19: Beacon scanner"
   ]
  },
  {
   "cell_type": "code",
   "execution_count": 6,
   "metadata": {},
   "outputs": [],
   "source": [
    "from collections import defaultdict\n",
    "import re\n",
    "\n",
    "import numpy as np"
   ]
  },
  {
   "cell_type": "code",
   "execution_count": 33,
   "metadata": {},
   "outputs": [],
   "source": [
    "class Report:\n",
    "    \n",
    "    def __init__(self, name, num_dims, coords=None):\n",
    "        self.name = name\n",
    "        self.num_dims = num_dims\n",
    "        self.coords = coords[:] or []\n",
    "        all_x = [c[0] for c in self.coords]\n",
    "        self.min_x = min(all_x)\n",
    "        self.max_x = max(all_x)\n",
    "        all_y = [c[1] for c in self.coords]\n",
    "        self.min_y = min(all_y)\n",
    "        self.max_y = max(all_y)\n",
    "        if self.num_dims > 2:\n",
    "            all_z = [c[2] for c in self.coords]\n",
    "            self.min_z = min(all_z)\n",
    "            self.max_z = max(all_z)\n",
    "            "
   ]
  },
  {
   "cell_type": "code",
   "execution_count": 69,
   "metadata": {},
   "outputs": [],
   "source": [
    "pat_scanner = re.compile(r\"--- scanner (\\d+) ---\")\n",
    "\n",
    "def load_report(stream):\n",
    "    line = stream.readline().strip()\n",
    "    if not line:\n",
    "        return None\n",
    "    m = pat_scanner.match(line)\n",
    "    name = m.group(1)\n",
    "    #assert stream.readline().strip() == ''  # Empty line\n",
    "    line = stream.readline().strip()\n",
    "    num_dims = line.count(',') + 1\n",
    "    beacons = []\n",
    "    while line:\n",
    "        beacon = [int(x) for x in line.split(',')]\n",
    "        beacons.append(tuple(beacon))\n",
    "        line = stream.readline().strip()\n",
    "    return Report(name, num_dims, beacons)"
   ]
  },
  {
   "cell_type": "code",
   "execution_count": 70,
   "metadata": {},
   "outputs": [],
   "source": [
    "def load_input(filename):\n",
    "    with open(filename) as fr:\n",
    "        report = load_report(fr)\n",
    "        while report:\n",
    "            yield report\n",
    "            report = load_report(fr)"
   ]
  },
  {
   "cell_type": "code",
   "execution_count": 72,
   "metadata": {},
   "outputs": [
    {
     "name": "stdout",
     "output_type": "stream",
     "text": [
      "0 [(0, 2), (4, 1), (3, 3)]\n",
      " - x: 0..4\n",
      " - y: 1..3\n",
      "1 [(-1, -1), (-5, 0), (-2, 1)]\n",
      " - x: -5..-1\n",
      " - y: -1..1\n"
     ]
    }
   ],
   "source": [
    "for report in load_input('19-sample-2d.txt'):\n",
    "    print(report.name, report.coords)\n",
    "    print(f' - x: {report.min_x}..{report.max_x}')\n",
    "    print(f' - y: {report.min_y}..{report.max_y}')"
   ]
  },
  {
   "cell_type": "code",
   "execution_count": 108,
   "metadata": {},
   "outputs": [],
   "source": [
    "def match_reports(r0, r1, limit):\n",
    "    for (x0, y0) in r0.coords:\n",
    "        (x1, y1) = r1.coords[0]\n",
    "        print(f\"Checking {x0}, {y0}\")\n",
    "        delta_x = x1 - x0\n",
    "        delta_y = y1 - y0\n",
    "        print(f\"  - Delta is x: {delta_x} | y: {delta_y}\")\n",
    "        \n",
    "        for _x, _y in r0.coords:\n",
    "            print (f\"  - ({_x + delta_x}, {_y + delta_y}) in {r1.coords!r}\", end=' ')\n",
    "            print(1 if (_x + delta_x, _y + delta_y) in (r1.coords) else 0)\n",
    "        \n",
    "        match_coords = [\n",
    "            1 if (_x + delta_x, _y + delta_y) in r1.coords else 0\n",
    "            for _x, _y in r0.coords\n",
    "        ]\n",
    "        \n",
    "        print(f\"  - match coords: {match_coords!r}\")\n",
    "        print(f\"  - sum match coords: {sum(match_coords)}\")\n",
    "        if sum(match_coords) >= limit:\n",
    "            return True\n",
    "    return False\n",
    "            \n"
   ]
  },
  {
   "cell_type": "code",
   "execution_count": 109,
   "metadata": {},
   "outputs": [
    {
     "name": "stdout",
     "output_type": "stream",
     "text": [
      "Checking 0, 2\n",
      "  - Delta is x: -1 | y: -3\n",
      "  - (-1, -1) in [(-1, -1), (-5, 0), (-2, 1)] 1\n",
      "  - (3, -2) in [(-1, -1), (-5, 0), (-2, 1)] 0\n",
      "  - (2, 0) in [(-1, -1), (-5, 0), (-2, 1)] 0\n",
      "  - match coords: [1, 0, 0]\n",
      "  - sum match coords: 1\n",
      "Checking 4, 1\n",
      "  - Delta is x: -5 | y: -2\n",
      "  - (-5, 0) in [(-1, -1), (-5, 0), (-2, 1)] 1\n",
      "  - (-1, -1) in [(-1, -1), (-5, 0), (-2, 1)] 1\n",
      "  - (-2, 1) in [(-1, -1), (-5, 0), (-2, 1)] 1\n",
      "  - match coords: [1, 1, 1]\n",
      "  - sum match coords: 3\n",
      "True\n"
     ]
    }
   ],
   "source": [
    "reports = list(report for report in load_input('19-sample-2d.txt'))\n",
    "print(match_reports(reports[0], reports[1], 3))"
   ]
  }
 ],
 "metadata": {
  "kernelspec": {
   "display_name": "Python 3",
   "language": "python",
   "name": "python3"
  },
  "language_info": {
   "codemirror_mode": {
    "name": "ipython",
    "version": 3
   },
   "file_extension": ".py",
   "mimetype": "text/x-python",
   "name": "python",
   "nbconvert_exporter": "python",
   "pygments_lexer": "ipython3",
   "version": "3.8.10"
  }
 },
 "nbformat": 4,
 "nbformat_minor": 4
}
