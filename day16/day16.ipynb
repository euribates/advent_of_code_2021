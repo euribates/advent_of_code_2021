{
 "cells": [
  {
   "cell_type": "markdown",
   "metadata": {},
   "source": [
    "# Day 16: Packet Decoder"
   ]
  },
  {
   "cell_type": "code",
   "execution_count": 1,
   "metadata": {},
   "outputs": [],
   "source": [
    "HEXTABLE = {\n",
    "    \"0\": \"0000\", \"1\": \"0001\", \"2\": \"0010\", \"3\": \"0011\",\n",
    "    \"4\": \"0100\", \"5\": \"0101\", \"6\": \"0110\", \"7\": \"0111\",\n",
    "    \"8\": \"1000\", \"9\": \"1001\", \"A\": \"1010\", \"B\": \"1011\",\n",
    "    \"C\": \"1100\", \"D\": \"1101\", \"E\": \"1110\", \"F\": \"1111\",\n",
    "}\n",
    "\n",
    "def input_sample(sample):\n",
    "    for char in sample:\n",
    "        hexadigit = HEXTABLE[char]\n",
    "        yield hexadigit[0]\n",
    "        yield hexadigit[1]\n",
    "        yield hexadigit[2]\n",
    "        yield hexadigit[3]\n",
    "\n",
    "    \n",
    "def input_file(filename):\n",
    "    with open(filename) as fr:\n",
    "        yield from input_sample(fr.read())"
   ]
  },
  {
   "cell_type": "code",
   "execution_count": 2,
   "metadata": {},
   "outputs": [],
   "source": [
    "assert ''.join(input_file('16-sample-1.txt')) ==  '110100101111111000101000'\n",
    "assert ''.join(input_sample('D2FE28')) ==  '110100101111111000101000'"
   ]
  },
  {
   "cell_type": "code",
   "execution_count": 3,
   "metadata": {},
   "outputs": [],
   "source": [
    "class Loader:\n",
    "    \n",
    "    def __init__(self, stream, tron=False):\n",
    "        self.stream = stream\n",
    "        self.consumed = 0\n",
    "        self.tron = tron\n",
    "        \n",
    "    def read(self, num_bits=1):\n",
    "        if self.tron:\n",
    "            print(f\"read({num_bits})\", end=' ')\n",
    "        self.consumed += num_bits\n",
    "        buff = [next(self.stream) for _ in range(num_bits)]\n",
    "        as_bin = ''.join(buff)\n",
    "        as_int = int(as_bin, 2)\n",
    "        if self.tron:\n",
    "            print(as_bin, \"[ok]\")\n",
    "        return (as_bin, as_int)"
   ]
  },
  {
   "cell_type": "code",
   "execution_count": 4,
   "metadata": {},
   "outputs": [],
   "source": [
    "stream = input_file('16-sample-1.txt')\n",
    "loader = Loader(stream)\n",
    "assert loader.read(3) == ('110', 6)\n",
    "assert loader.read(3) == ('100', 4)\n",
    "assert loader.read(5) == ('10111', 23)\n",
    "assert loader.read(5) == ('11110', 30)\n",
    "assert loader.read(5) == ('00101', 5)\n",
    "assert loader.consumed == 21"
   ]
  },
  {
   "cell_type": "code",
   "execution_count": 5,
   "metadata": {},
   "outputs": [],
   "source": [
    "class Packet:\n",
    "    TYPE_LITERAL = 4\n",
    "    \n",
    "    def __init__(self, version, type_id, value=None):\n",
    "        self.version = version\n",
    "        self.type_id = type_id\n",
    "        self.value = value\n",
    "        self.bits_read = 0\n",
    "        \n",
    "    def __str__(self):\n",
    "        if self.type_id == self.TYPE_LITERAL:\n",
    "            return f'LITERAL {self.value}'\n",
    "        else:\n",
    "            return f'OPERATOR {self.type_id}'\n",
    "        \n",
    "\n",
    "def read_packet(loader, tron=False):\n",
    "        \n",
    "    def read_literal(version, loader):\n",
    "        buff = []\n",
    "        bits, _ = loader.read(5)\n",
    "        while bits[0] == '1': \n",
    "            buff.append(bits[1:])\n",
    "            bits, _ = loader.read(5)\n",
    "        buff.append(bits[1:])\n",
    "        value = int(''.join(buff), 2)\n",
    "        return Packet(version, Packet.TYPE_LITERAL, value)\n",
    "\n",
    "\n",
    "    def read_operator(version, type_id, loader):\n",
    "        assert type_id != Packet.TYPE_LITERAL\n",
    "        length_type_id , _ = loader.read(1)\n",
    "        operands = []\n",
    "        if length_type_id == '0':\n",
    "            sbin, to_consume = loader.read(15)\n",
    "            if tron:\n",
    "                print(f' - Total number of bits to consume: {to_consume} 15 bits: {sbin}')\n",
    "            while to_consume > 0:\n",
    "                # new_loader = Loader(loader.stream)\n",
    "                subpacket = read_packet(loader)\n",
    "                operands.append(subpacket)\n",
    "                to_consume -= subpacket.bits_read\n",
    "                if tron:\n",
    "                    print(f' - Consumed: {subpacket.bits_read} : To consume now is: {to_consume}')\n",
    "\n",
    "        elif length_type_id == '1':\n",
    "            _, number_of_packets = loader.read(11)\n",
    "            if tron:\n",
    "                print(f' - Total number of packets to consume: {number_of_packets}')\n",
    "            operands = []\n",
    "            for i in range(number_of_packets):\n",
    "                if tron: \n",
    "                    print(f\"- Readig part {i}\", end=\" \")\n",
    "                subpacket = read_packet(loader)\n",
    "                operands.append(subpacket)\n",
    "                if tron:\n",
    "                    print(\"[OK]\")\n",
    "        else:\n",
    "            raise ValueError(f\"Expected 0 or 1, found {length_type_id!r}\")\n",
    "\n",
    "        return Packet(version, type_id, operands)\n",
    "\n",
    "    assert isinstance(loader, Loader)\n",
    "    _start = loader.consumed\n",
    "    _, version = loader.read(3)\n",
    "    _, type_id = loader.read(3)\n",
    "    if type_id == Packet.TYPE_LITERAL:\n",
    "        result = read_literal(version, loader)\n",
    "    else:\n",
    "        result = read_operator(version, type_id, loader)\n",
    "    result.bits_read = loader.consumed - _start\n",
    "    return result"
   ]
  },
  {
   "cell_type": "markdown",
   "metadata": {},
   "source": [
    "Sample 1 is `D2FE28` (In the [16-sample-1.txt](16-sample-1.txt)) file that expands to:\n",
    "\n",
    "```\n",
    "110100101111111000101000\n",
    "VVVTTTAAAAABBBBBCCCCCGGG\n",
    "```\n",
    "\n",
    "Below each bit is a label indicating its purpose:\n",
    "\n",
    "- The three bits labeled V (110) are the packet version, 6.\n",
    "- The three bits labeled T (100) are the packet type ID, 4, which means the packet is a literal value.\n",
    "- The five bits labeled A (10111) start with a 1 (not the last group, keep reading) and contain the first four bits of the number, 0111.\n",
    "- The five bits labeled B (11110) start with a 1 (not the last group, keep reading) and contain four more bits of the number, 1110.\n",
    "- The five bits labeled C (00101) start with a 0 (last group, end of packet) and contain the last four bits of the number, 0101.\n",
    "- The three unlabeled 0 bits at the end are extra due to the hexadecimal representation and should be ignored (Gaps in my code)."
   ]
  },
  {
   "cell_type": "code",
   "execution_count": 6,
   "metadata": {},
   "outputs": [],
   "source": [
    "stream = input_file('16-sample-1.txt')\n",
    "loader = Loader(stream)\n",
    "packet = read_packet(loader)\n",
    "assert packet.version == 6\n",
    "assert packet.type_id == 4\n",
    "assert packet.value == 2021"
   ]
  },
  {
   "cell_type": "markdown",
   "metadata": {},
   "source": [
    "For example, here is an operator packet (hexadecimal string `38006F45291200`) with length type ID $0$ that contains two sub-packets:\n",
    "(In the [16-sample-2.txt](16-sample-2.txt) file):\n",
    "\n",
    "```\n",
    "00111000000000000110111101000101001010010001001000000000\n",
    "VVVTTTILLLLLLLLLLLLLLLAAAAAAAAAAABBBBBBBBBBBBBBBB\n",
    "```\n",
    "\n",
    "- The three bits labeled V (`001`) are the packet version, 1.\n",
    "\n",
    "- The three bits labeled T (`110`) are the packet type ID, 6, which means the packet is an operator.\n",
    "\n",
    "- The bit labeled I (`0`) is the length type ID, which indicates that the length is a 15-bit number representing the number of bits in the sub-packets.\n",
    "\n",
    "- The 15 bits labeled L (`000000000011011`) contain the length of the sub-packets in bits, $27$.\n",
    "\n",
    "- The 11 bits labeled A contain the first sub-packet, a literal value representing the number $10$.\n",
    "\n",
    "- The 16 bits labeled B contain the second sub-packet, a literal value representing the number $20$."
   ]
  },
  {
   "cell_type": "code",
   "execution_count": 7,
   "metadata": {},
   "outputs": [
    {
     "name": "stdout",
     "output_type": "stream",
     "text": [
      "read(3) 001 [ok]\n",
      "read(3) 110 [ok]\n",
      "read(1) 0 [ok]\n",
      "read(15) 000000000011011 [ok]\n",
      "read(3) 110 [ok]\n",
      "read(3) 100 [ok]\n",
      "read(5) 01010 [ok]\n",
      "read(3) 010 [ok]\n",
      "read(3) 100 [ok]\n",
      "read(5) 10001 [ok]\n",
      "read(5) 00100 [ok]\n"
     ]
    }
   ],
   "source": [
    "stream = input_file('16-sample-2.txt')\n",
    "loader = Loader(stream, tron=True)\n",
    "p = read_packet(loader)\n",
    "\n",
    "assert p.version == 1\n",
    "assert p.type_id == 6\n",
    "assert len(p.value) == 2\n",
    "assert p.value[0].value == 10\n",
    "assert p.value[1].value == 20"
   ]
  },
  {
   "cell_type": "markdown",
   "metadata": {},
   "source": [
    "As another example, here is an operator packet (hexadecimal string `EE00D40C823060`, in file [16-sample-3,txt](16-sample-4.txt)) with length type ID `1` that contains three sub-packets:\n",
    "\n",
    "```\n",
    "11101110000000001101010000001100100000100011000001100000\n",
    "VVVTTTILLLLLLLLLLLAAAAAAAAAAABBBBBBBBBBBCCCCCCCCCCC\n",
    "```\n",
    "\n",
    "- The three bits labeled V (`111`) are the packet version, 7.\n",
    "\n",
    "- The three bits labeled T (`011`) are the packet type ID, 3, which means the packet is an operator.\n",
    "\n",
    "- The bit labeled I (`1`) is the length type ID, which indicates that the length is a 11-bit number representing the number of sub-packets.\n",
    "\n",
    "- The 11 bits labeled L (`00000000011`) contain the number of sub-packets, 3.\n",
    "\n",
    "- The 11 bits labeled A contain the first sub-packet, a literal value representing the number 1.\n",
    "\n",
    "- The 11 bits labeled B contain the second sub-packet, a literal value representing the number 2.\n",
    "\n",
    "- The 11 bits labeled C contain the third sub-packet, a literal value representing the number 3."
   ]
  },
  {
   "cell_type": "code",
   "execution_count": 8,
   "metadata": {},
   "outputs": [],
   "source": [
    "stream = input_file('16-sample-3.txt')\n",
    "loader = Loader(stream)\n",
    "p = read_packet(loader)\n",
    "\n",
    "assert p.version == 7\n",
    "assert p.type_id == 3\n",
    "assert len(p.value) == 3\n",
    "assert p.value[0].value == 1\n",
    "assert p.value[1].value == 2\n",
    "assert p.value[2].value == 3"
   ]
  },
  {
   "cell_type": "markdown",
   "metadata": {},
   "source": [
    "## Solution part one"
   ]
  },
  {
   "cell_type": "code",
   "execution_count": 9,
   "metadata": {},
   "outputs": [],
   "source": [
    "def find_solution_one(sequence, tron=False):\n",
    "    loader = Loader(sequence)\n",
    "    packet = read_packet(loader)\n",
    "    \n",
    "    def sum_version(p, level=0):\n",
    "        if tron:\n",
    "            print(\" \" * level, p, 'Version:', p.version)\n",
    "        if p.type_id == Packet.TYPE_LITERAL:\n",
    "            return p.version\n",
    "        else:\n",
    "            return p.version + sum(\n",
    "                sum_version(subp, level=level+1) for subp in p.value\n",
    "            )\n",
    "    return sum_version(packet)"
   ]
  },
  {
   "cell_type": "code",
   "execution_count": 10,
   "metadata": {},
   "outputs": [],
   "source": [
    "assert find_solution_one(input_file('16-sample-1.txt')) == 6\n",
    "assert find_solution_one(input_file('16-sample-2.txt')) == 9"
   ]
  },
  {
   "cell_type": "markdown",
   "metadata": {},
   "source": [
    "Here are a few more examples of hexadecimal-encoded transmissions:"
   ]
  },
  {
   "cell_type": "markdown",
   "metadata": {},
   "source": [
    "**`8A004A801A8002F478`** represents an operator packet (version $4$) which contains an operator packet (version $1$) which contains an operator packet (version $5$) which contains a literal value (version $6$); this packet has a version sum of $16$."
   ]
  },
  {
   "cell_type": "code",
   "execution_count": 11,
   "metadata": {},
   "outputs": [],
   "source": [
    "assert find_solution_one(input_sample('8A004A801A8002F478')) == 16"
   ]
  },
  {
   "cell_type": "markdown",
   "metadata": {},
   "source": [
    "**`620080001611562C8802118E34`** represents an operator packet (version $3$) which contains two sub-packets; each sub-packet is an operator packet that contains two literal values. This packet has a version sum of $12$."
   ]
  },
  {
   "cell_type": "code",
   "execution_count": 12,
   "metadata": {},
   "outputs": [],
   "source": [
    "assert find_solution_one(input_sample('620080001611562C8802118E34')) == 12"
   ]
  },
  {
   "cell_type": "markdown",
   "metadata": {},
   "source": [
    "**`C0015000016115A2E0802F182340`** has the same structure as the previous example, but the outermost packet uses a different length type ID. This packet has a version sum of $23$."
   ]
  },
  {
   "cell_type": "code",
   "execution_count": 13,
   "metadata": {},
   "outputs": [],
   "source": [
    "assert find_solution_one(input_sample('C0015000016115A2E0802F182340')) == 23     "
   ]
  },
  {
   "cell_type": "markdown",
   "metadata": {},
   "source": [
    "**`A0016C880162017C3686B18A3D4780`** is an operator packet that contains an operator packet that contains an operator packet that contains five literal values; it has a version sum of 31."
   ]
  },
  {
   "cell_type": "code",
   "execution_count": 14,
   "metadata": {},
   "outputs": [
    {
     "name": "stdout",
     "output_type": "stream",
     "text": [
      "Solution for part one: 971\n"
     ]
    }
   ],
   "source": [
    "sol = find_solution_one(input_file('16-input.txt'))\n",
    "print(f\"Solution for part one: {sol}\")"
   ]
  },
  {
   "cell_type": "markdown",
   "metadata": {},
   "source": [
    "## Second part"
   ]
  },
  {
   "cell_type": "code",
   "execution_count": 15,
   "metadata": {},
   "outputs": [],
   "source": [
    "from functools import reduce"
   ]
  },
  {
   "cell_type": "code",
   "execution_count": 16,
   "metadata": {},
   "outputs": [],
   "source": [
    "\n",
    "TYPE_SUM = 0\n",
    "TYPE_PRODUCT = 1\n",
    "TYPE_MINIMUN = 2\n",
    "TYPE_MAXIMUM = 3\n",
    "TYPE_LITERAL = 4\n",
    "TYPE_GREATER = 5\n",
    "TYPE_LESS = 6\n",
    "TYPE_EQUAL = 7\n",
    "\n",
    "LITERAL_TYPES = ['SUM', 'PRODUCT', 'MIN', 'MAX', 'LIT', 'GREATER', 'LESS', 'EQUAL']\n",
    "\n",
    "def evaluate(packet, level=0, tron=True):\n",
    "    if tron:\n",
    "        print(\" \" * level, packet, LITERAL_TYPES[packet.type_id])\n",
    "    if packet.type_id == TYPE_LITERAL:\n",
    "        return packet.value\n",
    "    items = [evaluate(sp, level=level+1, tron=tron) for sp in packet.value]\n",
    "    if packet.type_id == TYPE_SUM:\n",
    "        return sum(items)\n",
    "    elif packet.type_id == TYPE_PRODUCT:\n",
    "        return reduce(lambda x, y: x*y, items, 1)\n",
    "    elif packet.type_id == TYPE_MINIMUN:\n",
    "        return min(items)\n",
    "    elif packet.type_id == TYPE_MAXIMUM:\n",
    "        return max(items)\n",
    "    elif packet.type_id == TYPE_GREATER:\n",
    "        return items[0] > items[1]\n",
    "    elif packet.type_id == TYPE_LESS:\n",
    "        return items[0] < items[1]\n",
    "    elif packet.type_id == TYPE_EQUAL:\n",
    "        return items[0] == items[1]\n",
    "    raise ValueError('Packet type expected in range [1..7] but {packet.type_pf|} found!')"
   ]
  },
  {
   "cell_type": "code",
   "execution_count": 17,
   "metadata": {},
   "outputs": [
    {
     "name": "stdout",
     "output_type": "stream",
     "text": [
      " LITERAL 2021 LIT\n"
     ]
    }
   ],
   "source": [
    "stream = input_file('16-sample-1.txt')\n",
    "loader = Loader(stream)\n",
    "packet = read_packet(loader)\n",
    "assert evaluate(packet) == 2021"
   ]
  },
  {
   "cell_type": "code",
   "execution_count": 18,
   "metadata": {},
   "outputs": [],
   "source": [
    "def find_solution_two(sequence, tron=True):\n",
    "    loader = Loader(sequence)\n",
    "    packet = read_packet(loader)\n",
    "    return evaluate(packet, tron=tron)"
   ]
  },
  {
   "cell_type": "markdown",
   "metadata": {},
   "source": [
    "**`C200B40A82`** finds the sum of 1 and 2, resulting in the value $3$."
   ]
  },
  {
   "cell_type": "code",
   "execution_count": 19,
   "metadata": {},
   "outputs": [
    {
     "name": "stdout",
     "output_type": "stream",
     "text": [
      " OPERATOR 0 SUM\n",
      "  LITERAL 1 LIT\n",
      "  LITERAL 2 LIT\n"
     ]
    }
   ],
   "source": [
    "stream = input_sample('C200B40A82')\n",
    "assert find_solution_two(stream, tron=True) == 3"
   ]
  },
  {
   "cell_type": "markdown",
   "metadata": {},
   "source": [
    "**`04005AC33890`** finds the product of 6 and 9, resulting in the value $54$.\n"
   ]
  },
  {
   "cell_type": "code",
   "execution_count": 20,
   "metadata": {},
   "outputs": [
    {
     "name": "stdout",
     "output_type": "stream",
     "text": [
      " OPERATOR 1 PRODUCT\n",
      "  LITERAL 6 LIT\n",
      "  LITERAL 9 LIT\n"
     ]
    }
   ],
   "source": [
    "stream = input_sample('04005AC33890')\n",
    "assert find_solution_two(stream) == 54"
   ]
  },
  {
   "cell_type": "markdown",
   "metadata": {},
   "source": [
    "**`880086C3E88112`** finds the minimum of $7$, $8$, and $9$, resulting in the value $7$."
   ]
  },
  {
   "cell_type": "code",
   "execution_count": 21,
   "metadata": {},
   "outputs": [
    {
     "name": "stdout",
     "output_type": "stream",
     "text": [
      " OPERATOR 2 MIN\n",
      "  LITERAL 7 LIT\n",
      "  LITERAL 8 LIT\n",
      "  LITERAL 9 LIT\n"
     ]
    }
   ],
   "source": [
    "stream = input_sample('880086C3E88112')\n",
    "assert find_solution_two(stream) == 7"
   ]
  },
  {
   "cell_type": "markdown",
   "metadata": {},
   "source": [
    "**`CE00C43D881120`** finds the maximum of 7, 8, and 9, resulting in the value 9."
   ]
  },
  {
   "cell_type": "code",
   "execution_count": 22,
   "metadata": {},
   "outputs": [
    {
     "name": "stdout",
     "output_type": "stream",
     "text": [
      " OPERATOR 3 MAX\n",
      "  LITERAL 7 LIT\n",
      "  LITERAL 8 LIT\n",
      "  LITERAL 9 LIT\n"
     ]
    }
   ],
   "source": [
    "stream = input_sample('CE00C43D881120')\n",
    "assert find_solution_two(stream) == 9"
   ]
  },
  {
   "cell_type": "markdown",
   "metadata": {},
   "source": [
    "**`D8005AC2A8F0`** produces $1$, because $5$ is less than $15$."
   ]
  },
  {
   "cell_type": "code",
   "execution_count": 23,
   "metadata": {},
   "outputs": [
    {
     "name": "stdout",
     "output_type": "stream",
     "text": [
      " OPERATOR 6 LESS\n",
      "  LITERAL 5 LIT\n",
      "  LITERAL 15 LIT\n"
     ]
    }
   ],
   "source": [
    "stream = input_sample('D8005AC2A8F0')\n",
    "assert find_solution_two(stream) == 1"
   ]
  },
  {
   "cell_type": "markdown",
   "metadata": {},
   "source": [
    "**`F600BC2D8F`** produces $0$, because $5$ is not greater than $15$."
   ]
  },
  {
   "cell_type": "code",
   "execution_count": 24,
   "metadata": {},
   "outputs": [
    {
     "name": "stdout",
     "output_type": "stream",
     "text": [
      " OPERATOR 5 GREATER\n",
      "  LITERAL 5 LIT\n",
      "  LITERAL 15 LIT\n"
     ]
    }
   ],
   "source": [
    "stream = input_sample('F600BC2D8F')\n",
    "assert find_solution_two(stream) == 0"
   ]
  },
  {
   "cell_type": "markdown",
   "metadata": {},
   "source": [
    "**`9C005AC2F8F0`** produces $0$, because $5$ is not equal to $15$."
   ]
  },
  {
   "cell_type": "code",
   "execution_count": 25,
   "metadata": {},
   "outputs": [
    {
     "name": "stdout",
     "output_type": "stream",
     "text": [
      " OPERATOR 7 EQUAL\n",
      "  LITERAL 5 LIT\n",
      "  LITERAL 15 LIT\n"
     ]
    }
   ],
   "source": [
    "stream = input_sample('9C005AC2F8F0')\n",
    "assert find_solution_two(stream) == 0"
   ]
  },
  {
   "cell_type": "markdown",
   "metadata": {},
   "source": [
    "**`9C0141080250320F1802104A08` produces $1$, because $1 + 3 = 2 \\times 2$."
   ]
  },
  {
   "cell_type": "code",
   "execution_count": 26,
   "metadata": {},
   "outputs": [
    {
     "name": "stdout",
     "output_type": "stream",
     "text": [
      " OPERATOR 7 EQUAL\n",
      "  OPERATOR 0 SUM\n",
      "   LITERAL 1 LIT\n",
      "   LITERAL 3 LIT\n",
      "  OPERATOR 1 PRODUCT\n",
      "   LITERAL 2 LIT\n",
      "   LITERAL 2 LIT\n"
     ]
    }
   ],
   "source": [
    "stream = input_sample('9C0141080250320F1802104A08')\n",
    "assert find_solution_two(stream) == 1"
   ]
  },
  {
   "cell_type": "code",
   "execution_count": 27,
   "metadata": {},
   "outputs": [
    {
     "name": "stdout",
     "output_type": "stream",
     "text": [
      "Solution for part one: 831996589851\n"
     ]
    }
   ],
   "source": [
    "sol = find_solution_two(input_file('16-input.txt'), tron=False)\n",
    "print(f\"Solution for part one: {sol}\")"
   ]
  },
  {
   "cell_type": "markdown",
   "metadata": {},
   "source": [
    "## Extra\n",
    "\n",
    "Nice tree:"
   ]
  },
  {
   "cell_type": "code",
   "execution_count": 28,
   "metadata": {},
   "outputs": [
    {
     "name": "stdout",
     "output_type": "stream",
     "text": [
      " OPERATOR 0 SUM\n",
      "  OPERATOR 1 PRODUCT\n",
      "   OPERATOR 6 LESS\n",
      "    LITERAL 79 LIT\n",
      "    LITERAL 18 LIT\n",
      "   LITERAL 130 LIT\n",
      "  OPERATOR 1 PRODUCT\n",
      "   OPERATOR 6 LESS\n",
      "    LITERAL 17 LIT\n",
      "    LITERAL 3739 LIT\n",
      "   LITERAL 26181 LIT\n",
      "  OPERATOR 3 MAX\n",
      "   LITERAL 3381457610 LIT\n",
      "   LITERAL 13 LIT\n",
      "  OPERATOR 0 SUM\n",
      "   LITERAL 368803 LIT\n",
      "   LITERAL 46 LIT\n",
      "   LITERAL 30827667693 LIT\n",
      "   LITERAL 172659535 LIT\n",
      "  OPERATOR 1 PRODUCT\n",
      "   OPERATOR 6 LESS\n",
      "    LITERAL 30901 LIT\n",
      "    LITERAL 11 LIT\n",
      "   LITERAL 229877055 LIT\n",
      "  OPERATOR 1 PRODUCT\n",
      "   LITERAL 796 LIT\n",
      "   OPERATOR 7 EQUAL\n",
      "    OPERATOR 0 SUM\n",
      "     LITERAL 9 LIT\n",
      "     LITERAL 15 LIT\n",
      "     LITERAL 7 LIT\n",
      "    OPERATOR 0 SUM\n",
      "     LITERAL 11 LIT\n",
      "     LITERAL 4 LIT\n",
      "     LITERAL 6 LIT\n",
      "  OPERATOR 1 PRODUCT\n",
      "   OPERATOR 5 GREATER\n",
      "    LITERAL 32638 LIT\n",
      "    LITERAL 32638 LIT\n",
      "   LITERAL 3874 LIT\n",
      "  LITERAL 43547 LIT\n",
      "  LITERAL 9965 LIT\n",
      "  OPERATOR 2 MIN\n",
      "   LITERAL 482015 LIT\n",
      "   LITERAL 3103 LIT\n",
      "   LITERAL 654457 LIT\n",
      "   LITERAL 57514 LIT\n",
      "   LITERAL 6 LIT\n",
      "  LITERAL 3139 LIT\n",
      "  OPERATOR 3 MAX\n",
      "   LITERAL 3605 LIT\n",
      "  OPERATOR 1 PRODUCT\n",
      "   OPERATOR 6 LESS\n",
      "    LITERAL 102088296 LIT\n",
      "    LITERAL 102088296 LIT\n",
      "   LITERAL 3835 LIT\n",
      "  LITERAL 1952 LIT\n",
      "  OPERATOR 0 SUM\n",
      "   LITERAL 10 LIT\n",
      "   LITERAL 54567 LIT\n",
      "   LITERAL 14720449 LIT\n",
      "  OPERATOR 1 PRODUCT\n",
      "   OPERATOR 6 LESS\n",
      "    OPERATOR 0 SUM\n",
      "     LITERAL 14 LIT\n",
      "     LITERAL 14 LIT\n",
      "     LITERAL 10 LIT\n",
      "    OPERATOR 0 SUM\n",
      "     LITERAL 10 LIT\n",
      "     LITERAL 15 LIT\n",
      "     LITERAL 7 LIT\n",
      "   LITERAL 2194231 LIT\n",
      "  LITERAL 5 LIT\n",
      "  OPERATOR 1 PRODUCT\n",
      "   LITERAL 223 LIT\n",
      "   OPERATOR 7 EQUAL\n",
      "    LITERAL 3909 LIT\n",
      "    LITERAL 1470 LIT\n",
      "  LITERAL 3 LIT\n",
      "  OPERATOR 3 MAX\n",
      "   LITERAL 201 LIT\n",
      "   LITERAL 35420 LIT\n",
      "   LITERAL 573540 LIT\n",
      "  LITERAL 45652672 LIT\n",
      "  OPERATOR 1 PRODUCT\n",
      "   OPERATOR 3 MAX\n",
      "    OPERATOR 3 MAX\n",
      "     OPERATOR 0 SUM\n",
      "      OPERATOR 0 SUM\n",
      "       OPERATOR 0 SUM\n",
      "        OPERATOR 2 MIN\n",
      "         OPERATOR 3 MAX\n",
      "          OPERATOR 1 PRODUCT\n",
      "           OPERATOR 0 SUM\n",
      "            OPERATOR 2 MIN\n",
      "             OPERATOR 1 PRODUCT\n",
      "              OPERATOR 2 MIN\n",
      "               OPERATOR 0 SUM\n",
      "                OPERATOR 3 MAX\n",
      "                 OPERATOR 3 MAX\n",
      "                  OPERATOR 1 PRODUCT\n",
      "                   OPERATOR 2 MIN\n",
      "                    OPERATOR 1 PRODUCT\n",
      "                     OPERATOR 1 PRODUCT\n",
      "                      LITERAL 15 LIT\n",
      "  OPERATOR 1 PRODUCT\n",
      "   OPERATOR 5 GREATER\n",
      "    OPERATOR 0 SUM\n",
      "     LITERAL 15 LIT\n",
      "     LITERAL 5 LIT\n",
      "     LITERAL 14 LIT\n",
      "    OPERATOR 0 SUM\n",
      "     LITERAL 11 LIT\n",
      "     LITERAL 7 LIT\n",
      "     LITERAL 3 LIT\n",
      "   LITERAL 70 LIT\n",
      "  OPERATOR 2 MIN\n",
      "   LITERAL 2044 LIT\n",
      "   LITERAL 3881 LIT\n",
      "  LITERAL 4 LIT\n",
      "  OPERATOR 1 PRODUCT\n",
      "   LITERAL 158 LIT\n",
      "   OPERATOR 5 GREATER\n",
      "    LITERAL 10409 LIT\n",
      "    LITERAL 15363456644 LIT\n",
      "  LITERAL 198 LIT\n",
      "  OPERATOR 1 PRODUCT\n",
      "   LITERAL 142 LIT\n",
      "   OPERATOR 7 EQUAL\n",
      "    LITERAL 5186 LIT\n",
      "    LITERAL 5186 LIT\n",
      "  OPERATOR 0 SUM\n",
      "   LITERAL 47679 LIT\n",
      "   LITERAL 84 LIT\n",
      "   LITERAL 251511348 LIT\n",
      "   LITERAL 232790479076 LIT\n",
      "   LITERAL 2 LIT\n",
      "  OPERATOR 0 SUM\n",
      "   LITERAL 1395 LIT\n",
      "  OPERATOR 1 PRODUCT\n",
      "   LITERAL 38 LIT\n",
      "  OPERATOR 1 PRODUCT\n",
      "   LITERAL 111 LIT\n",
      "   LITERAL 149 LIT\n",
      "   LITERAL 37 LIT\n",
      "   LITERAL 64 LIT\n",
      "   LITERAL 250 LIT\n",
      "  OPERATOR 1 PRODUCT\n",
      "   LITERAL 247 LIT\n",
      "   LITERAL 42 LIT\n",
      "  OPERATOR 1 PRODUCT\n",
      "   OPERATOR 5 GREATER\n",
      "    LITERAL 39675 LIT\n",
      "    LITERAL 6739 LIT\n",
      "   LITERAL 2732 LIT\n",
      "  OPERATOR 1 PRODUCT\n",
      "   OPERATOR 0 SUM\n",
      "    LITERAL 8 LIT\n",
      "    LITERAL 4 LIT\n",
      "    LITERAL 14 LIT\n",
      "   OPERATOR 0 SUM\n",
      "    LITERAL 14 LIT\n",
      "    LITERAL 5 LIT\n",
      "    LITERAL 15 LIT\n",
      "   OPERATOR 0 SUM\n",
      "    LITERAL 13 LIT\n",
      "    LITERAL 15 LIT\n",
      "    LITERAL 3 LIT\n",
      "  LITERAL 2108 LIT\n",
      "  OPERATOR 2 MIN\n",
      "   LITERAL 18914 LIT\n",
      "   LITERAL 12 LIT\n",
      "   LITERAL 41461 LIT\n",
      "   LITERAL 52 LIT\n",
      "  OPERATOR 2 MIN\n",
      "   LITERAL 704684 LIT\n",
      "   LITERAL 122 LIT\n",
      "   LITERAL 5122 LIT\n",
      "  OPERATOR 1 PRODUCT\n",
      "   LITERAL 214 LIT\n",
      "   OPERATOR 6 LESS\n",
      "    LITERAL 778202 LIT\n",
      "    LITERAL 778202 LIT\n",
      "  OPERATOR 1 PRODUCT\n",
      "   OPERATOR 6 LESS\n",
      "    LITERAL 6611022 LIT\n",
      "    LITERAL 8088420 LIT\n",
      "   LITERAL 1963 LIT\n",
      "  OPERATOR 1 PRODUCT\n",
      "   LITERAL 438324 LIT\n",
      "   OPERATOR 5 GREATER\n",
      "    LITERAL 2033 LIT\n",
      "    LITERAL 2033 LIT\n",
      "  OPERATOR 1 PRODUCT\n",
      "   OPERATOR 5 GREATER\n",
      "    LITERAL 1672195128 LIT\n",
      "    LITERAL 19983 LIT\n",
      "   LITERAL 4357 LIT\n",
      "  OPERATOR 3 MAX\n",
      "   LITERAL 8 LIT\n",
      "   LITERAL 104 LIT\n",
      "   LITERAL 1 LIT\n",
      "   LITERAL 551251961610 LIT\n",
      "  OPERATOR 1 PRODUCT\n",
      "   LITERAL 3793 LIT\n",
      "   OPERATOR 7 EQUAL\n",
      "    LITERAL 240 LIT\n",
      "    LITERAL 18572 LIT\n",
      "  OPERATOR 3 MAX\n",
      "   LITERAL 871 LIT\n",
      "   LITERAL 3257895716 LIT\n",
      "   LITERAL 66 LIT\n",
      "   LITERAL 7 LIT\n",
      "   LITERAL 2738196270 LIT\n",
      "  OPERATOR 0 SUM\n",
      "   OPERATOR 1 PRODUCT\n",
      "    LITERAL 9 LIT\n",
      "    LITERAL 11 LIT\n",
      "    LITERAL 8 LIT\n",
      "   OPERATOR 1 PRODUCT\n",
      "    LITERAL 11 LIT\n",
      "    LITERAL 4 LIT\n",
      "    LITERAL 15 LIT\n",
      "   OPERATOR 1 PRODUCT\n",
      "    LITERAL 14 LIT\n",
      "    LITERAL 5 LIT\n",
      "    LITERAL 8 LIT\n",
      "  OPERATOR 0 SUM\n",
      "   LITERAL 3841 LIT\n",
      "   LITERAL 9 LIT\n",
      "  OPERATOR 1 PRODUCT\n",
      "   OPERATOR 6 LESS\n",
      "    OPERATOR 0 SUM\n",
      "     LITERAL 8 LIT\n",
      "     LITERAL 9 LIT\n",
      "     LITERAL 13 LIT\n",
      "    OPERATOR 0 SUM\n",
      "     LITERAL 7 LIT\n",
      "     LITERAL 6 LIT\n",
      "     LITERAL 5 LIT\n",
      "   LITERAL 231 LIT\n",
      "  OPERATOR 1 PRODUCT\n",
      "   LITERAL 64 LIT\n",
      "   LITERAL 175 LIT\n",
      "   LITERAL 157 LIT\n",
      "  OPERATOR 1 PRODUCT\n",
      "   LITERAL 147 LIT\n",
      "   LITERAL 47 LIT\n",
      "   LITERAL 46 LIT\n",
      "   LITERAL 222 LIT\n",
      "  OPERATOR 1 PRODUCT\n",
      "   LITERAL 220 LIT\n",
      "   OPERATOR 5 GREATER\n",
      "    LITERAL 101 LIT\n",
      "    LITERAL 63580 LIT\n",
      "  OPERATOR 2 MIN\n",
      "   LITERAL 137990907 LIT\n",
      "  OPERATOR 1 PRODUCT\n",
      "   LITERAL 153 LIT\n",
      "   OPERATOR 5 GREATER\n",
      "    OPERATOR 0 SUM\n",
      "     LITERAL 12 LIT\n",
      "     LITERAL 11 LIT\n",
      "     LITERAL 14 LIT\n",
      "    OPERATOR 0 SUM\n",
      "     LITERAL 14 LIT\n",
      "     LITERAL 9 LIT\n",
      "     LITERAL 4 LIT\n",
      "Solution for part one: 831996589851\n"
     ]
    }
   ],
   "source": [
    "sol = find_solution_two(input_file('16-input.txt'), tron=True)\n",
    "print(f\"Solution for part one: {sol}\")"
   ]
  }
 ],
 "metadata": {
  "kernelspec": {
   "display_name": "Python 3",
   "language": "python",
   "name": "python3"
  },
  "language_info": {
   "codemirror_mode": {
    "name": "ipython",
    "version": 3
   },
   "file_extension": ".py",
   "mimetype": "text/x-python",
   "name": "python",
   "nbconvert_exporter": "python",
   "pygments_lexer": "ipython3",
   "version": "3.8.10"
  }
 },
 "nbformat": 4,
 "nbformat_minor": 4
}
