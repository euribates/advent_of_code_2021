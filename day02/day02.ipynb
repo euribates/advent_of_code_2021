{
 "cells": [
  {
   "cell_type": "markdown",
   "metadata": {},
   "source": [
    "## Part One"
   ]
  },
  {
   "cell_type": "code",
   "execution_count": 11,
   "metadata": {},
   "outputs": [],
   "source": [
    "def load_data(filename):\n",
    "    with open(filename, 'r') as f:\n",
    "        for item in f.readlines():\n",
    "            cmd, amount = item.strip().split()\n",
    "            yield cmd, int(amount)"
   ]
  },
  {
   "cell_type": "code",
   "execution_count": 12,
   "metadata": {},
   "outputs": [
    {
     "name": "stdout",
     "output_type": "stream",
     "text": [
      "('forward', 5)\n",
      "('down', 5)\n",
      "('forward', 8)\n",
      "('up', 3)\n",
      "('down', 8)\n",
      "('forward', 2)\n"
     ]
    }
   ],
   "source": [
    "for cmd in load_data('02-sample.txt'):\n",
    "    print(cmd)"
   ]
  },
  {
   "cell_type": "code",
   "execution_count": 38,
   "metadata": {},
   "outputs": [],
   "source": [
    "def read_plan(seq):\n",
    "    horizontal = 0\n",
    "    depth = 0\n",
    "    for cmd, distance in seq:\n",
    "        if cmd == 'forward':\n",
    "            horizontal += distance\n",
    "        elif cmd == 'up':\n",
    "            depth -= distance\n",
    "        elif cmd == 'down':\n",
    "            depth += distance\n",
    "        else:\n",
    "            raise ValueError(f\"Invalid command {cmd}\")\n",
    "    return horizontal, depth\n",
    "        "
   ]
  },
  {
   "cell_type": "code",
   "execution_count": 39,
   "metadata": {},
   "outputs": [],
   "source": [
    "horizontal, depth = read_plan(load_data('02-sample.txt'))"
   ]
  },
  {
   "cell_type": "code",
   "execution_count": 40,
   "metadata": {},
   "outputs": [],
   "source": [
    "assert horizontal == 15\n",
    "assert depth == 10"
   ]
  },
  {
   "cell_type": "code",
   "execution_count": 41,
   "metadata": {},
   "outputs": [
    {
     "name": "stdout",
     "output_type": "stream",
     "text": [
      "First solution: 2120749\n"
     ]
    }
   ],
   "source": [
    "horizontal, depth= read_plan(load_data('02-input.txt'))\n",
    "print(f'First solution: {horizontal * depth}')"
   ]
  },
  {
   "cell_type": "markdown",
   "metadata": {},
   "source": [
    "## Part Two"
   ]
  },
  {
   "cell_type": "code",
   "execution_count": 52,
   "metadata": {},
   "outputs": [],
   "source": [
    "def read_plan_2(seq):\n",
    "    aim = 0\n",
    "    horizontal = 0\n",
    "    depth = 0\n",
    "    for cmd, distance in seq:\n",
    "        if cmd == 'forward':\n",
    "            horizontal += distance\n",
    "            depth += (aim * distance)\n",
    "        elif cmd == 'up':\n",
    "            aim -= distance\n",
    "        elif cmd == 'down':\n",
    "            aim += distance\n",
    "        else:\n",
    "            raise ValueError(f\"Invalid command {cmd}\")\n",
    "    return aim, horizontal, depth"
   ]
  },
  {
   "cell_type": "code",
   "execution_count": 53,
   "metadata": {},
   "outputs": [],
   "source": [
    "_, horizontal, depth = read_plan_2(load_data('02-sample.txt'))"
   ]
  },
  {
   "cell_type": "code",
   "execution_count": 54,
   "metadata": {},
   "outputs": [],
   "source": [
    "assert horizontal == 15\n",
    "assert depth == 60"
   ]
  },
  {
   "cell_type": "code",
   "execution_count": 56,
   "metadata": {},
   "outputs": [
    {
     "name": "stdout",
     "output_type": "stream",
     "text": [
      "Second solution: 2138382217\n"
     ]
    }
   ],
   "source": [
    "_, horizontal, depth = read_plan_2(load_data('02-input.txt'))\n",
    "print(f'Second solution: {horizontal * depth}')"
   ]
  },
  {
   "cell_type": "code",
   "execution_count": null,
   "metadata": {},
   "outputs": [],
   "source": []
  }
 ],
 "metadata": {
  "kernelspec": {
   "display_name": "Python 3",
   "language": "python",
   "name": "python3"
  },
  "language_info": {
   "codemirror_mode": {
    "name": "ipython",
    "version": 3
   },
   "file_extension": ".py",
   "mimetype": "text/x-python",
   "name": "python",
   "nbconvert_exporter": "python",
   "pygments_lexer": "ipython3",
   "version": "3.8.10"
  }
 },
 "nbformat": 4,
 "nbformat_minor": 4
}
