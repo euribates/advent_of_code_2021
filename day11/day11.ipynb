{
 "cells": [
  {
   "cell_type": "markdown",
   "metadata": {},
   "source": [
    "# Day 11: Dumbo Octopus"
   ]
  },
  {
   "cell_type": "code",
   "execution_count": 1,
   "metadata": {},
   "outputs": [],
   "source": [
    "def load_input(filename):\n",
    "    result = {}\n",
    "    with open(filename) as f:\n",
    "        for y, line in enumerate(f.readlines()):\n",
    "            for x, c in enumerate(line.strip()):\n",
    "                result[x, y] = int(c)\n",
    "    return result, (x+1, y+1)"
   ]
  },
  {
   "cell_type": "markdown",
   "metadata": {},
   "source": [
    "## Part one"
   ]
  },
  {
   "cell_type": "markdown",
   "metadata": {},
   "source": [
    "> The energy level of each octopus is a value between 0 and 9. Here, the top-left octopus has an energy level of 5, the bottom-right one has an energy level of 6, and so on."
   ]
  },
  {
   "cell_type": "code",
   "execution_count": 2,
   "metadata": {},
   "outputs": [],
   "source": [
    "world, size = load_input('11-sample.txt')\n",
    "assert size == (10, 10)\n",
    "assert world[0, 0] == 5\n",
    "assert world[9, 9] == 6"
   ]
  },
  {
   "cell_type": "markdown",
   "metadata": {},
   "source": [
    "### Let's see the world"
   ]
  },
  {
   "cell_type": "code",
   "execution_count": 3,
   "metadata": {},
   "outputs": [],
   "source": [
    "from PIL import Image, ImageDraw\n",
    "\n",
    "# https://betterfigures.org/2015/06/23/picking-a-colour-scale-for-scientific-graphics/\n",
    "\n",
    "COLOR_SCALE = [\n",
    "    '#67001f',\n",
    "    '#b3172b',\n",
    "    '#d7604d',\n",
    "    '#f5a683',\n",
    "    '#fedcc8',\n",
    "    '#f9f9f9',\n",
    "    '#d2e6f1',\n",
    "    '#93c6e0',\n",
    "    '#4394c4',\n",
    "    '#2166ad',\n",
    "    '#053061',\n",
    "]\n",
    "\n",
    "COLOR_SCALE = [\n",
    "    '#800026',\n",
    "    '#be0026',\n",
    "    '#e41a1c',\n",
    "    '#fd4e2a',\n",
    "    '#fe8e3c',\n",
    "    '#ffb34c',\n",
    "    '#ffda76',\n",
    "    '#ffeea1',\n",
    "    '#ffffcd',\n",
    "    '#FFFFFF',\n",
    "]\n",
    "\n",
    "def iter_world(world, size):\n",
    "    max_x, max_y = size\n",
    "    for y in range(max_y):\n",
    "        for x in range(max_x):\n",
    "            yield x, y, world[x, y]\n",
    "            \n",
    "\n",
    "def draw_world(world, size, scale=20):\n",
    "    max_x, max_y = size\n",
    "    new_size = (max_x * scale, max_y * scale)\n",
    "    img = Image.new('RGBA', new_size)\n",
    "    draw = ImageDraw.Draw(img)\n",
    "    for (x, y, level) in iter_world(world, size):\n",
    "        box = (x*scale, y*scale, x*scale+scale-2, y*scale+scale-2)\n",
    "        color = COLOR_SCALE[level]\n",
    "        draw.rectangle(box, fill=color)\n",
    "        if level >= 9:\n",
    "            draw.point((x * scale + (scale // 2), y * scale + (scale // 2)), (0, 0, 0))\n",
    "        if scale > 20:\n",
    "            color = 'black'if level > 4 else 'white'\n",
    "            pos = (x * scale + scale//10, y * scale + scale//10)\n",
    "            draw.text(pos, str(level), color)\n",
    "    return img"
   ]
  },
  {
   "cell_type": "code",
   "execution_count": 4,
   "metadata": {},
   "outputs": [
    {
     "data": {
      "image/png": "[encoded data removed]",
      "text/plain": [
       "<PIL.Image.Image image mode=RGBA size=210x210 at 0x7F4CD80D0D30>"
      ]
     },
     "execution_count": 4,
     "metadata": {},
     "output_type": "execute_result"
    }
   ],
   "source": [
    "world, size = load_input('11-sample.txt')\n",
    "draw_world(world, size, scale=21)"
   ]
  },
  {
   "cell_type": "markdown",
   "metadata": {},
   "source": [
    "> You can model the energy levels and flashes of light in steps. During a single step, the following occurs:\n",
    "\n",
    "> - First, the energy level of each octopus increases by 1.\n",
    "> - Then, any octopus with an energy level greater than 9 flashes. This increases the energy level of all adjacent octopuses by 1, including octopuses that are diagonally adjacent. If this causes an octopus to have an energy level greater than 9, it also flashes. This process continues as long as new octopuses keep having their energy level increased beyond 9. (An octopus can only flash at most once per step.)\n",
    "> - Finally, any octopus that flashed during this step has its energy level set to 0, as it used all of its energy to flash."
   ]
  },
  {
   "cell_type": "code",
   "execution_count": 5,
   "metadata": {},
   "outputs": [],
   "source": [
    "def neighbours(world, size, x, y):\n",
    "    max_x, max_y = size\n",
    "    for delta_y in (-1, 0, 1):\n",
    "        pos_y = y + delta_y\n",
    "        if pos_y < 0 or pos_y >= max_y:\n",
    "            continue\n",
    "        for delta_x in (-1, 0, 1):\n",
    "            pos_x = x + delta_x\n",
    "            if pos_x < 0 or pos_x >= max_x:\n",
    "                continue\n",
    "            if pos_x == x and pos_y == y:\n",
    "                continue\n",
    "            yield pos_x, pos_y, world[pos_x, pos_y]\n",
    "            \n",
    "world = {\n",
    "    (0, 0): 0,\n",
    "    (1, 0): 1,\n",
    "    (2, 0): 2,\n",
    "    (0, 1): 3,\n",
    "    (1, 1): 4,\n",
    "    (2, 1): 5,\n",
    "    (0, 2): 6,\n",
    "    (1, 2): 7,\n",
    "    (2, 2): 8,\n",
    "}\n",
    "size = (3, 3)\n",
    "assert list(neighbours(world, size, 1, 1)) == [\n",
    "    (0, 0, 0),\n",
    "    (1, 0, 1),\n",
    "    (2, 0, 2),\n",
    "    (0, 1, 3),\n",
    "    (2, 1, 5),\n",
    "    (0, 2, 6),\n",
    "    (1, 2, 7),\n",
    "    (2, 2, 8)\n",
    "]\n",
    "\n",
    "assert list(neighbours(world, size, 0, 0)) == [(1, 0, 1), (0, 1, 3), (1, 1, 4)]\n",
    "assert list(neighbours(world, size, 2, 2)) == [(1, 1, 4), (2, 1, 5), (1, 2, 7)]"
   ]
  },
  {
   "cell_type": "code",
   "execution_count": 6,
   "metadata": {},
   "outputs": [],
   "source": [
    "def step(world, size):\n",
    "    max_x, max_y = size\n",
    "    # the energy level of each octopus increases by 1.\n",
    "    new_world = {\n",
    "        (x, y): level + 1\n",
    "        for x, y, level in iter_world(world, size)\n",
    "    }\n",
    "    # Any octopus with an energy level greater than 9 flashes.\n",
    "    already_exploded = set([])\n",
    "    octopus_to_explode = {\n",
    "        (x, y)\n",
    "        for x, y, level in iter_world(new_world, size)\n",
    "        if level > 9\n",
    "    }\n",
    "    while octopus_to_explode:\n",
    "        (x, y) = octopus_to_explode.pop()\n",
    "        if (x, y) in already_exploded:\n",
    "            continue\n",
    "        for nx, ny, level in neighbours(new_world, size, x, y):\n",
    "            new_level = level + 1\n",
    "            new_world[nx, ny] = new_level\n",
    "            if new_level > 9: # Next to explode\n",
    "                octopus_to_explode.add((nx, ny))\n",
    "        already_exploded.add((x, y))\n",
    "        \n",
    "    # Finally, any octopus that flashed during this step\n",
    "    # has its energy level set to 0\n",
    "    for (x, y) in  already_exploded:   \n",
    "        new_world[x, y] = 0\n",
    "    return new_world, len(already_exploded)"
   ]
  },
  {
   "cell_type": "code",
   "execution_count": 7,
   "metadata": {},
   "outputs": [
    {
     "data": {
      "image/png": "[encoded data removed]",
      "text/plain": [
       "<PIL.Image.Image image mode=RGBA size=210x210 at 0x7F4CD04E0970>"
      ]
     },
     "execution_count": 7,
     "metadata": {},
     "output_type": "execute_result"
    }
   ],
   "source": [
    "world, size = load_input('11-sample.txt')\n",
    "draw_world(world, size, scale=21)"
   ]
  },
  {
   "cell_type": "code",
   "execution_count": 8,
   "metadata": {},
   "outputs": [
    {
     "data": {
      "image/png": "[encoded data removed]",
      "text/plain": [
       "<PIL.Image.Image image mode=RGBA size=210x210 at 0x7F4CD8053E20>"
      ]
     },
     "execution_count": 8,
     "metadata": {},
     "output_type": "execute_result"
    }
   ],
   "source": [
    "# Step 1\n",
    "world, num = step(world, size)\n",
    "assert num == 0\n",
    "draw_world(world, size, scale=21)"
   ]
  },
  {
   "cell_type": "code",
   "execution_count": 9,
   "metadata": {},
   "outputs": [
    {
     "data": {
      "image/png": "[encoded data removed]",
      "text/plain": [
       "<PIL.Image.Image image mode=RGBA size=210x210 at 0x7F4CD04E0040>"
      ]
     },
     "execution_count": 9,
     "metadata": {},
     "output_type": "execute_result"
    }
   ],
   "source": [
    "# step 2\n",
    "world, num = step(world, size)\n",
    "assert num == 35\n",
    "draw_world(world, size, scale=21)"
   ]
  },
  {
   "cell_type": "code",
   "execution_count": 10,
   "metadata": {},
   "outputs": [
    {
     "name": "stdout",
     "output_type": "stream",
     "text": [
      "45\n"
     ]
    },
    {
     "data": {
      "image/png": "[encoded data removed]",
      "text/plain": [
       "<PIL.Image.Image image mode=RGBA size=210x210 at 0x7F4CD04E0A30>"
      ]
     },
     "execution_count": 10,
     "metadata": {},
     "output_type": "execute_result"
    }
   ],
   "source": [
    "# Step 3\n",
    "world, num = step(world, size)\n",
    "print(num)\n",
    "assert num == 45\n",
    "draw_world(world, size, scale=21)"
   ]
  },
  {
   "cell_type": "code",
   "execution_count": 11,
   "metadata": {},
   "outputs": [
    {
     "name": "stdout",
     "output_type": "stream",
     "text": [
      "16\n"
     ]
    },
    {
     "data": {
      "image/png": "[encoded data removed]",
      "text/plain": [
       "<PIL.Image.Image image mode=RGBA size=210x210 at 0x7F4CD04E02E0>"
      ]
     },
     "execution_count": 11,
     "metadata": {},
     "output_type": "execute_result"
    }
   ],
   "source": [
    "# Step 4\n",
    "world, num = step(world, size)\n",
    "print(num)\n",
    "assert num == 16\n",
    "draw_world(world, size, scale=21)"
   ]
  },
  {
   "cell_type": "markdown",
   "metadata": {},
   "source": [
    "### Animate\n",
    "\n",
    "#### Warning! You need Imagemagick installed for the next step.\n",
    "\n",
    "Continue to \"Solution part one\" if you are not interested in the animation."
   ]
  },
  {
   "cell_type": "code",
   "execution_count": 12,
   "metadata": {},
   "outputs": [],
   "source": [
    "world, size = load_input('11-sample.txt')\n",
    "for frame in range(100):\n",
    "    img = draw_world(world, size, scale=20)\n",
    "    img.save(f'anim{frame:04}.png')\n",
    "    world, _ = step(world, size)"
   ]
  },
  {
   "cell_type": "code",
   "execution_count": 13,
   "metadata": {},
   "outputs": [],
   "source": [
    "!convert -delay 12 anim*.png dumboctopus_world.gif\n",
    "!rm anim*.png"
   ]
  },
  {
   "cell_type": "markdown",
   "metadata": {},
   "source": [
    "![Animated octopusworld](dumboctopus_world.gif)"
   ]
  },
  {
   "cell_type": "markdown",
   "metadata": {},
   "source": [
    "### Solution part one"
   ]
  },
  {
   "cell_type": "code",
   "execution_count": 14,
   "metadata": {},
   "outputs": [],
   "source": [
    "def solution_one(filename, iterations=10):\n",
    "    world, size = load_input(filename)\n",
    "    acc = 0\n",
    "    for frame in range(iterations):\n",
    "        world, num_flashes = step(world, size)\n",
    "        acc += num_flashes\n",
    "    return acc\n",
    "\n",
    "assert solution_one('11-sample.txt', iterations=100) == 1656"
   ]
  },
  {
   "cell_type": "code",
   "execution_count": 15,
   "metadata": {},
   "outputs": [
    {
     "name": "stdout",
     "output_type": "stream",
     "text": [
      "Solution of part one is: 1694\n"
     ]
    }
   ],
   "source": [
    "sol = solution_one('11-input.txt', iterations=100)\n",
    "print(f\"Solution of part one is: {sol}\")"
   ]
  },
  {
   "cell_type": "markdown",
   "metadata": {},
   "source": [
    "## Part two"
   ]
  },
  {
   "cell_type": "code",
   "execution_count": 16,
   "metadata": {},
   "outputs": [],
   "source": [
    "world, size = load_input('11-sample.txt')\n",
    "for i in range(195):\n",
    "    world, num_flashes = step(world, size)   \n",
    "assert num_flashes == 100"
   ]
  },
  {
   "cell_type": "code",
   "execution_count": 17,
   "metadata": {},
   "outputs": [
    {
     "name": "stdout",
     "output_type": "stream",
     "text": [
      "Solution of part one is: 346\n"
     ]
    }
   ],
   "source": [
    "world, size = load_input('11-input.txt')\n",
    "num_flashes = -1\n",
    "num_steps = 0\n",
    "while num_flashes != 100:\n",
    "    world, num_flashes = step(world, size)\n",
    "    num_steps += 1\n",
    "print(f\"Solution of part one is: {num_steps}\")"
   ]
  },
  {
   "cell_type": "markdown",
   "metadata": {},
   "source": [
    "## Extra"
   ]
  },
  {
   "cell_type": "code",
   "execution_count": 18,
   "metadata": {},
   "outputs": [],
   "source": [
    "world, size = load_input('11-input.txt')\n",
    "for frame in range(347):\n",
    "    img = draw_world(world, size, scale=18)\n",
    "    img.save(f'sol{frame:04}.png')\n",
    "    world, _ = step(world, size)"
   ]
  },
  {
   "cell_type": "code",
   "execution_count": 19,
   "metadata": {},
   "outputs": [],
   "source": [
    "!convert -delay 12 -loop 1 sol*.png final_solution.gif\n",
    "!rm sol*.png"
   ]
  },
  {
   "cell_type": "markdown",
   "metadata": {},
   "source": [
    "![Final solution](final_solution.gif)"
   ]
  }
 ],
 "metadata": {
  "kernelspec": {
   "display_name": "Python 3",
   "language": "python",
   "name": "python3"
  },
  "language_info": {
   "codemirror_mode": {
    "name": "ipython",
    "version": 3
   },
   "file_extension": ".py",
   "mimetype": "text/x-python",
   "name": "python",
   "nbconvert_exporter": "python",
   "pygments_lexer": "ipython3",
   "version": "3.8.10"
  }
 },
 "nbformat": 4,
 "nbformat_minor": 4
}
