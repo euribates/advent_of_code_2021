{
 "cells": [
  {
   "cell_type": "markdown",
   "metadata": {},
   "source": [
    "# Day 17: Trick Shot"
   ]
  },
  {
   "cell_type": "code",
   "execution_count": 383,
   "metadata": {},
   "outputs": [],
   "source": [
    "import re\n",
    "import itertools\n",
    "\n",
    "from PIL import Image, ImageDraw"
   ]
  },
  {
   "cell_type": "markdown",
   "metadata": {},
   "source": [
    "## Max range with velocity x\n",
    "\n",
    "if velocity in $X$ axis is $n$, the maximun length the probe is going to reach in axis $X$ is:\n",
    "\n",
    "$$ n + (n-1) + (n-2) + \\ldots + 1 $$\n",
    "\n",
    "In other form:\n",
    "\n",
    "$$ \\frac{n \\cdot (n+1)}{2} $$\n",
    "\n",
    "This means that all values for the $X$ velocity that never gets a final length of the minimun $X$ coordinate of the target area can be discarted.\n",
    "For example, as the target area of the sample starts in $20$, this means we can ignore every value $x$ that:\n",
    "\n",
    "$$ \\frac{x \\cdot (x+1)}{2} < 20 \\implies x \\cdot (x+1) < 40 $$\n",
    "\n",
    "We can substitute in the inequation $x \\cdot (x+1)$ by $x \\cdot x$, because:\n",
    "\n",
    "$$ x \\cdot x < x \\cdot (x+1) $$\n",
    "\n",
    "So:\n",
    "\n",
    "$$ x \\cdot x < 40 \\implies x^2 < 40 \\implies x < \\sqrt{40}$$\n",
    "\n",
    "The general formulae for the minimun value of the $X$ velocity to reach distance $d$ is:\n",
    "\n",
    "$$ \\left \\lfloor{ \\sqrt{2 \\cdot d} }\\right \\rfloor  $$\n",
    "\n",
    "In the example:\n",
    "\n",
    "$$ \\left \\lfloor{ \\sqrt{2 \\cdot 20} }\\right \\rfloor  \\implies \\left \\lfloor{ \\sqrt{40} }\\right \\rfloor = 6 $$\n",
    "\n",
    "\n",
    "All the possible values for velocity in $X$ axis are in a range between the previous calculated value and the maximun $X$ coordinate of the target area. In the\n",
    "sample:\n",
    "\n",
    "$$ [ 6 \\ldots 30 ] $$"
   ]
  },
  {
   "cell_type": "markdown",
   "metadata": {},
   "source": [
    "#### For all the posible values of (positive) speed in $Y$ axis, in some point we will be again in $x = 0$\n",
    "\n",
    "We need the minimun possible value in $X$ speed (For the example, this is $6$). Eventually we are going back to $Y = 0$, because is a parabole. The value on $x$ is now in range and is fixed. Possible values for Y are now all the y values in the target. We need the maximum speed in $Y$ (Because we want to erach the highst altitude) that still is in the target zone, and this is going to be the deepest value  minus one (The gravity is going to accelerate in uno unit, so if we take 10, the position on $Y$ is going to be $11$). For the example, speed in axis $Y$ needs to be $9$."
   ]
  },
  {
   "cell_type": "code",
   "execution_count": 341,
   "metadata": {},
   "outputs": [],
   "source": [
    "def load_input(filename):\n",
    "    pat_dta = re.compile(r'target area: x=(-?\\d+)..(-?\\d+), y=(-?\\d+)..(-?\\d+)')\n",
    "    with open(filename) as fr:\n",
    "        line = fr.readline().strip()\n",
    "        m = pat_dta.match(line)\n",
    "        return (\n",
    "            int(m.group(1)),  # Min x\n",
    "            int(m.group(3)),  # Min y\n",
    "            int(m.group(2)),  # Max x\n",
    "            int(m.group(4)),  # Max y\n",
    "        )"
   ]
  },
  {
   "cell_type": "code",
   "execution_count": 342,
   "metadata": {},
   "outputs": [],
   "source": [
    "min_x, min_y, max_x, max_y = load_input('17-sample.txt')\n",
    "assert min_x == 20\n",
    "assert max_x == 30\n",
    "assert min_y == -10\n",
    "assert max_y == -5"
   ]
  },
  {
   "cell_type": "code",
   "execution_count": 343,
   "metadata": {},
   "outputs": [],
   "source": [
    "def shoot(delta_x, delta_y, steps=10):\n",
    "    x = y = 0\n",
    "    for step in range(steps):\n",
    "        x += delta_x\n",
    "        y += delta_y\n",
    "        yield x, y\n",
    "        if delta_x > 0:\n",
    "            delta_x -= 1\n",
    "        delta_y -= 1\n",
    "\n",
    "assert list(shoot(7, 2, steps = 7)) == [\n",
    "    (7, 2),\n",
    "    (13, 3),\n",
    "    (18, 3),\n",
    "    (22, 2),\n",
    "    (25, 0),\n",
    "    (27, -3),\n",
    "    (28, -7),\n",
    "]"
   ]
  },
  {
   "cell_type": "code",
   "execution_count": 369,
   "metadata": {},
   "outputs": [],
   "source": [
    "def bounding_box(min_x, min_y, max_x, max_y):\n",
    "    from_x = min(min_x, 0) - 10\n",
    "    to_x = max_x + 10\n",
    "    from_y = min(min_y, 0) - 10\n",
    "    to_y = max_y + 10\n",
    "    return (\n",
    "        from_x, \n",
    "        from_y,\n",
    "        to_x,\n",
    "        to_y,\n",
    "    )\n",
    "min_x, min_y, max_x, max_y = load_input('17-sample.txt')\n",
    "assert min_x == 20\n",
    "assert min_y == -10\n",
    "assert max_x == 30\n",
    "assert max_y == -5\n",
    "min_x, min_y, max_x, max_y = bounding_box(min_x, min_y, max_x, max_y)\n",
    "assert min_x == -10\n",
    "assert min_y == -20\n",
    "assert max_x == 40\n",
    "assert max_y == 5"
   ]
  },
  {
   "cell_type": "code",
   "execution_count": 458,
   "metadata": {},
   "outputs": [
    {
     "name": "stdout",
     "output_type": "stream",
     "text": [
      "Max height: -1\n"
     ]
    },
    {
     "data": {
      "image/png": "[encoded data removed]",
      "text/plain": [
       "<PIL.Image.Image image mode=RGBA size=330x144 at 0x7F47B392CA30>"
      ]
     },
     "execution_count": 458,
     "metadata": {},
     "output_type": "execute_result"
    }
   ],
   "source": [
    "class DrawWorld:\n",
    "    \n",
    "    def __init__(self, min_x, min_y, max_x, max_y, factor=4):\n",
    "        self.factor = factor\n",
    "        self.target = [(min_x, min_y), (max_x, max_y)]\n",
    "        self.reshape(*bounding_box(min_x, min_y, max_x, max_y))\n",
    "        \n",
    "    def reshape(self, min_x, min_y, max_x, max_y):\n",
    "        self.min_x = min_x\n",
    "        self.min_y = min_y\n",
    "        self.max_x = max_x\n",
    "        self.max_y = max_y\n",
    "        self.width = max_x - min_x\n",
    "        self.height = max_y - min_y\n",
    "        self.offset_y = self.height + self.min_y\n",
    "        self.offset_x = -self.min_y\n",
    "        self.size = (self.width, self.height)\n",
    "    \n",
    "    def scale_x(self, x):\n",
    "        return (self.offset_x + x) * self.factor\n",
    "\n",
    "    def scale_y(self, y):\n",
    "        return (self.offset_y - y) * self.factor\n",
    "    \n",
    "    def scale(self, x, y):\n",
    "        return (self.scale_x(x), self.scale_y(y))\n",
    "\n",
    "    def in_target(self, x, y):\n",
    "        ((x0, y0), (x1, y1)) = self.target\n",
    "        return (x0 <= x <= x1) and (y0 <= y <= y1)\n",
    "    \n",
    "    def box(self, x, y):\n",
    "        box_half_size = self.factor // 2\n",
    "        x, y = self.scale(x, y)\n",
    "        return(x-box_half_size, y-box_half_size, x+box_half_size, y+box_half_size)\n",
    "        \n",
    "    def dot(self, draw, x, y, color=\"#666666\"):\n",
    "        if self.in_target(x, y):\n",
    "            color = \"red\"\n",
    "        draw.rectangle(self.box(x, y), fill=color)\n",
    "        \n",
    "    def circle(self, draw, x, y, color=\"#f0327a\"):\n",
    "        draw.ellipse(self.box(x, y), fill=color)\n",
    "\n",
    "    def rectangle(self, draw, box, color=\"#f0887a\"):\n",
    "        p0, p1 = box\n",
    "        x0, y0 = self.scale(*p0)\n",
    "        x1, y1 = self.scale(*p1)\n",
    "        draw.rectangle([x0, y0, x1, y1], outline=color)\n",
    "        for y in range(y1, y0+1):\n",
    "            for x in range(x0, x1+1):\n",
    "                if (x + y) % 6 in (2, 5, 8):\n",
    "                    draw.point((x, y), fill=\"gray\")\n",
    "                else:\n",
    "                    draw.point((x, y), fill=\"white\")\n",
    "\n",
    "    def axis(self, draw):\n",
    "        draw.line(\n",
    "            (\n",
    "                0,\n",
    "                self.offset_y*self.factor,\n",
    "                self.width*self.factor,\n",
    "                self.offset_y*self.factor\n",
    "            ), fill='#339922'\n",
    "        )\n",
    "        draw.line(\n",
    "            (\n",
    "                self.offset_x*self.factor,\n",
    "                0,\n",
    "                self.offset_x*self.factor,\n",
    "                self.height*self.factor\n",
    "            ), fill='#993322'\n",
    "        )\n",
    "        if self.factor > 2:\n",
    "            for y in range(self.min_y, self.max_y+1):\n",
    "                for x in range(self.min_x, self.max_x+1):\n",
    "                    draw.point(self.scale(x, y), fill=\"silver\")\n",
    "        self.circle(draw, 0, 0, \"green\")        \n",
    "        \n",
    "    def draw(self, points=None):\n",
    "        points = points or []\n",
    "        img = Image.new('RGBA', (self.width*self.factor, self.height*self.factor))\n",
    "        draw = ImageDraw.Draw(img)\n",
    "        self.axis(draw)\n",
    "        self.rectangle(draw, self.target)\n",
    "        for x, y in points:\n",
    "            self.dot(draw, x, y)\n",
    "        return img\n",
    "\n",
    "(x0, y0, x1, y1) = load_input('17-sample.txt')\n",
    "world = DrawWorld(x0, y0, x1, y1, factor=6)\n",
    "marks = list(itertools.takewhile(lambda p: p[1] >= y0, shoot(7, -1, steps = 200)))\n",
    "max_height = max(p[1] for p in marks)\n",
    "world.reshape(world.min_x, world.min_y, world.max_x+5, max_height+5)\n",
    "print(f'Max height: {max_height}')\n",
    "img = world.draw(marks)\n",
    "img"
   ]
  },
  {
   "cell_type": "code",
   "execution_count": 456,
   "metadata": {},
   "outputs": [
    {
     "name": "stdout",
     "output_type": "stream",
     "text": [
      "20 -10 30 -5\n"
     ]
    },
    {
     "data": {
      "image/png": "[encoded data removed]",
      "text/plain": [
       "<PIL.Image.Image image mode=RGBA size=500x250 at 0x7F47B33D22B0>"
      ]
     },
     "execution_count": 456,
     "metadata": {},
     "output_type": "execute_result"
    }
   ],
   "source": [
    "min_x, max_x, min_y, max_y = load_input('17-sample.txt')\n",
    "marks = list(shoot(3, 6, steps = (6*7)//2))\n",
    "print(min_x, max_x, min_y, max_y)\n",
    "world = DrawWorld(min_x, max_x, min_y, max_y, factor=10)\n",
    "img = world.draw(marks)\n",
    "img"
   ]
  },
  {
   "cell_type": "code",
   "execution_count": 455,
   "metadata": {},
   "outputs": [
    {
     "name": "stdout",
     "output_type": "stream",
     "text": [
      "Max height: -1\n"
     ]
    },
    {
     "data": {
      "image/png": "[encoded data removed]",
      "text/plain": [
       "<PIL.Image.Image image mode=RGBA size=500x108 at 0x7F47B3023340>"
      ]
     },
     "execution_count": 455,
     "metadata": {},
     "output_type": "execute_result"
    }
   ],
   "source": [
    "world_coords = load_input('17-input.txt')\n",
    "world = DrawWorld(*world_coords,factor=2)\n",
    "marks = list(shoot(7, -1, steps = 3))\n",
    "print('Max height:', max(p[1] for p in marks))\n",
    "img = world.draw(marks)\n",
    "img"
   ]
  },
  {
   "cell_type": "code",
   "execution_count": 217,
   "metadata": {},
   "outputs": [
    {
     "name": "stdout",
     "output_type": "stream",
     "text": [
      "20\n"
     ]
    },
    {
     "data": {
      "text/plain": [
       "6"
      ]
     },
     "execution_count": 217,
     "metadata": {},
     "output_type": "execute_result"
    }
   ],
   "source": [
    "import math\n",
    "min_x, max_x, min_y, max_y = load_input('17-sample.txt')\n",
    "print(min_x)\n",
    "math.trunc(math.sqrt(min_x * 2))"
   ]
  },
  {
   "cell_type": "code",
   "execution_count": 192,
   "metadata": {},
   "outputs": [
    {
     "data": {
      "text/plain": [
       "190"
      ]
     },
     "execution_count": 192,
     "metadata": {},
     "output_type": "execute_result"
    }
   ],
   "source": [
    "19*20//2"
   ]
  },
  {
   "cell_type": "markdown",
   "metadata": {},
   "source": [
    "## Solution part one"
   ]
  },
  {
   "cell_type": "code",
   "execution_count": 245,
   "metadata": {},
   "outputs": [
    {
     "name": "stdout",
     "output_type": "stream",
     "text": [
      "Velocity in x: 6\n",
      "Velocity in y: 9\n"
     ]
    }
   ],
   "source": [
    "import math\n",
    "\n",
    "def find_solution(filename):\n",
    "    min_x, max_x, min_y, max_y = load_input(filename)\n",
    "    \n",
    "    def in_target(x, y):\n",
    "        return (min_x <= x <= max_x) and (min_y <= y <= max_y)\n",
    "    \n",
    "    vel_x  = math.trunc(math.sqrt(min_x * 2))\n",
    "    print(f\"Velocity in x: {vel_x}\")\n",
    "    vel_y = abs(min_y) - 1\n",
    "    print(f\"Velocity in y: {vel_y}\")\n",
    "    marks = list(shoot(vel_x, vel_y, steps=vel_x**2))\n",
    "    assert any(in_target(p[0], p[1]) for p in marks)\n",
    "    return max(p[1] for p in marks)\n",
    "\n",
    "sol = find_solution('17-sample.txt')\n",
    "assert sol == 45"
   ]
  },
  {
   "cell_type": "code",
   "execution_count": 246,
   "metadata": {},
   "outputs": [
    {
     "name": "stdout",
     "output_type": "stream",
     "text": [
      "Velocity in x: 20\n",
      "Velocity in y: 98\n",
      "Solution part one: 4851\n"
     ]
    }
   ],
   "source": [
    "sol = find_solution('17-input.txt')\n",
    "print(f\"Solution part one: {sol}\")"
   ]
  },
  {
   "cell_type": "markdown",
   "metadata": {},
   "source": [
    "## Solution part two"
   ]
  },
  {
   "cell_type": "markdown",
   "metadata": {},
   "source": [
    "Range of posible solution for target defined from $x_0, y_0$ to $x_1, y_1$:\n",
    "\n",
    "For x:\n",
    "\n",
    "$$ [\\sqrt{2 \\cdot x_0 } \\ldots x1] $$\n",
    "\n",
    "For y:\n",
    "\n",
    "$$ [y0-1 \\ldots y1-1] $$\n"
   ]
  },
  {
   "cell_type": "code",
   "execution_count": 450,
   "metadata": {},
   "outputs": [],
   "source": [
    "SOLS = [\n",
    "    (23,-10),\n",
    "    (25,-9),\n",
    "    (27,-5),\n",
    "    (29,-6),\n",
    "    (22,-6),\n",
    "    (21,-7),\n",
    "    (9,0),\n",
    "    (27,-7),\n",
    "    (24,-5),\n",
    "    (25,-7  ),\n",
    "    (26,-6),\n",
    "    (25,-5),\n",
    "    (6,8),\n",
    "    (11,-2),\n",
    "    (20,-5),\n",
    "    (29,-10),\n",
    "    (6,3),\n",
    "    (28,-7),\n",
    "    (8,0    ),\n",
    "    (30,-6),\n",
    "    (29,-8),\n",
    "    (20,-10),\n",
    "    (6,7),\n",
    "    (6,4),\n",
    "    (6,1),\n",
    "    (14,-4),\n",
    "    (21,-6),\n",
    "    (26,-10),\n",
    "    (7,-1),\n",
    "    (7,7),\n",
    "    (8,-1),\n",
    "    (21,-9),\n",
    "    (6,2),\n",
    "    (20,-7),\n",
    "    (30,-10),\n",
    "    (14,-3),\n",
    "    (20,-8),\n",
    "    (13,-2),\n",
    "    (7,3),\n",
    "    (28,-8),\n",
    "    (29,-9),\n",
    "    (15,-3),\n",
    "    (22,-5),\n",
    "    (26,-8),\n",
    "    (25,-8),\n",
    "    (25,-6),\n",
    "    (15,-4),\n",
    "    (9,-2),\n",
    "    (15,-2),\n",
    "    (12,-2),\n",
    "    (28,-9),\n",
    "    (12,-3),\n",
    "    (24,-6),\n",
    "    (23,-7),\n",
    "    (25,-10 ),\n",
    "    (7,8),\n",
    "    (11,-3),\n",
    "    (26,-7),\n",
    "    (7,1),\n",
    "    (23,-9),\n",
    "    (6,0),\n",
    "    (22,-10),\n",
    "    (27,-6),\n",
    "    (8,1),\n",
    "    (22,-8),\n",
    "    (13,-4),\n",
    "    (7,6),\n",
    "    (28,-6),\n",
    "    (11,-4),\n",
    "    (12,-4),\n",
    "    (26,-9),\n",
    "    (7,4),\n",
    "    (24,-10),\n",
    "    (23,-8),\n",
    "    (30,-8),\n",
    "    (7,0),\n",
    "    (9,-1),\n",
    "    (10,-1),\n",
    "    (26,-5),\n",
    "    (22,-9),\n",
    "    (6,5),\n",
    "    (7,5),\n",
    "    (23,-6),\n",
    "    (28,-10),\n",
    "    (10,-2),\n",
    "    (11,-1),\n",
    "    (20,-9),\n",
    "    (14,-2),\n",
    "    (29,-7),\n",
    "    (13,-3),\n",
    "    (23,-5  ),\n",
    "    (24,-8),\n",
    "    (27,-9),\n",
    "    (30,-7),\n",
    "    (28,-5),\n",
    "    (21,-10),\n",
    "    (7,9),\n",
    "    (6,6),\n",
    "    (21,-5),\n",
    "    (27,-10),\n",
    "    (7,2),\n",
    "    (30,-9),\n",
    "    (21,-8),\n",
    "    (22,-7),\n",
    "    (24,-9),\n",
    "    (20,-6),\n",
    "    (6,9),\n",
    "    (29,-5),\n",
    "    (8,-2),\n",
    "    (27,-8),\n",
    "    (30,-5),\n",
    "    (24,-7),\n",
    "]\n"
   ]
  },
  {
   "cell_type": "code",
   "execution_count": 462,
   "metadata": {},
   "outputs": [
    {
     "name": "stdout",
     "output_type": "stream",
     "text": [
      "Caso especial x == 7 y == -1\n",
      "7 -1 in target: False off target: False\n",
      "13 -3 in target: False off target: False\n",
      "18 -6 in target: False off target: False\n",
      "22 -10 in target: True off target: False\n",
      "X range: 1 ... 31\n",
      "Y range: -10 ... 11\n",
      "Caso especial x == 7 y == -1\n",
      "7 -1 in target: False off target: False\n",
      "13 -3 in target: False off target: False\n",
      "18 -6 in target: False off target: False\n",
      "22 -10 in target: True off target: False\n",
      "[(6, 0), (6, 1), (6, 2), (6, 3), (6, 4), (6, 5), (6, 6), (6, 7), (6, 8), (6, 9), (7, -1), (7, 0), (7, 1), (7, 2), (7, 3), (7, 4), (7, 5), (7, 6), (7, 7), (7, 8), (7, 9), (8, -2), (8, -1), (8, 0), (8, 1), (9, -2), (9, -1), (9, 0), (10, -2), (10, -1), (11, -4), (11, -3), (11, -2), (11, -1), (12, -4), (12, -3), (12, -2), (13, -4), (13, -3), (13, -2), (14, -4), (14, -3), (14, -2), (15, -4), (15, -3), (15, -2), (20, -10), (20, -9), (20, -8), (20, -7), (20, -6), (20, -5), (21, -10), (21, -9), (21, -8), (21, -7), (21, -6), (21, -5), (22, -10), (22, -9), (22, -8), (22, -7), (22, -6), (22, -5), (23, -10), (23, -9), (23, -8), (23, -7), (23, -6), (23, -5), (24, -10), (24, -9), (24, -8), (24, -7), (24, -6), (24, -5), (25, -10), (25, -9), (25, -8), (25, -7), (25, -6), (25, -5), (26, -10), (26, -9), (26, -8), (26, -7), (26, -6), (26, -5), (27, -10), (27, -9), (27, -8), (27, -7), (27, -6), (27, -5), (28, -10), (28, -9), (28, -8), (28, -7), (28, -6), (28, -5), (29, -10), (29, -9), (29, -8), (29, -7), (29, -6), (29, -5), (30, -10), (30, -9), (30, -8), (30, -7), (30, -6), (30, -5)]\n",
      "112\n",
      "True\n"
     ]
    }
   ],
   "source": [
    "import math\n",
    "import itertools\n",
    "\n",
    "def find_solution_two(filename):\n",
    "    x0, y0, x1, y1 = load_input(filename)\n",
    "    \n",
    "    def in_target(x, y):\n",
    "        return (x0 <= x <= x1) and (y0 <= y <= y1)\n",
    "\n",
    "    def off_target(y):\n",
    "        return y < y0\n",
    "        \n",
    "    def probe_arrives(x, y):\n",
    "        tron = (x == 7 and y == -1)\n",
    "        if tron:\n",
    "            print(f'Caso especial x == {x} y == {y}')\n",
    "        for (_x, _y) in shoot(x, y, steps = 20000000):\n",
    "            if tron:\n",
    "                print(_x, _y, 'in target:', in_target(_x, _y), 'off target:', off_target(_y))\n",
    "            if in_target(_x, _y):\n",
    "                return (x, y)\n",
    "            if off_target(_y):\n",
    "                return None\n",
    "        raise Value('MATRAKA!')\n",
    "    \n",
    "    for x,y in SOLS:\n",
    "        if probe_arrives(x, y) is None:\n",
    "            print(f\"No detecta la solucion {x},{y}\")\n",
    "    \n",
    "    solutions = set([])\n",
    "    print(f\"X range: {1} ... {x1+1}\")\n",
    "    print(f\"Y range: {-abs(y0)} ... {abs(y0)+1}\")\n",
    "    for y in range(-abs(y0), abs(y0)+1):\n",
    "        for x in range(0, x1+1):\n",
    "            sol = probe_arrives(x, y)\n",
    "            if sol:\n",
    "                solutions.add(sol)\n",
    "    print(sorted(solutions))\n",
    "    print(len(solutions))\n",
    "    print((6, 7) in solutions)\n",
    "    \n",
    "    \n",
    "find_solution_two('17-sample.txt')                \n",
    "            \n",
    "        \n"
   ]
  },
  {
   "cell_type": "code",
   "execution_count": 463,
   "metadata": {},
   "outputs": [
    {
     "name": "stdout",
     "output_type": "stream",
     "text": [
      "No detecta la solucion 23,-10\n",
      "No detecta la solucion 25,-9\n",
      "No detecta la solucion 22,-6\n",
      "No detecta la solucion 21,-7\n",
      "No detecta la solucion 9,0\n",
      "No detecta la solucion 24,-5\n",
      "No detecta la solucion 25,-7\n",
      "No detecta la solucion 26,-6\n",
      "No detecta la solucion 6,8\n",
      "No detecta la solucion 11,-2\n",
      "No detecta la solucion 20,-5\n",
      "No detecta la solucion 29,-10\n",
      "No detecta la solucion 6,3\n",
      "No detecta la solucion 8,0\n",
      "No detecta la solucion 20,-10\n",
      "No detecta la solucion 6,7\n",
      "No detecta la solucion 6,4\n",
      "No detecta la solucion 6,1\n",
      "No detecta la solucion 14,-4\n",
      "No detecta la solucion 21,-6\n",
      "No detecta la solucion 26,-10\n",
      "Caso especial x == 7 y == -1\n",
      "7 -1 in target: False off target: False\n",
      "13 -3 in target: False off target: False\n",
      "18 -6 in target: False off target: False\n",
      "22 -10 in target: False off target: False\n",
      "25 -15 in target: False off target: False\n",
      "27 -21 in target: False off target: False\n",
      "28 -28 in target: False off target: False\n",
      "28 -36 in target: False off target: False\n",
      "28 -45 in target: False off target: False\n",
      "28 -55 in target: False off target: False\n",
      "28 -66 in target: False off target: False\n",
      "28 -78 in target: False off target: False\n",
      "28 -91 in target: False off target: False\n",
      "28 -105 in target: False off target: True\n",
      "No detecta la solucion 7,-1\n",
      "No detecta la solucion 7,7\n",
      "No detecta la solucion 8,-1\n",
      "No detecta la solucion 21,-9\n",
      "No detecta la solucion 6,2\n",
      "No detecta la solucion 20,-7\n",
      "No detecta la solucion 30,-10\n",
      "No detecta la solucion 14,-3\n",
      "No detecta la solucion 20,-8\n",
      "No detecta la solucion 13,-2\n",
      "No detecta la solucion 7,3\n",
      "No detecta la solucion 28,-8\n",
      "No detecta la solucion 29,-9\n",
      "No detecta la solucion 15,-3\n",
      "No detecta la solucion 22,-5\n",
      "No detecta la solucion 26,-8\n",
      "No detecta la solucion 25,-8\n",
      "No detecta la solucion 25,-6\n",
      "No detecta la solucion 15,-4\n",
      "No detecta la solucion 9,-2\n",
      "No detecta la solucion 15,-2\n",
      "No detecta la solucion 12,-2\n",
      "No detecta la solucion 28,-9\n",
      "No detecta la solucion 12,-3\n",
      "No detecta la solucion 24,-6\n",
      "No detecta la solucion 23,-7\n",
      "No detecta la solucion 25,-10\n",
      "No detecta la solucion 7,8\n",
      "No detecta la solucion 11,-3\n",
      "No detecta la solucion 26,-7\n",
      "No detecta la solucion 7,1\n",
      "No detecta la solucion 23,-9\n",
      "No detecta la solucion 6,0\n",
      "No detecta la solucion 22,-10\n",
      "No detecta la solucion 8,1\n",
      "No detecta la solucion 22,-8\n",
      "No detecta la solucion 13,-4\n",
      "No detecta la solucion 7,6\n",
      "No detecta la solucion 11,-4\n",
      "No detecta la solucion 12,-4\n",
      "No detecta la solucion 26,-9\n",
      "No detecta la solucion 7,4\n",
      "No detecta la solucion 24,-10\n",
      "No detecta la solucion 23,-8\n",
      "No detecta la solucion 7,0\n",
      "No detecta la solucion 9,-1\n",
      "No detecta la solucion 10,-1\n",
      "No detecta la solucion 22,-9\n",
      "No detecta la solucion 6,5\n",
      "No detecta la solucion 7,5\n",
      "No detecta la solucion 23,-6\n",
      "No detecta la solucion 28,-10\n",
      "No detecta la solucion 10,-2\n",
      "No detecta la solucion 11,-1\n",
      "No detecta la solucion 20,-9\n",
      "No detecta la solucion 14,-2\n",
      "No detecta la solucion 13,-3\n",
      "No detecta la solucion 23,-5\n",
      "No detecta la solucion 24,-8\n",
      "No detecta la solucion 27,-9\n",
      "No detecta la solucion 21,-10\n",
      "No detecta la solucion 7,9\n",
      "No detecta la solucion 6,6\n",
      "No detecta la solucion 21,-5\n",
      "No detecta la solucion 27,-10\n",
      "No detecta la solucion 7,2\n",
      "No detecta la solucion 30,-9\n",
      "No detecta la solucion 21,-8\n",
      "No detecta la solucion 22,-7\n",
      "No detecta la solucion 24,-9\n",
      "No detecta la solucion 20,-6\n",
      "No detecta la solucion 6,9\n",
      "No detecta la solucion 8,-2\n",
      "No detecta la solucion 27,-8\n",
      "No detecta la solucion 24,-7\n",
      "X range: 1 ... 231\n",
      "Y range: -99 ... 100\n",
      "Caso especial x == 7 y == -1\n",
      "7 -1 in target: False off target: False\n",
      "13 -3 in target: False off target: False\n",
      "18 -6 in target: False off target: False\n",
      "22 -10 in target: False off target: False\n",
      "25 -15 in target: False off target: False\n",
      "27 -21 in target: False off target: False\n",
      "28 -28 in target: False off target: False\n",
      "28 -36 in target: False off target: False\n",
      "28 -45 in target: False off target: False\n",
      "28 -55 in target: False off target: False\n",
      "28 -66 in target: False off target: False\n",
      "28 -78 in target: False off target: False\n",
      "28 -91 in target: False off target: False\n",
      "28 -105 in target: False off target: True\n",
      "[(20, 3), (20, 4), (20, 5), (20, 6), (20, 7), (20, 8), (20, 9), (20, 10), (20, 11), (20, 12), (20, 13), (20, 14), (20, 15), (20, 16), (20, 17), (20, 18), (20, 19), (20, 20), (20, 21), (20, 22), (20, 23), (20, 24), (20, 25), (20, 26), (20, 27), (20, 28), (20, 29), (20, 30), (20, 31), (20, 32), (20, 33), (20, 34), (20, 35), (20, 36), (20, 37), (20, 38), (20, 39), (20, 40), (20, 41), (20, 42), (20, 43), (20, 44), (20, 45), (20, 46), (20, 47), (20, 48), (20, 64), (20, 65), (20, 66), (20, 67), (20, 68), (20, 69), (20, 70), (20, 71), (20, 72), (20, 73), (20, 74), (20, 75), (20, 76), (20, 77), (20, 78), (20, 79), (20, 80), (20, 81), (20, 82), (20, 83), (20, 84), (20, 85), (20, 86), (20, 87), (20, 88), (20, 89), (20, 90), (20, 91), (20, 92), (20, 93), (20, 94), (20, 95), (20, 96), (20, 97), (20, 98), (21, 0), (21, 1), (21, 2), (21, 3), (21, 4), (21, 5), (21, 6), (22, -1), (22, 0), (22, 1), (22, 2), (23, -2), (23, -1), (23, 0), (23, 1), (24, -4), (24, -3), (24, -2), (24, -1), (24, 0), (25, -5), (25, -4), (25, -3), (25, -2), (25, -1), (26, -5), (26, -4), (26, -3), (26, -2), (27, -7), (27, -6), (27, -5), (27, -4), (27, -3), (27, -2), (28, -7), (28, -6), (28, -5), (28, -4), (29, -8), (29, -7), (29, -6), (29, -5), (29, -4), (30, -8), (30, -7), (30, -6), (30, -5), (31, -8), (31, -7), (31, -6), (31, -5), (32, -11), (32, -10), (32, -9), (32, -8), (32, -7), (32, -6), (32, -5), (33, -11), (33, -10), (33, -9), (33, -8), (33, -7), (34, -11), (34, -10), (34, -9), (34, -8), (34, -7), (35, -11), (35, -10), (35, -9), (35, -8), (35, -7), (36, -14), (36, -13), (36, -12), (36, -11), (36, -10), (36, -9), (37, -14), (37, -13), (37, -12), (37, -11), (37, -10), (37, -9), (38, -14), (38, -13), (38, -12), (38, -11), (38, -10), (38, -9), (39, -14), (39, -13), (39, -12), (39, -11), (39, -10), (39, -9), (40, -14), (40, -13), (40, -12), (40, -11), (40, -10), (40, -9), (43, -17), (43, -16), (43, -15), (43, -14), (43, -13), (43, -12), (43, -11), (44, -17), (44, -16), (44, -15), (44, -14), (44, -13), (44, -12), (44, -11), (45, -17), (45, -16), (45, -15), (45, -14), (45, -13), (45, -12), (45, -11), (46, -17), (46, -16), (46, -15), (46, -14), (46, -13), (46, -12), (46, -11), (47, -17), (47, -16), (47, -15), (47, -14), (47, -13), (47, -12), (47, -11), (48, -17), (48, -16), (48, -15), (48, -14), (48, -13), (48, -12), (48, -11), (52, -23), (52, -22), (52, -21), (52, -20), (52, -19), (52, -18), (52, -17), (52, -16), (52, -15), (53, -23), (53, -22), (53, -21), (53, -20), (53, -19), (53, -18), (53, -17), (53, -16), (53, -15), (54, -23), (54, -22), (54, -21), (54, -20), (54, -19), (54, -18), (54, -17), (54, -16), (54, -15), (55, -23), (55, -22), (55, -21), (55, -20), (55, -19), (55, -18), (55, -17), (55, -16), (55, -15), (56, -23), (56, -22), (56, -21), (56, -20), (56, -19), (56, -18), (56, -17), (56, -16), (56, -15), (57, -23), (57, -22), (57, -21), (57, -20), (57, -19), (57, -18), (57, -17), (57, -16), (57, -15), (58, -23), (58, -22), (58, -21), (58, -20), (58, -19), (58, -18), (58, -17), (58, -16), (58, -15), (59, -23), (59, -22), (59, -21), (59, -20), (59, -19), (59, -18), (59, -17), (59, -16), (59, -15), (68, -32), (68, -31), (68, -30), (68, -29), (68, -28), (68, -27), (68, -26), (68, -25), (68, -24), (68, -23), (68, -22), (68, -21), (69, -32), (69, -31), (69, -30), (69, -29), (69, -28), (69, -27), (69, -26), (69, -25), (69, -24), (69, -23), (69, -22), (69, -21), (70, -32), (70, -31), (70, -30), (70, -29), (70, -28), (70, -27), (70, -26), (70, -25), (70, -24), (70, -23), (70, -22), (70, -21), (71, -32), (71, -31), (71, -30), (71, -29), (71, -28), (71, -27), (71, -26), (71, -25), (71, -24), (71, -23), (71, -22), (71, -21), (72, -32), (72, -31), (72, -30), (72, -29), (72, -28), (72, -27), (72, -26), (72, -25), (72, -24), (72, -23), (72, -22), (72, -21), (73, -32), (73, -31), (73, -30), (73, -29), (73, -28), (73, -27), (73, -26), (73, -25), (73, -24), (73, -23), (73, -22), (73, -21), (74, -32), (74, -31), (74, -30), (74, -29), (74, -28), (74, -27), (74, -26), (74, -25), (74, -24), (74, -23), (74, -22), (74, -21), (75, -32), (75, -31), (75, -30), (75, -29), (75, -28), (75, -27), (75, -26), (75, -25), (75, -24), (75, -23), (75, -22), (75, -21), (76, -32), (76, -31), (76, -30), (76, -29), (76, -28), (76, -27), (76, -26), (76, -25), (76, -24), (76, -23), (76, -22), (76, -21), (77, -32), (77, -31), (77, -30), (77, -29), (77, -28), (77, -27), (77, -26), (77, -25), (77, -24), (77, -23), (77, -22), (77, -21), (101, -49), (101, -48), (101, -47), (101, -46), (101, -45), (101, -44), (101, -43), (101, -42), (101, -41), (101, -40), (101, -39), (101, -38), (101, -37), (101, -36), (101, -35), (101, -34), (101, -33), (101, -32), (102, -49), (102, -48), (102, -47), (102, -46), (102, -45), (102, -44), (102, -43), (102, -42), (102, -41), (102, -40), (102, -39), (102, -38), (102, -37), (102, -36), (102, -35), (102, -34), (102, -33), (102, -32), (103, -49), (103, -48), (103, -47), (103, -46), (103, -45), (103, -44), (103, -43), (103, -42), (103, -41), (103, -40), (103, -39), (103, -38), (103, -37), (103, -36), (103, -35), (103, -34), (103, -33), (103, -32), (104, -49), (104, -48), (104, -47), (104, -46), (104, -45), (104, -44), (104, -43), (104, -42), (104, -41), (104, -40), (104, -39), (104, -38), (104, -37), (104, -36), (104, -35), (104, -34), (104, -33), (104, -32), (105, -49), (105, -48), (105, -47), (105, -46), (105, -45), (105, -44), (105, -43), (105, -42), (105, -41), (105, -40), (105, -39), (105, -38), (105, -37), (105, -36), (105, -35), (105, -34), (105, -33), (105, -32), (106, -49), (106, -48), (106, -47), (106, -46), (106, -45), (106, -44), (106, -43), (106, -42), (106, -41), (106, -40), (106, -39), (106, -38), (106, -37), (106, -36), (106, -35), (106, -34), (106, -33), (106, -32), (107, -49), (107, -48), (107, -47), (107, -46), (107, -45), (107, -44), (107, -43), (107, -42), (107, -41), (107, -40), (107, -39), (107, -38), (107, -37), (107, -36), (107, -35), (107, -34), (107, -33), (107, -32), (108, -49), (108, -48), (108, -47), (108, -46), (108, -45), (108, -44), (108, -43), (108, -42), (108, -41), (108, -40), (108, -39), (108, -38), (108, -37), (108, -36), (108, -35), (108, -34), (108, -33), (108, -32), (109, -49), (109, -48), (109, -47), (109, -46), (109, -45), (109, -44), (109, -43), (109, -42), (109, -41), (109, -40), (109, -39), (109, -38), (109, -37), (109, -36), (109, -35), (109, -34), (109, -33), (109, -32), (110, -49), (110, -48), (110, -47), (110, -46), (110, -45), (110, -44), (110, -43), (110, -42), (110, -41), (110, -40), (110, -39), (110, -38), (110, -37), (110, -36), (110, -35), (110, -34), (110, -33), (110, -32), (111, -49), (111, -48), (111, -47), (111, -46), (111, -45), (111, -44), (111, -43), (111, -42), (111, -41), (111, -40), (111, -39), (111, -38), (111, -37), (111, -36), (111, -35), (111, -34), (111, -33), (111, -32), (112, -49), (112, -48), (112, -47), (112, -46), (112, -45), (112, -44), (112, -43), (112, -42), (112, -41), (112, -40), (112, -39), (112, -38), (112, -37), (112, -36), (112, -35), (112, -34), (112, -33), (112, -32), (113, -49), (113, -48), (113, -47), (113, -46), (113, -45), (113, -44), (113, -43), (113, -42), (113, -41), (113, -40), (113, -39), (113, -38), (113, -37), (113, -36), (113, -35), (113, -34), (113, -33), (113, -32), (114, -49), (114, -48), (114, -47), (114, -46), (114, -45), (114, -44), (114, -43), (114, -42), (114, -41), (114, -40), (114, -39), (114, -38), (114, -37), (114, -36), (114, -35), (114, -34), (114, -33), (114, -32), (115, -49), (115, -48), (115, -47), (115, -46), (115, -45), (115, -44), (115, -43), (115, -42), (115, -41), (115, -40), (115, -39), (115, -38), (115, -37), (115, -36), (115, -35), (115, -34), (115, -33), (115, -32), (201, -99), (201, -98), (201, -97), (201, -96), (201, -95), (201, -94), (201, -93), (201, -92), (201, -91), (201, -90), (201, -89), (201, -88), (201, -87), (201, -86), (201, -85), (201, -84), (201, -83), (201, -82), (201, -81), (201, -80), (201, -79), (201, -78), (201, -77), (201, -76), (201, -75), (201, -74), (201, -73), (201, -72), (201, -71), (201, -70), (201, -69), (201, -68), (201, -67), (201, -66), (201, -65), (202, -99), (202, -98), (202, -97), (202, -96), (202, -95), (202, -94), (202, -93), (202, -92), (202, -91), (202, -90), (202, -89), (202, -88), (202, -87), (202, -86), (202, -85), (202, -84), (202, -83), (202, -82), (202, -81), (202, -80), (202, -79), (202, -78), (202, -77), (202, -76), (202, -75), (202, -74), (202, -73), (202, -72), (202, -71), (202, -70), (202, -69), (202, -68), (202, -67), (202, -66), (202, -65), (203, -99), (203, -98), (203, -97), (203, -96), (203, -95), (203, -94), (203, -93), (203, -92), (203, -91), (203, -90), (203, -89), (203, -88), (203, -87), (203, -86), (203, -85), (203, -84), (203, -83), (203, -82), (203, -81), (203, -80), (203, -79), (203, -78), (203, -77), (203, -76), (203, -75), (203, -74), (203, -73), (203, -72), (203, -71), (203, -70), (203, -69), (203, -68), (203, -67), (203, -66), (203, -65), (204, -99), (204, -98), (204, -97), (204, -96), (204, -95), (204, -94), (204, -93), (204, -92), (204, -91), (204, -90), (204, -89), (204, -88), (204, -87), (204, -86), (204, -85), (204, -84), (204, -83), (204, -82), (204, -81), (204, -80), (204, -79), (204, -78), (204, -77), (204, -76), (204, -75), (204, -74), (204, -73), (204, -72), (204, -71), (204, -70), (204, -69), (204, -68), (204, -67), (204, -66), (204, -65), (205, -99), (205, -98), (205, -97), (205, -96), (205, -95), (205, -94), (205, -93), (205, -92), (205, -91), (205, -90), (205, -89), (205, -88), (205, -87), (205, -86), (205, -85), (205, -84), (205, -83), (205, -82), (205, -81), (205, -80), (205, -79), (205, -78), (205, -77), (205, -76), (205, -75), (205, -74), (205, -73), (205, -72), (205, -71), (205, -70), (205, -69), (205, -68), (205, -67), (205, -66), (205, -65), (206, -99), (206, -98), (206, -97), (206, -96), (206, -95), (206, -94), (206, -93), (206, -92), (206, -91), (206, -90), (206, -89), (206, -88), (206, -87), (206, -86), (206, -85), (206, -84), (206, -83), (206, -82), (206, -81), (206, -80), (206, -79), (206, -78), (206, -77), (206, -76), (206, -75), (206, -74), (206, -73), (206, -72), (206, -71), (206, -70), (206, -69), (206, -68), (206, -67), (206, -66), (206, -65), (207, -99), (207, -98), (207, -97), (207, -96), (207, -95), (207, -94), (207, -93), (207, -92), (207, -91), (207, -90), (207, -89), (207, -88), (207, -87), (207, -86), (207, -85), (207, -84), (207, -83), (207, -82), (207, -81), (207, -80), (207, -79), (207, -78), (207, -77), (207, -76), (207, -75), (207, -74), (207, -73), (207, -72), (207, -71), (207, -70), (207, -69), (207, -68), (207, -67), (207, -66), (207, -65), (208, -99), (208, -98), (208, -97), (208, -96), (208, -95), (208, -94), (208, -93), (208, -92), (208, -91), (208, -90), (208, -89), (208, -88), (208, -87), (208, -86), (208, -85), (208, -84), (208, -83), (208, -82), (208, -81), (208, -80), (208, -79), (208, -78), (208, -77), (208, -76), (208, -75), (208, -74), (208, -73), (208, -72), (208, -71), (208, -70), (208, -69), (208, -68), (208, -67), (208, -66), (208, -65), (209, -99), (209, -98), (209, -97), (209, -96), (209, -95), (209, -94), (209, -93), (209, -92), (209, -91), (209, -90), (209, -89), (209, -88), (209, -87), (209, -86), (209, -85), (209, -84), (209, -83), (209, -82), (209, -81), (209, -80), (209, -79), (209, -78), (209, -77), (209, -76), (209, -75), (209, -74), (209, -73), (209, -72), (209, -71), (209, -70), (209, -69), (209, -68), (209, -67), (209, -66), (209, -65), (210, -99), (210, -98), (210, -97), (210, -96), (210, -95), (210, -94), (210, -93), (210, -92), (210, -91), (210, -90), (210, -89), (210, -88), (210, -87), (210, -86), (210, -85), (210, -84), (210, -83), (210, -82), (210, -81), (210, -80), (210, -79), (210, -78), (210, -77), (210, -76), (210, -75), (210, -74), (210, -73), (210, -72), (210, -71), (210, -70), (210, -69), (210, -68), (210, -67), (210, -66), (210, -65), (211, -99), (211, -98), (211, -97), (211, -96), (211, -95), (211, -94), (211, -93), (211, -92), (211, -91), (211, -90), (211, -89), (211, -88), (211, -87), (211, -86), (211, -85), (211, -84), (211, -83), (211, -82), (211, -81), (211, -80), (211, -79), (211, -78), (211, -77), (211, -76), (211, -75), (211, -74), (211, -73), (211, -72), (211, -71), (211, -70), (211, -69), (211, -68), (211, -67), (211, -66), (211, -65), (212, -99), (212, -98), (212, -97), (212, -96), (212, -95), (212, -94), (212, -93), (212, -92), (212, -91), (212, -90), (212, -89), (212, -88), (212, -87), (212, -86), (212, -85), (212, -84), (212, -83), (212, -82), (212, -81), (212, -80), (212, -79), (212, -78), (212, -77), (212, -76), (212, -75), (212, -74), (212, -73), (212, -72), (212, -71), (212, -70), (212, -69), (212, -68), (212, -67), (212, -66), (212, -65), (213, -99), (213, -98), (213, -97), (213, -96), (213, -95), (213, -94), (213, -93), (213, -92), (213, -91), (213, -90), (213, -89), (213, -88), (213, -87), (213, -86), (213, -85), (213, -84), (213, -83), (213, -82), (213, -81), (213, -80), (213, -79), (213, -78), (213, -77), (213, -76), (213, -75), (213, -74), (213, -73), (213, -72), (213, -71), (213, -70), (213, -69), (213, -68), (213, -67), (213, -66), (213, -65), (214, -99), (214, -98), (214, -97), (214, -96), (214, -95), (214, -94), (214, -93), (214, -92), (214, -91), (214, -90), (214, -89), (214, -88), (214, -87), (214, -86), (214, -85), (214, -84), (214, -83), (214, -82), (214, -81), (214, -80), (214, -79), (214, -78), (214, -77), (214, -76), (214, -75), (214, -74), (214, -73), (214, -72), (214, -71), (214, -70), (214, -69), (214, -68), (214, -67), (214, -66), (214, -65), (215, -99), (215, -98), (215, -97), (215, -96), (215, -95), (215, -94), (215, -93), (215, -92), (215, -91), (215, -90), (215, -89), (215, -88), (215, -87), (215, -86), (215, -85), (215, -84), (215, -83), (215, -82), (215, -81), (215, -80), (215, -79), (215, -78), (215, -77), (215, -76), (215, -75), (215, -74), (215, -73), (215, -72), (215, -71), (215, -70), (215, -69), (215, -68), (215, -67), (215, -66), (215, -65), (216, -99), (216, -98), (216, -97), (216, -96), (216, -95), (216, -94), (216, -93), (216, -92), (216, -91), (216, -90), (216, -89), (216, -88), (216, -87), (216, -86), (216, -85), (216, -84), (216, -83), (216, -82), (216, -81), (216, -80), (216, -79), (216, -78), (216, -77), (216, -76), (216, -75), (216, -74), (216, -73), (216, -72), (216, -71), (216, -70), (216, -69), (216, -68), (216, -67), (216, -66), (216, -65), (217, -99), (217, -98), (217, -97), (217, -96), (217, -95), (217, -94), (217, -93), (217, -92), (217, -91), (217, -90), (217, -89), (217, -88), (217, -87), (217, -86), (217, -85), (217, -84), (217, -83), (217, -82), (217, -81), (217, -80), (217, -79), (217, -78), (217, -77), (217, -76), (217, -75), (217, -74), (217, -73), (217, -72), (217, -71), (217, -70), (217, -69), (217, -68), (217, -67), (217, -66), (217, -65), (218, -99), (218, -98), (218, -97), (218, -96), (218, -95), (218, -94), (218, -93), (218, -92), (218, -91), (218, -90), (218, -89), (218, -88), (218, -87), (218, -86), (218, -85), (218, -84), (218, -83), (218, -82), (218, -81), (218, -80), (218, -79), (218, -78), (218, -77), (218, -76), (218, -75), (218, -74), (218, -73), (218, -72), (218, -71), (218, -70), (218, -69), (218, -68), (218, -67), (218, -66), (218, -65), (219, -99), (219, -98), (219, -97), (219, -96), (219, -95), (219, -94), (219, -93), (219, -92), (219, -91), (219, -90), (219, -89), (219, -88), (219, -87), (219, -86), (219, -85), (219, -84), (219, -83), (219, -82), (219, -81), (219, -80), (219, -79), (219, -78), (219, -77), (219, -76), (219, -75), (219, -74), (219, -73), (219, -72), (219, -71), (219, -70), (219, -69), (219, -68), (219, -67), (219, -66), (219, -65), (220, -99), (220, -98), (220, -97), (220, -96), (220, -95), (220, -94), (220, -93), (220, -92), (220, -91), (220, -90), (220, -89), (220, -88), (220, -87), (220, -86), (220, -85), (220, -84), (220, -83), (220, -82), (220, -81), (220, -80), (220, -79), (220, -78), (220, -77), (220, -76), (220, -75), (220, -74), (220, -73), (220, -72), (220, -71), (220, -70), (220, -69), (220, -68), (220, -67), (220, -66), (220, -65), (221, -99), (221, -98), (221, -97), (221, -96), (221, -95), (221, -94), (221, -93), (221, -92), (221, -91), (221, -90), (221, -89), (221, -88), (221, -87), (221, -86), (221, -85), (221, -84), (221, -83), (221, -82), (221, -81), (221, -80), (221, -79), (221, -78), (221, -77), (221, -76), (221, -75), (221, -74), (221, -73), (221, -72), (221, -71), (221, -70), (221, -69), (221, -68), (221, -67), (221, -66), (221, -65), (222, -99), (222, -98), (222, -97), (222, -96), (222, -95), (222, -94), (222, -93), (222, -92), (222, -91), (222, -90), (222, -89), (222, -88), (222, -87), (222, -86), (222, -85), (222, -84), (222, -83), (222, -82), (222, -81), (222, -80), (222, -79), (222, -78), (222, -77), (222, -76), (222, -75), (222, -74), (222, -73), (222, -72), (222, -71), (222, -70), (222, -69), (222, -68), (222, -67), (222, -66), (222, -65), (223, -99), (223, -98), (223, -97), (223, -96), (223, -95), (223, -94), (223, -93), (223, -92), (223, -91), (223, -90), (223, -89), (223, -88), (223, -87), (223, -86), (223, -85), (223, -84), (223, -83), (223, -82), (223, -81), (223, -80), (223, -79), (223, -78), (223, -77), (223, -76), (223, -75), (223, -74), (223, -73), (223, -72), (223, -71), (223, -70), (223, -69), (223, -68), (223, -67), (223, -66), (223, -65), (224, -99), (224, -98), (224, -97), (224, -96), (224, -95), (224, -94), (224, -93), (224, -92), (224, -91), (224, -90), (224, -89), (224, -88), (224, -87), (224, -86), (224, -85), (224, -84), (224, -83), (224, -82), (224, -81), (224, -80), (224, -79), (224, -78), (224, -77), (224, -76), (224, -75), (224, -74), (224, -73), (224, -72), (224, -71), (224, -70), (224, -69), (224, -68), (224, -67), (224, -66), (224, -65), (225, -99), (225, -98), (225, -97), (225, -96), (225, -95), (225, -94), (225, -93), (225, -92), (225, -91), (225, -90), (225, -89), (225, -88), (225, -87), (225, -86), (225, -85), (225, -84), (225, -83), (225, -82), (225, -81), (225, -80), (225, -79), (225, -78), (225, -77), (225, -76), (225, -75), (225, -74), (225, -73), (225, -72), (225, -71), (225, -70), (225, -69), (225, -68), (225, -67), (225, -66), (225, -65), (226, -99), (226, -98), (226, -97), (226, -96), (226, -95), (226, -94), (226, -93), (226, -92), (226, -91), (226, -90), (226, -89), (226, -88), (226, -87), (226, -86), (226, -85), (226, -84), (226, -83), (226, -82), (226, -81), (226, -80), (226, -79), (226, -78), (226, -77), (226, -76), (226, -75), (226, -74), (226, -73), (226, -72), (226, -71), (226, -70), (226, -69), (226, -68), (226, -67), (226, -66), (226, -65), (227, -99), (227, -98), (227, -97), (227, -96), (227, -95), (227, -94), (227, -93), (227, -92), (227, -91), (227, -90), (227, -89), (227, -88), (227, -87), (227, -86), (227, -85), (227, -84), (227, -83), (227, -82), (227, -81), (227, -80), (227, -79), (227, -78), (227, -77), (227, -76), (227, -75), (227, -74), (227, -73), (227, -72), (227, -71), (227, -70), (227, -69), (227, -68), (227, -67), (227, -66), (227, -65), (228, -99), (228, -98), (228, -97), (228, -96), (228, -95), (228, -94), (228, -93), (228, -92), (228, -91), (228, -90), (228, -89), (228, -88), (228, -87), (228, -86), (228, -85), (228, -84), (228, -83), (228, -82), (228, -81), (228, -80), (228, -79), (228, -78), (228, -77), (228, -76), (228, -75), (228, -74), (228, -73), (228, -72), (228, -71), (228, -70), (228, -69), (228, -68), (228, -67), (228, -66), (228, -65), (229, -99), (229, -98), (229, -97), (229, -96), (229, -95), (229, -94), (229, -93), (229, -92), (229, -91), (229, -90), (229, -89), (229, -88), (229, -87), (229, -86), (229, -85), (229, -84), (229, -83), (229, -82), (229, -81), (229, -80), (229, -79), (229, -78), (229, -77), (229, -76), (229, -75), (229, -74), (229, -73), (229, -72), (229, -71), (229, -70), (229, -69), (229, -68), (229, -67), (229, -66), (229, -65), (230, -99), (230, -98), (230, -97), (230, -96), (230, -95), (230, -94), (230, -93), (230, -92), (230, -91), (230, -90), (230, -89), (230, -88), (230, -87), (230, -86), (230, -85), (230, -84), (230, -83), (230, -82), (230, -81), (230, -80), (230, -79), (230, -78), (230, -77), (230, -76), (230, -75), (230, -74), (230, -73), (230, -72), (230, -71), (230, -70), (230, -69), (230, -68), (230, -67), (230, -66), (230, -65)]\n",
      "1739\n",
      "False\n"
     ]
    }
   ],
   "source": [
    "find_solution_two('17-input.txt')"
   ]
  },
  {
   "cell_type": "code",
   "execution_count": null,
   "metadata": {},
   "outputs": [],
   "source": []
  }
 ],
 "metadata": {
  "kernelspec": {
   "display_name": "Python 3",
   "language": "python",
   "name": "python3"
  },
  "language_info": {
   "codemirror_mode": {
    "name": "ipython",
    "version": 3
   },
   "file_extension": ".py",
   "mimetype": "text/x-python",
   "name": "python",
   "nbconvert_exporter": "python",
   "pygments_lexer": "ipython3",
   "version": "3.8.10"
  }
 },
 "nbformat": 4,
 "nbformat_minor": 4
}
