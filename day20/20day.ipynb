{
 "cells": [
  {
   "cell_type": "markdown",
   "metadata": {},
   "source": [
    "# Day 20: Trench Map"
   ]
  },
  {
   "cell_type": "code",
   "execution_count": 1,
   "metadata": {},
   "outputs": [],
   "source": [
    "from collections import defaultdict\n",
    "\n",
    "import numpy as np\n",
    "from PIL import Image, ImageDraw"
   ]
  },
  {
   "cell_type": "code",
   "execution_count": 2,
   "metadata": {},
   "outputs": [],
   "source": [
    "def load_input(filename):\n",
    "    with open(filename) as fr:\n",
    "        first_line = fr.readline().strip()\n",
    "        assert len(first_line) == 512\n",
    "        algorithm = {\n",
    "            i: 1 if char == '#' else 0\n",
    "            for i, char in enumerate(first_line)\n",
    "        }\n",
    "        fr.readline()  # Empty line\n",
    "        dots = defaultdict(int)\n",
    "        for y, line in enumerate(fr.readlines()):\n",
    "            for x, char in enumerate(line.strip()):\n",
    "                if char == \"#\":\n",
    "                    dots[x, y] = 1\n",
    "        max_x = x + 1\n",
    "        max_y = y + 1\n",
    "        image = np.zeros((max_y, max_x))\n",
    "        for x, y in dots:\n",
    "            image[y][x] = dots[x, y]\n",
    "    return algorithm, image"
   ]
  },
  {
   "cell_type": "markdown",
   "metadata": {},
   "source": [
    "```\n",
    "#..#.\n",
    "#....\n",
    "##..#\n",
    "..#..\n",
    "..###\n",
    "```"
   ]
  },
  {
   "cell_type": "code",
   "execution_count": 3,
   "metadata": {},
   "outputs": [
    {
     "data": {
      "text/plain": [
       "array([[1., 0., 0., 1., 0.],\n",
       "       [1., 0., 0., 0., 0.],\n",
       "       [1., 1., 0., 0., 1.],\n",
       "       [0., 0., 1., 0., 0.],\n",
       "       [0., 0., 1., 1., 1.]])"
      ]
     },
     "execution_count": 3,
     "metadata": {},
     "output_type": "execute_result"
    }
   ],
   "source": [
    "algorithm, imagen = load_input('20-sample.txt')\n",
    "imagen"
   ]
  },
  {
   "cell_type": "code",
   "execution_count": 4,
   "metadata": {},
   "outputs": [
    {
     "data": {
      "image/png": "[encoded data removed]",
      "text/plain": [
       "<PIL.Image.Image image mode=RGB size=250x250 at 0x7F8117367940>"
      ]
     },
     "metadata": {},
     "output_type": "display_data"
    }
   ],
   "source": [
    "def iter_matrix(matrix):\n",
    "    max_y, max_x = matrix.shape\n",
    "    for y in range(max_y):\n",
    "        for x in range(max_x):\n",
    "            yield x, y, matrix[y, x]\n",
    "            \n",
    "def show_matrix(matrix, scale=5):\n",
    "    width, height = matrix.shape\n",
    "    img = Image.new('RGB', (width * scale, height * scale))\n",
    "    dot_size = max(1, scale - 2)\n",
    "    draw = ImageDraw.Draw(img)\n",
    "    for x, y, value in iter_matrix(matrix):\n",
    "        box = (x*scale, y*scale, x*scale+dot_size, y*scale+dot_size)\n",
    "        if value in [1, '#']:          \n",
    "            color = \"#fd4e2a\"\n",
    "        else:\n",
    "            color = \"#665a76\"\n",
    "        draw.rectangle(box, fill=color)\n",
    "    return img\n",
    "                \n",
    "algorithm, matrix = load_input('20-sample.txt')            \n",
    "display(show_matrix(matrix, scale=50))"
   ]
  },
  {
   "cell_type": "code",
   "execution_count": 5,
   "metadata": {},
   "outputs": [],
   "source": [
    "def expand_area(x, y):\n",
    "    for delta_y in range(-1, 2):\n",
    "        for delta_x in range(-1, 2):\n",
    "            yield x+delta_x, y+delta_y\n",
    "            \n",
    "assert list(expand_area(0, 0)) == [\n",
    "    (-1, -1),\n",
    "    (0, -1),\n",
    "    (1, -1),\n",
    "    (-1, 0),\n",
    "    (0, 0),\n",
    "    (1, 0),\n",
    "    (-1, 1),\n",
    "    (0, 1),\n",
    "    (1, 1),    \n",
    "]"
   ]
  },
  {
   "cell_type": "markdown",
   "metadata": {},
   "source": [
    "So, to determine the value of the pixel at `(5,10)` in the output image, nine pixels from the input image need to be considered: `(4,9)`, `(4,10)`, `(4,11)`, `(5,9)`, `(5,10)`, `(5,11)`, `(6,9)`, `(6,10)`, and `(6,11)`."
   ]
  },
  {
   "cell_type": "code",
   "execution_count": 6,
   "metadata": {},
   "outputs": [],
   "source": [
    "assert set(expand_area(5, 10)) == set([\n",
    "    (4, 9),\n",
    "    (4, 10),\n",
    "    (4, 11),\n",
    "    (5, 9),\n",
    "    (5, 10),\n",
    "    (5, 11),\n",
    "    (6, 9),\n",
    "    (6, 10),\n",
    "    (6, 11),    \n",
    "])"
   ]
  },
  {
   "cell_type": "code",
   "execution_count": 46,
   "metadata": {},
   "outputs": [],
   "source": [
    "def read_enhanced_value(matrix, x, y):\n",
    "    # print(f'Analysing {x}, {y}')\n",
    "    buff = []\n",
    "    for (_x, _y) in expand_area(x, y):\n",
    "        if matrix[_y][_x] != 0:\n",
    "            buff.append('1')\n",
    "        else:\n",
    "            buff.append('0')\n",
    "    assert len(buff) == 9\n",
    "    s_byte = ''.join(buff)\n",
    "    return int(s_byte, 2)"
   ]
  },
  {
   "cell_type": "code",
   "execution_count": 101,
   "metadata": {},
   "outputs": [],
   "source": [
    "def enhance(matrix, algorithm, filled=0):\n",
    "    matrix = np.pad(matrix, 2, 'constant', constant_values = filled)\n",
    "    height, width = matrix.shape\n",
    "    result = np.zeros((height-2, width-2))\n",
    "    # print('shapes: ', matrix.shape, result.shape)\n",
    "    for y in range(1, height-1):\n",
    "        for x in range(1, width-1):\n",
    "            byte_index = read_enhanced_value(matrix, x, y)\n",
    "            new_bit = algorithm[byte_index]\n",
    "            tron = False\n",
    "            if tron:\n",
    "                print(f\"{x-1},{y-1} new bit is {new_bit} for position {byte_index}\")\n",
    "            result[y-1][x-1] = int(new_bit)\n",
    "    # print()\n",
    "    return result"
   ]
  },
  {
   "cell_type": "code",
   "execution_count": 102,
   "metadata": {},
   "outputs": [
    {
     "data": {
      "image/png": "[encoded data removed]",
      "text/plain": [
       "<PIL.Image.Image image mode=RGB size=250x250 at 0x7F812C2AF580>"
      ]
     },
     "metadata": {},
     "output_type": "display_data"
    },
    {
     "data": {
      "image/png": "[encoded data removed]",
      "text/plain": [
       "<PIL.Image.Image image mode=RGB size=350x350 at 0x7F8105FAF7C0>"
      ]
     },
     "metadata": {},
     "output_type": "display_data"
    },
    {
     "data": {
      "image/png": "[encoded data removed]",
      "text/plain": [
       "<PIL.Image.Image image mode=RGB size=450x450 at 0x7F8105FAF7C0>"
      ]
     },
     "metadata": {},
     "output_type": "display_data"
    }
   ],
   "source": [
    "a, m = load_input('20-sample.txt')   \n",
    "display(show_matrix(m, scale=50))\n",
    "m1 = enhance(m, a)\n",
    "display(show_matrix(m1, scale=50))\n",
    "m2 = enhance(m1, a)\n",
    "display(show_matrix(m2, scale=50))\n"
   ]
  },
  {
   "cell_type": "code",
   "execution_count": 68,
   "metadata": {},
   "outputs": [],
   "source": [
    "algorithm, matrix = load_input('20-sample.txt')\n",
    "matrix = enhance(matrix, algorithm)\n",
    "matrix = enhance(matrix, algorithm)\n",
    "assert matrix.sum() == 35"
   ]
  },
  {
   "cell_type": "code",
   "execution_count": 77,
   "metadata": {},
   "outputs": [
    {
     "data": {
      "image/png": "[encoded data removed]",
      "text/plain": [
       "<PIL.Image.Image image mode=RGB size=612x612 at 0x7F8105F3A760>"
      ]
     },
     "metadata": {},
     "output_type": "display_data"
    }
   ],
   "source": [
    "algorithm, matrix = load_input('20-input.txt')   \n",
    "for _ in range(1):\n",
    "    matrix = enhance(matrix, algorithm)\n",
    "display(show_matrix(matrix, scale=6))"
   ]
  },
  {
   "cell_type": "markdown",
   "metadata": {},
   "source": [
    "## Solution part one"
   ]
  },
  {
   "cell_type": "code",
   "execution_count": 64,
   "metadata": {},
   "outputs": [],
   "source": [
    "algorithm, matrix = load_input('20-input.txt')\n",
    "assert len(algorithm) == 512\n",
    "assert matrix.shape == (100, 100)"
   ]
  },
  {
   "cell_type": "code",
   "execution_count": 115,
   "metadata": {},
   "outputs": [
    {
     "name": "stdout",
     "output_type": "stream",
     "text": [
      "Solution part one: 5571.0\n"
     ]
    }
   ],
   "source": [
    "algorithm, matrix = load_input('20-input.txt')\n",
    "matrix = enhance(matrix, algorithm, filled=0)\n",
    "matrix = enhance(matrix, algorithm, filled=1)\n",
    "sol = matrix.sum()\n",
    "print(f'Solution part one: {sol}')"
   ]
  },
  {
   "cell_type": "markdown",
   "metadata": {},
   "source": [
    "## Solution part two"
   ]
  },
  {
   "cell_type": "code",
   "execution_count": 128,
   "metadata": {},
   "outputs": [
    {
     "name": "stdout",
     "output_type": "stream",
     "text": [
      "Solution part one: 17965.0\n"
     ]
    }
   ],
   "source": [
    "import itertools\n",
    "\n",
    "filled = itertools.cycle([0, 1])\n",
    "\n",
    "algorithm, matrix = load_input('20-input.txt')\n",
    "for _ in range(50):\n",
    "    matrix = enhance(matrix, algorithm, filled=next(filled))\n",
    "sol = matrix.sum()\n",
    "print(f'Solution part one: {sol}')"
   ]
  },
  {
   "cell_type": "code",
   "execution_count": 121,
   "metadata": {},
   "outputs": [
    {
     "data": {
      "text/plain": [
       "511"
      ]
     },
     "execution_count": 121,
     "metadata": {},
     "output_type": "execute_result"
    }
   ],
   "source": [
    "int('111111111', 2)"
   ]
  },
  {
   "cell_type": "code",
   "execution_count": 416,
   "metadata": {},
   "outputs": [
    {
     "data": {
      "text/plain": [
       "array([[1, 0, 0, ..., 0, 0, 1],\n",
       "       [0, 1, 1, ..., 1, 0, 0],\n",
       "       [0, 0, 1, ..., 1, 1, 1],\n",
       "       ...,\n",
       "       [0, 1, 1, ..., 1, 0, 1],\n",
       "       [0, 0, 0, ..., 0, 0, 0],\n",
       "       [1, 0, 1, ..., 1, 0, 0]])"
      ]
     },
     "execution_count": 416,
     "metadata": {},
     "output_type": "execute_result"
    }
   ],
   "source": [
    "matrix[0:10][0:10]"
   ]
  },
  {
   "cell_type": "code",
   "execution_count": 124,
   "metadata": {},
   "outputs": [
    {
     "name": "stdout",
     "output_type": "stream",
     "text": [
      "#.#.#.#.#.#.#.#.#.#.#.#.#.#.#.#.#.#.#.#.#.#.#.#.#.3053\n"
     ]
    },
    {
     "data": {
      "image/png": "[encoded data removed]",
      "text/plain": [
       "<PIL.Image.Image image mode=RGB size=624x624 at 0x7F8105E7EEB0>"
      ]
     },
     "metadata": {},
     "output_type": "display_data"
    }
   ],
   "source": [
    "import numpy as np\n",
    "\n",
    "input_files = [\"20-sample-3.txt\", \"20-input.txt\"]\n",
    "\n",
    "with open(input_files[0], 'r') as f:\n",
    "    data =  [a.strip() for a in f.readlines()]\n",
    "\n",
    "iea = data[0]\n",
    "image = np.array([list(x) for x in data[2:]])\n",
    "outside = '.'\n",
    "\n",
    "\n",
    "def get_char(grid):\n",
    "    flat = grid.flatten()\n",
    "    flat[flat == \".\"] = 0\n",
    "    flat[flat == \"#\"] = 1\n",
    "    bitstring = \"\".join(flat)\n",
    "    value = int(bitstring, 2)\n",
    "    return iea[value]\n",
    "\n",
    "\n",
    "def step(img, outside, iea=iea):\n",
    "    img = np.pad(img, 2, 'constant', constant_values = outside)\n",
    "    new_img = np.zeros((img.shape[0] - 2, img.shape[1] - 2), dtype=str)\n",
    "    for y in range(new_img.shape[0]):\n",
    "        for x in range(new_img.shape[1]):\n",
    "            new_img[y][x] = get_char(img[y:y+3, x:x+3])\n",
    "    return new_img\n",
    "\n",
    "ITERATIONS = 50\n",
    "\n",
    "def part1(image, outside):\n",
    "    for i in range(ITERATIONS):\n",
    "        image = step(image, outside)\n",
    "        outside = get_char(np.array(list(outside*9)).reshape((3,3)))\n",
    "        print(outside, end=\"\")\n",
    "    print(np.count_nonzero(image == \"#\"))\n",
    "    return image\n",
    "\n",
    "i = part1(image, outside)\n",
    "i.shape\n",
    "display(show_matrix(i, scale=6))\n"
   ]
  },
  {
   "cell_type": "code",
   "execution_count": 125,
   "metadata": {},
   "outputs": [
    {
     "name": "stderr",
     "output_type": "stream",
     "text": [
      "<ipython-input-125-9c5d6ebbc6b8>:1: DeprecationWarning: elementwise comparison failed; this will raise an error in the future.\n",
      "  display(show_matrix((i == '#') != (matrix == 1)))\n"
     ]
    },
    {
     "ename": "AttributeError",
     "evalue": "'bool' object has no attribute 'shape'",
     "output_type": "error",
     "traceback": [
      "\u001b[0;31m---------------------------------------------------------------------------\u001b[0m",
      "\u001b[0;31mAttributeError\u001b[0m                            Traceback (most recent call last)",
      "\u001b[0;32m<ipython-input-125-9c5d6ebbc6b8>\u001b[0m in \u001b[0;36m<module>\u001b[0;34m\u001b[0m\n\u001b[0;32m----> 1\u001b[0;31m \u001b[0mdisplay\u001b[0m\u001b[0;34m(\u001b[0m\u001b[0mshow_matrix\u001b[0m\u001b[0;34m(\u001b[0m\u001b[0;34m(\u001b[0m\u001b[0mi\u001b[0m \u001b[0;34m==\u001b[0m \u001b[0;34m'#'\u001b[0m\u001b[0;34m)\u001b[0m \u001b[0;34m!=\u001b[0m \u001b[0;34m(\u001b[0m\u001b[0mmatrix\u001b[0m \u001b[0;34m==\u001b[0m \u001b[0;36m1\u001b[0m\u001b[0;34m)\u001b[0m\u001b[0;34m)\u001b[0m\u001b[0;34m)\u001b[0m\u001b[0;34m\u001b[0m\u001b[0;34m\u001b[0m\u001b[0m\n\u001b[0m",
      "\u001b[0;32m<ipython-input-4-2e040ca2f9df>\u001b[0m in \u001b[0;36mshow_matrix\u001b[0;34m(matrix, scale)\u001b[0m\n\u001b[1;32m      6\u001b[0m \u001b[0;34m\u001b[0m\u001b[0m\n\u001b[1;32m      7\u001b[0m \u001b[0;32mdef\u001b[0m \u001b[0mshow_matrix\u001b[0m\u001b[0;34m(\u001b[0m\u001b[0mmatrix\u001b[0m\u001b[0;34m,\u001b[0m \u001b[0mscale\u001b[0m\u001b[0;34m=\u001b[0m\u001b[0;36m5\u001b[0m\u001b[0;34m)\u001b[0m\u001b[0;34m:\u001b[0m\u001b[0;34m\u001b[0m\u001b[0;34m\u001b[0m\u001b[0m\n\u001b[0;32m----> 8\u001b[0;31m     \u001b[0mwidth\u001b[0m\u001b[0;34m,\u001b[0m \u001b[0mheight\u001b[0m \u001b[0;34m=\u001b[0m \u001b[0mmatrix\u001b[0m\u001b[0;34m.\u001b[0m\u001b[0mshape\u001b[0m\u001b[0;34m\u001b[0m\u001b[0;34m\u001b[0m\u001b[0m\n\u001b[0m\u001b[1;32m      9\u001b[0m     \u001b[0mimg\u001b[0m \u001b[0;34m=\u001b[0m \u001b[0mImage\u001b[0m\u001b[0;34m.\u001b[0m\u001b[0mnew\u001b[0m\u001b[0;34m(\u001b[0m\u001b[0;34m'RGB'\u001b[0m\u001b[0;34m,\u001b[0m \u001b[0;34m(\u001b[0m\u001b[0mwidth\u001b[0m \u001b[0;34m*\u001b[0m \u001b[0mscale\u001b[0m\u001b[0;34m,\u001b[0m \u001b[0mheight\u001b[0m \u001b[0;34m*\u001b[0m \u001b[0mscale\u001b[0m\u001b[0;34m)\u001b[0m\u001b[0;34m)\u001b[0m\u001b[0;34m\u001b[0m\u001b[0;34m\u001b[0m\u001b[0m\n\u001b[1;32m     10\u001b[0m     \u001b[0mdot_size\u001b[0m \u001b[0;34m=\u001b[0m \u001b[0mmax\u001b[0m\u001b[0;34m(\u001b[0m\u001b[0;36m1\u001b[0m\u001b[0;34m,\u001b[0m \u001b[0mscale\u001b[0m \u001b[0;34m-\u001b[0m \u001b[0;36m2\u001b[0m\u001b[0;34m)\u001b[0m\u001b[0;34m\u001b[0m\u001b[0;34m\u001b[0m\u001b[0m\n",
      "\u001b[0;31mAttributeError\u001b[0m: 'bool' object has no attribute 'shape'"
     ]
    }
   ],
   "source": [
    "display(show_matrix((i == '#') != (matrix == 1)))"
   ]
  },
  {
   "cell_type": "code",
   "execution_count": 98,
   "metadata": {},
   "outputs": [
    {
     "data": {
      "image/png": "[encoded data removed]",
      "text/plain": [
       "<PIL.Image.Image image mode=RGB size=112x112 at 0x7F81173676D0>"
      ]
     },
     "metadata": {},
     "output_type": "display_data"
    }
   ],
   "source": [
    "algorithm, matrix = load_input('20-sample-3.txt')\n",
    "for _ in range(ITERATIONS):\n",
    "    matrix = enhance(matrix, algorithm)\n",
    "display(show_matrix(matrix, scale=14))"
   ]
  },
  {
   "cell_type": "code",
   "execution_count": 58,
   "metadata": {},
   "outputs": [
    {
     "data": {
      "image/png": "[encoded data removed]",
      "text/plain": [
       "<PIL.Image.Image image mode=RGB size=112x112 at 0x7F8105FC2370>"
      ]
     },
     "metadata": {},
     "output_type": "display_data"
    }
   ],
   "source": [
    "display(show_matrix((matrix == 1) !=  (i.transpose() == '#'), scale=14))"
   ]
  },
  {
   "cell_type": "code",
   "execution_count": null,
   "metadata": {},
   "outputs": [],
   "source": []
  }
 ],
 "metadata": {
  "kernelspec": {
   "display_name": "Python 3",
   "language": "python",
   "name": "python3"
  },
  "language_info": {
   "codemirror_mode": {
    "name": "ipython",
    "version": 3
   },
   "file_extension": ".py",
   "mimetype": "text/x-python",
   "name": "python",
   "nbconvert_exporter": "python",
   "pygments_lexer": "ipython3",
   "version": "3.8.10"
  }
 },
 "nbformat": 4,
 "nbformat_minor": 4
}
