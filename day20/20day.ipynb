{
 "cells": [
  {
   "cell_type": "markdown",
   "metadata": {},
   "source": [
    "# Day 20: Trench Map"
   ]
  },
  {
   "cell_type": "code",
   "execution_count": 47,
   "metadata": {},
   "outputs": [],
   "source": [
    "from collections import defaultdict\n",
    "\n",
    "import numpy as np\n",
    "from PIL import Image, ImageDraw"
   ]
  },
  {
   "cell_type": "code",
   "execution_count": 511,
   "metadata": {},
   "outputs": [],
   "source": [
    "def load_input(filename):\n",
    "    with open(filename) as fr:\n",
    "        first_line = fr.readline().strip()\n",
    "        assert len(first_line) == 512\n",
    "        algorithm = {\n",
    "            i: 1 if char == '#' else 0\n",
    "            for i, char in enumerate(first_line)\n",
    "        }\n",
    "        fr.readline()  # Empty line\n",
    "        dots = defaultdict(int)\n",
    "        for y, line in enumerate(fr.readlines()):\n",
    "            for x, char in enumerate(line.strip()):\n",
    "                if char == \"#\":\n",
    "                    dots[x, y] = 1\n",
    "        max_x = x + 1\n",
    "        max_y = y + 1\n",
    "        image = np.zeros((max_y, max_x))\n",
    "        for x, y in dots:\n",
    "            image[y][x] = dots[x, y]\n",
    "    return algorithm, image"
   ]
  },
  {
   "cell_type": "code",
   "execution_count": 512,
   "metadata": {},
   "outputs": [
    {
     "data": {
      "text/plain": [
       "array([[1., 0., 0., 1., 0.],\n",
       "       [1., 0., 0., 0., 0.],\n",
       "       [1., 1., 0., 0., 1.],\n",
       "       [0., 0., 1., 0., 0.],\n",
       "       [0., 0., 1., 1., 1.]])"
      ]
     },
     "execution_count": 512,
     "metadata": {},
     "output_type": "execute_result"
    }
   ],
   "source": [
    "algorithm, imagen = load_input('20-sample.txt')\n",
    "imagen"
   ]
  },
  {
   "cell_type": "code",
   "execution_count": 513,
   "metadata": {},
   "outputs": [
    {
     "data": {
      "image/png": "[encoded data removed]",
      "text/plain": [
       "<PIL.Image.Image image mode=RGB size=250x250 at 0x7F6CD80265B0>"
      ]
     },
     "metadata": {},
     "output_type": "display_data"
    }
   ],
   "source": [
    "def iter_matrix(matrix):\n",
    "    max_y, max_x = matrix.shape\n",
    "    for y in range(max_y):\n",
    "        for x in range(max_x):\n",
    "            yield x, y, matrix[y, x]\n",
    "            \n",
    "def show_matrix(matrix, scale=5):\n",
    "    width, height = matrix.shape\n",
    "    img = Image.new('RGB', (width * scale, height * scale))\n",
    "    dot_size = max(1, scale - 2)\n",
    "    draw = ImageDraw.Draw(img)\n",
    "    for x, y, value in iter_matrix(matrix):\n",
    "        box = (x*scale, y*scale, x*scale+dot_size, y*scale+dot_size)\n",
    "        if value in [1, '#']:          \n",
    "            color = \"#fd4e2a\"\n",
    "        else:\n",
    "            color = \"#665a76\"\n",
    "        draw.rectangle(box, fill=color)\n",
    "    return img\n",
    "                \n",
    "algorithm, matrix = load_input('20-sample.txt')            \n",
    "display(show_matrix(matrix, scale=50))"
   ]
  },
  {
   "cell_type": "code",
   "execution_count": 514,
   "metadata": {},
   "outputs": [],
   "source": [
    "def expand_area(x, y):\n",
    "    for delta_y in range(-1, 2):\n",
    "        for delta_x in range(-1, 2):\n",
    "            yield x+delta_x, y+delta_y\n",
    "            \n",
    "assert list(expand_area(0, 0)) == [\n",
    "    (-1, -1),\n",
    "    (0, -1),\n",
    "    (1, -1),\n",
    "    (-1, 0),\n",
    "    (0, 0),\n",
    "    (1, 0),\n",
    "    (-1, 1),\n",
    "    (0, 1),\n",
    "    (1, 1),    \n",
    "]"
   ]
  },
  {
   "cell_type": "markdown",
   "metadata": {},
   "source": [
    "So, to determine the value of the pixel at `(5,10)` in the output image, nine pixels from the input image need to be considered: `(4,9)`, `(4,10)`, `(4,11)`, `(5,9)`, `(5,10)`, `(5,11)`, `(6,9)`, `(6,10)`, and `(6,11)`."
   ]
  },
  {
   "cell_type": "code",
   "execution_count": 515,
   "metadata": {},
   "outputs": [
    {
     "data": {
      "text/plain": [
       "[(4, 9), (5, 9), (6, 9), (4, 10), (5, 10), (6, 10), (4, 11), (5, 11), (6, 11)]"
      ]
     },
     "execution_count": 515,
     "metadata": {},
     "output_type": "execute_result"
    }
   ],
   "source": [
    "list(expand_area(5, 10))"
   ]
  },
  {
   "cell_type": "code",
   "execution_count": 516,
   "metadata": {},
   "outputs": [],
   "source": [
    "assert set(expand_area(5, 10)) == set([\n",
    "    (4, 9),\n",
    "    (4, 10),\n",
    "    (4, 11),\n",
    "    (5, 9),\n",
    "    (5, 10),\n",
    "    (5, 11),\n",
    "    (6, 9),\n",
    "    (6, 10),\n",
    "    (6, 11),    \n",
    "])"
   ]
  },
  {
   "cell_type": "code",
   "execution_count": 567,
   "metadata": {},
   "outputs": [
    {
     "name": "stdout",
     "output_type": "stream",
     "text": [
      "[ 000000001 ] 1\n",
      "[ 000000000 ] 0\n",
      "[ 000000000 ] 0\n",
      "[ 100000000 ] 256\n",
      "[ 111000000 ] 448\n",
      "[ 011000000 ] 192\n",
      "[ 000100010 ] 34\n",
      "[ 100100110 ] 294\n",
      "[ 000010010 ] 18\n",
      "[ 000110000 ] 48\n",
      "[ 000100000 ] 32\n"
     ]
    }
   ],
   "source": [
    "def read_enhanced_value(matrix, x, y):\n",
    "    # print(f'Analysing {x}, {y}')\n",
    "    buff = []\n",
    "    width, height = matrix.shape\n",
    "    for (_x, _y) in get_area(x, y):\n",
    "        # print(f' _x is {_x} _y is {_y}', end=' ')\n",
    "        if _x < 0 or _x >= width or _y < 0 or _y >= height:\n",
    "            buff.append('0')\n",
    "            # print('0*', end=\" \")\n",
    "        else:\n",
    "            if matrix[_x][_y] != 0:\n",
    "                buff.append('1')\n",
    "                # print('1', end=\" \")\n",
    "            else:\n",
    "                buff.append('0')\n",
    "                # print('0', end=\" \")\n",
    "    assert len(buff) == 9\n",
    "    s_byte = ''.join(buff)\n",
    "    print('[', s_byte, ']', int(s_byte, 2))\n",
    "    return int(s_byte, 2)\n",
    "        \n",
    "m = np.array([\n",
    "    [1, 0, 0, 1, 0],\n",
    "    [1, 0, 0, 0, 0],\n",
    "    [1, 1, 0, 0, 1],\n",
    "    [0, 0, 1, 0, 0],\n",
    "    [0, 0, 1, 1, 1],\n",
    "]).transpose()  # Numpy uses y, x\n",
    "\n",
    "assert read_enhanced_value(m, -1, -1) == 1\n",
    "assert read_enhanced_value(m, 5, -1) == 0\n",
    "assert read_enhanced_value(m, -1, 5) == 0\n",
    "assert read_enhanced_value(m, 5, 5) == 256\n",
    "assert read_enhanced_value(m, 3, 5) == 448\n",
    "assert read_enhanced_value(m, 2, 5) == 192\n",
    "assert read_enhanced_value(m, 2, 2) == 34\n",
    "assert read_enhanced_value(m, 1, 1) == 294\n",
    "assert read_enhanced_value(m, 0, 0) == 18\n",
    "assert read_enhanced_value(m, 4, 4) == 48\n",
    "assert read_enhanced_value(m, 4, 0) == 32"
   ]
  },
  {
   "cell_type": "code",
   "execution_count": 568,
   "metadata": {},
   "outputs": [
    {
     "data": {
      "text/plain": [
       "array([[   0,    1,    2],\n",
       "       [   3,    4,    5],\n",
       "       [   6,    7, -120]])"
      ]
     },
     "execution_count": 568,
     "metadata": {},
     "output_type": "execute_result"
    }
   ],
   "source": [
    "m = np.array(range(9)).reshape(3, 3)\n",
    "m[-1][-1] = -120\n",
    "m"
   ]
  },
  {
   "cell_type": "code",
   "execution_count": 569,
   "metadata": {},
   "outputs": [],
   "source": [
    "def enhance(matrix, algorithm):\n",
    "    height, width = matrix.shape\n",
    "    result =  np.zeros((height+2, width+2), int)\n",
    "    print('shapes: ', matrix.shape, result.shape)\n",
    "    for x, y, _ in iter_matrix(result):\n",
    "        byte_index = read_enhanced_value(matrix, x-1, y-1)\n",
    "        new_bit = algorithm[byte_index]\n",
    "        tron = True\n",
    "        if tron:\n",
    "            print(f\"{x},{y} new bit is {new_bit} for position {byte_index}\")\n",
    "        result[x][y] = int(new_bit)\n",
    "    # print()\n",
    "    return result.transpose()"
   ]
  },
  {
   "cell_type": "code",
   "execution_count": 570,
   "metadata": {},
   "outputs": [
    {
     "data": {
      "image/png": "[encoded data removed]",
      "text/plain": [
       "<PIL.Image.Image image mode=RGB size=250x250 at 0x7F6CD819AEB0>"
      ]
     },
     "metadata": {},
     "output_type": "display_data"
    },
    {
     "name": "stdout",
     "output_type": "stream",
     "text": [
      "shapes:  (5, 5) (7, 7)\n",
      "[ 000000001 ] 1\n",
      "0,0 new bit is 0 for position 1\n",
      "[ 000000011 ] 3\n",
      "1,0 new bit is 0 for position 3\n",
      "[ 000000111 ] 7\n",
      "2,0 new bit is 1 for position 7\n",
      "[ 000000110 ] 6\n",
      "3,0 new bit is 0 for position 6\n",
      "[ 000000100 ] 4\n",
      "4,0 new bit is 1 for position 4\n",
      "[ 000000000 ] 0\n",
      "5,0 new bit is 0 for position 0\n",
      "[ 000000000 ] 0\n",
      "6,0 new bit is 0 for position 0\n",
      "[ 000001000 ] 8\n",
      "0,1 new bit is 1 for position 8\n",
      "[ 000011000 ] 24\n",
      "1,1 new bit is 1 for position 24\n",
      "[ 000111001 ] 57\n",
      "2,1 new bit is 1 for position 57\n",
      "[ 000110010 ] 50\n",
      "3,1 new bit is 1 for position 50\n",
      "[ 000100100 ] 36\n",
      "4,1 new bit is 0 for position 36\n",
      "[ 000000000 ] 0\n",
      "5,1 new bit is 0 for position 0\n",
      "[ 000000000 ] 0\n",
      "6,1 new bit is 0 for position 0\n",
      "[ 001000000 ] 64\n",
      "0,2 new bit is 0 for position 64\n",
      "[ 011000000 ] 192\n",
      "1,2 new bit is 1 for position 192\n",
      "[ 111001000 ] 456\n",
      "2,2 new bit is 1 for position 456\n",
      "[ 110010001 ] 401\n",
      "3,2 new bit is 1 for position 401\n",
      "[ 100100011 ] 291\n",
      "4,2 new bit is 0 for position 291\n",
      "[ 000000110 ] 6\n",
      "5,2 new bit is 0 for position 6\n",
      "[ 000000100 ] 4\n",
      "6,2 new bit is 1 for position 4\n",
      "[ 000000001 ] 1\n",
      "0,3 new bit is 0 for position 1\n",
      "[ 000000010 ] 2\n",
      "1,3 new bit is 1 for position 2\n",
      "[ 001000100 ] 68\n",
      "2,3 new bit is 1 for position 68\n",
      "[ 010001000 ] 136\n",
      "3,3 new bit is 1 for position 136\n",
      "[ 100011001 ] 281\n",
      "4,3 new bit is 0 for position 281\n",
      "[ 000110010 ] 50\n",
      "5,3 new bit is 1 for position 50\n",
      "[ 000100100 ] 36\n",
      "6,3 new bit is 0 for position 36\n",
      "[ 000001000 ] 8\n",
      "0,4 new bit is 1 for position 8\n",
      "[ 000010000 ] 16\n",
      "1,4 new bit is 0 for position 16\n",
      "[ 000100001 ] 33\n",
      "2,4 new bit is 0 for position 33\n",
      "[ 001000010 ] 66\n",
      "3,4 new bit is 0 for position 66\n",
      "[ 011001101 ] 205\n",
      "4,4 new bit is 0 for position 205\n",
      "[ 110010010 ] 402\n",
      "5,4 new bit is 1 for position 402\n",
      "[ 100100100 ] 292\n",
      "6,4 new bit is 0 for position 292\n",
      "[ 001000000 ] 64\n",
      "0,5 new bit is 0 for position 64\n",
      "[ 010000000 ] 128\n",
      "1,5 new bit is 1 for position 128\n",
      "[ 100001000 ] 264\n",
      "2,5 new bit is 0 for position 264\n",
      "[ 000010000 ] 16\n",
      "3,5 new bit is 0 for position 16\n",
      "[ 001101000 ] 104\n",
      "4,5 new bit is 0 for position 104\n",
      "[ 010010000 ] 144\n",
      "5,5 new bit is 0 for position 144\n",
      "[ 100100000 ] 288\n",
      "6,5 new bit is 1 for position 288\n",
      "[ 000000000 ] 0\n",
      "0,6 new bit is 0 for position 0\n",
      "[ 000000000 ] 0\n",
      "1,6 new bit is 0 for position 0\n",
      "[ 001000000 ] 64\n",
      "2,6 new bit is 0 for position 64\n",
      "[ 010000000 ] 128\n",
      "3,6 new bit is 1 for position 128\n",
      "[ 101000000 ] 320\n",
      "4,6 new bit is 1 for position 320\n",
      "[ 010000000 ] 128\n",
      "5,6 new bit is 1 for position 128\n",
      "[ 100000000 ] 256\n",
      "6,6 new bit is 0 for position 256\n"
     ]
    },
    {
     "data": {
      "image/png": "[encoded data removed]",
      "text/plain": [
       "<PIL.Image.Image image mode=RGB size=350x350 at 0x7F6CD81B5AF0>"
      ]
     },
     "metadata": {},
     "output_type": "display_data"
    }
   ],
   "source": [
    "a, m = load_input('20-sample.txt')   \n",
    "display(show_matrix(m, scale=50))\n",
    "m = enhance(m, a)\n",
    "display(show_matrix(m, scale=50))"
   ]
  },
  {
   "cell_type": "code",
   "execution_count": 558,
   "metadata": {},
   "outputs": [
    {
     "name": "stdout",
     "output_type": "stream",
     "text": [
      "shapes:  (5, 5) (7, 7)\n",
      "0,0 new bit is 0 for position 1\n",
      "1,0 new bit is 0 for position 3\n",
      "2,0 new bit is 1 for position 7\n",
      "3,0 new bit is 0 for position 6\n",
      "4,0 new bit is 1 for position 4\n",
      "5,0 new bit is 0 for position 0\n",
      "6,0 new bit is 0 for position 0\n"
     ]
    },
    {
     "ename": "IndexError",
     "evalue": "index 7 is out of bounds for axis 0 with size 7",
     "output_type": "error",
     "traceback": [
      "\u001b[0;31m---------------------------------------------------------------------------\u001b[0m",
      "\u001b[0;31mIndexError\u001b[0m                                Traceback (most recent call last)",
      "\u001b[0;32m<ipython-input-558-3901e3bed5de>\u001b[0m in \u001b[0;36m<module>\u001b[0;34m\u001b[0m\n\u001b[1;32m      1\u001b[0m \u001b[0malgorithm\u001b[0m\u001b[0;34m,\u001b[0m \u001b[0mmatrix\u001b[0m \u001b[0;34m=\u001b[0m \u001b[0mload_input\u001b[0m\u001b[0;34m(\u001b[0m\u001b[0;34m'20-sample.txt'\u001b[0m\u001b[0;34m)\u001b[0m\u001b[0;34m\u001b[0m\u001b[0;34m\u001b[0m\u001b[0m\n\u001b[0;32m----> 2\u001b[0;31m \u001b[0mmatrix\u001b[0m \u001b[0;34m=\u001b[0m \u001b[0menhance\u001b[0m\u001b[0;34m(\u001b[0m\u001b[0mmatrix\u001b[0m\u001b[0;34m,\u001b[0m \u001b[0malgorithm\u001b[0m\u001b[0;34m)\u001b[0m\u001b[0;34m\u001b[0m\u001b[0;34m\u001b[0m\u001b[0m\n\u001b[0m\u001b[1;32m      3\u001b[0m \u001b[0mmatrix\u001b[0m \u001b[0;34m=\u001b[0m \u001b[0menhance\u001b[0m\u001b[0;34m(\u001b[0m\u001b[0mmatrix\u001b[0m\u001b[0;34m,\u001b[0m \u001b[0malgorithm\u001b[0m\u001b[0;34m)\u001b[0m\u001b[0;34m\u001b[0m\u001b[0;34m\u001b[0m\u001b[0m\n\u001b[1;32m      4\u001b[0m \u001b[0;32massert\u001b[0m \u001b[0mmatrix\u001b[0m\u001b[0;34m.\u001b[0m\u001b[0msum\u001b[0m\u001b[0;34m(\u001b[0m\u001b[0;34m)\u001b[0m \u001b[0;34m==\u001b[0m \u001b[0;36m35\u001b[0m\u001b[0;34m\u001b[0m\u001b[0;34m\u001b[0m\u001b[0m\n",
      "\u001b[0;32m<ipython-input-556-15ebf5f93f16>\u001b[0m in \u001b[0;36menhance\u001b[0;34m(matrix, algorithm)\u001b[0m\n\u001b[1;32m      9\u001b[0m         \u001b[0;32mif\u001b[0m \u001b[0mtron\u001b[0m\u001b[0;34m:\u001b[0m\u001b[0;34m\u001b[0m\u001b[0;34m\u001b[0m\u001b[0m\n\u001b[1;32m     10\u001b[0m             \u001b[0mprint\u001b[0m\u001b[0;34m(\u001b[0m\u001b[0;34mf\"{x},{y} new bit is {new_bit} for position {byte_index}\"\u001b[0m\u001b[0;34m)\u001b[0m\u001b[0;34m\u001b[0m\u001b[0;34m\u001b[0m\u001b[0m\n\u001b[0;32m---> 11\u001b[0;31m         \u001b[0mresult\u001b[0m\u001b[0;34m[\u001b[0m\u001b[0my\u001b[0m\u001b[0;34m+\u001b[0m\u001b[0;36m1\u001b[0m\u001b[0;34m]\u001b[0m\u001b[0;34m[\u001b[0m\u001b[0mx\u001b[0m\u001b[0;34m+\u001b[0m\u001b[0;36m1\u001b[0m\u001b[0;34m]\u001b[0m \u001b[0;34m=\u001b[0m \u001b[0mint\u001b[0m\u001b[0;34m(\u001b[0m\u001b[0mnew_bit\u001b[0m\u001b[0;34m)\u001b[0m\u001b[0;34m\u001b[0m\u001b[0;34m\u001b[0m\u001b[0m\n\u001b[0m\u001b[1;32m     12\u001b[0m     \u001b[0;31m# print()\u001b[0m\u001b[0;34m\u001b[0m\u001b[0;34m\u001b[0m\u001b[0;34m\u001b[0m\u001b[0m\n\u001b[1;32m     13\u001b[0m     \u001b[0;32mreturn\u001b[0m \u001b[0mresult\u001b[0m\u001b[0;34m.\u001b[0m\u001b[0mtranspose\u001b[0m\u001b[0;34m(\u001b[0m\u001b[0;34m)\u001b[0m\u001b[0;34m\u001b[0m\u001b[0;34m\u001b[0m\u001b[0m\n",
      "\u001b[0;31mIndexError\u001b[0m: index 7 is out of bounds for axis 0 with size 7"
     ]
    }
   ],
   "source": [
    "algorithm, matrix = load_input('20-sample.txt')   \n",
    "matrix = enhance(matrix, algorithm)\n",
    "matrix = enhance(matrix, algorithm)\n",
    "assert matrix.sum() == 35"
   ]
  },
  {
   "cell_type": "code",
   "execution_count": 376,
   "metadata": {},
   "outputs": [],
   "source": []
  },
  {
   "cell_type": "code",
   "execution_count": 412,
   "metadata": {},
   "outputs": [
    {
     "data": {
      "image/png": "[encoded data removed]",
      "text/plain": [
       "<PIL.Image.Image image mode=RGB size=165x165 at 0x7F6CD7FD9D30>"
      ]
     },
     "metadata": {},
     "output_type": "display_data"
    },
    {
     "data": {
      "image/png": "[encoded data removed]",
      "text/plain": [
       "<PIL.Image.Image image mode=RGB size=555x555 at 0x7F6CD7FD9EE0>"
      ]
     },
     "metadata": {},
     "output_type": "display_data"
    }
   ],
   "source": [
    "algorithm, matrix = load_input('20-sample.txt')   \n",
    "for _ in range(14):\n",
    "    matrix = enhance(matrix, algorithm)\n",
    "display(show_matrix(matrix, scale=5))\n",
    "matrix = np.pad(matrix, 2, constant_values=0)\n",
    "display(show_matrix(matrix, scale=15))"
   ]
  },
  {
   "cell_type": "markdown",
   "metadata": {},
   "source": [
    "## Solution part one"
   ]
  },
  {
   "cell_type": "code",
   "execution_count": 378,
   "metadata": {},
   "outputs": [],
   "source": [
    "algorithm, matrix = load_input('20-input.txt')\n",
    "assert len(algorithm) == 512\n",
    "assert matrix.shape == (100, 100)"
   ]
  },
  {
   "cell_type": "code",
   "execution_count": 415,
   "metadata": {},
   "outputs": [
    {
     "data": {
      "image/png": "[encoded data removed]",
      "text/plain": [
       "<PIL.Image.Image image mode=RGB size=416x416 at 0x7F6CD819AAC0>"
      ]
     },
     "metadata": {},
     "output_type": "display_data"
    },
    {
     "name": "stdout",
     "output_type": "stream",
     "text": [
      "(104, 104)\n",
      "Solution part one: 5619\n"
     ]
    }
   ],
   "source": [
    "algorithm, matrix = load_input('20-input.txt')\n",
    "matrix = enhance(matrix, algorithm)\n",
    "matrix = enhance(matrix, algorithm)\n",
    "display(show_matrix(matrix, scale=4))\n",
    "print(matrix.shape)\n",
    "sol = matrix.sum()\n",
    "print(f'Solution part one: {sol}')\n"
   ]
  },
  {
   "cell_type": "code",
   "execution_count": 416,
   "metadata": {},
   "outputs": [
    {
     "data": {
      "text/plain": [
       "array([[1, 0, 0, ..., 0, 0, 1],\n",
       "       [0, 1, 1, ..., 1, 0, 0],\n",
       "       [0, 0, 1, ..., 1, 1, 1],\n",
       "       ...,\n",
       "       [0, 1, 1, ..., 1, 0, 1],\n",
       "       [0, 0, 0, ..., 0, 0, 0],\n",
       "       [1, 0, 1, ..., 1, 0, 0]])"
      ]
     },
     "execution_count": 416,
     "metadata": {},
     "output_type": "execute_result"
    }
   ],
   "source": [
    "matrix[0:10][0:10]"
   ]
  },
  {
   "cell_type": "code",
   "execution_count": 491,
   "metadata": {},
   "outputs": [
    {
     "name": "stdout",
     "output_type": "stream",
     "text": [
      "19\n"
     ]
    },
    {
     "data": {
      "image/png": "[encoded data removed]",
      "text/plain": [
       "<PIL.Image.Image image mode=RGB size=112x112 at 0x7F6CD8110190>"
      ]
     },
     "metadata": {},
     "output_type": "display_data"
    }
   ],
   "source": [
    "import numpy as np\n",
    "\n",
    "input_files = [\"20-sample-3.txt\", \"20-input.txt\"]\n",
    "\n",
    "with open(input_files[0], 'r') as f:\n",
    "    data =  [a.strip() for a in f.readlines()]\n",
    "\n",
    "iea = data[0]\n",
    "image = np.array([list(x) for x in data[2:]])\n",
    "outside = '.'\n",
    "\n",
    "\n",
    "def get_char(grid):\n",
    "    flat = grid.flatten()\n",
    "    flat[flat == \".\"] = 0\n",
    "    flat[flat == \"#\"] = 1\n",
    "\n",
    "    bitstring = \"\".join(flat)\n",
    "    value = int(bitstring, 2)\n",
    "\n",
    "    return iea[value]\n",
    "\n",
    "def step(img, outside, iea=iea):\n",
    "    img = np.pad(img, 2, 'constant', constant_values = outside)\n",
    "    new_img = np.zeros((img.shape[0] - 2, img.shape[1] - 2), dtype=str)\n",
    "\n",
    "    for y in range(new_img.shape[0]):\n",
    "        for x in range(new_img.shape[1]):\n",
    "            new_img[y][x] = get_char(img[y:y+3, x:x+3])\n",
    "\n",
    "    return new_img\n",
    "\n",
    "ITERATIONS = 2\n",
    "\n",
    "def part1(image, outside):\n",
    "    for i in range(ITERATIONS):\n",
    "        image = step(image, outside)\n",
    "        outside = get_char(np.array(list(outside*9)).reshape((3,3)))\n",
    "\n",
    "    print(np.count_nonzero(image == \"#\"))\n",
    "    return image\n",
    "\n",
    "i = part1(image, outside)\n",
    "i.shape\n",
    "display(show_matrix(i.transpose(), scale=14))"
   ]
  },
  {
   "cell_type": "code",
   "execution_count": 492,
   "metadata": {},
   "outputs": [
    {
     "data": {
      "image/png": "[encoded data removed]",
      "text/plain": [
       "<PIL.Image.Image image mode=RGB size=112x112 at 0x7F6CD81B5B80>"
      ]
     },
     "metadata": {},
     "output_type": "display_data"
    }
   ],
   "source": [
    "algorithm, matrix = load_input('20-sample-3.txt')\n",
    "for _ in range(ITERATIONS):\n",
    "    matrix = enhance(matrix, algorithm)\n",
    "display(show_matrix(matrix, scale=14))"
   ]
  },
  {
   "cell_type": "code",
   "execution_count": 490,
   "metadata": {},
   "outputs": [
    {
     "data": {
      "image/png": "[encoded data removed]",
      "text/plain": [
       "<PIL.Image.Image image mode=RGB size=112x112 at 0x7F6CD8186610>"
      ]
     },
     "metadata": {},
     "output_type": "display_data"
    }
   ],
   "source": [
    "display(show_matrix((matrix == 1) !=  (i.transpose() == '#'), scale=14))"
   ]
  },
  {
   "cell_type": "code",
   "execution_count": null,
   "metadata": {},
   "outputs": [],
   "source": []
  }
 ],
 "metadata": {
  "kernelspec": {
   "display_name": "Python 3",
   "language": "python",
   "name": "python3"
  },
  "language_info": {
   "codemirror_mode": {
    "name": "ipython",
    "version": 3
   },
   "file_extension": ".py",
   "mimetype": "text/x-python",
   "name": "python",
   "nbconvert_exporter": "python",
   "pygments_lexer": "ipython3",
   "version": "3.8.10"
  }
 },
 "nbformat": 4,
 "nbformat_minor": 4
}
