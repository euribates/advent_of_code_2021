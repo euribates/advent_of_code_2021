{
 "cells": [
  {
   "cell_type": "markdown",
   "metadata": {},
   "source": [
    "# Day 9: Smoke Basin"
   ]
  },
  {
   "cell_type": "markdown",
   "metadata": {},
   "source": [
    "## First part"
   ]
  },
  {
   "cell_type": "code",
   "execution_count": 9,
   "metadata": {},
   "outputs": [],
   "source": [
    "from collections import defaultdict\n",
    "\n",
    "\n",
    "def minus_one():\n",
    "    return -1\n",
    "\n",
    "\n",
    "def load_data(filename):\n",
    "    mapa = defaultdict(minus_one)\n",
    "    with open(filename) as f:\n",
    "        for y,line in enumerate(f.readlines()):\n",
    "            for x, character in enumerate(line.strip()):\n",
    "                mapa[x, y] = int(character)\n",
    "    return mapa\n",
    "  "
   ]
  },
  {
   "cell_type": "code",
   "execution_count": 11,
   "metadata": {},
   "outputs": [],
   "source": []
  },
  {
   "cell_type": "code",
   "execution_count": 22,
   "metadata": {},
   "outputs": [],
   "source": [
    "def is_local_min(mapa, x, y):\n",
    "    \n",
    "    v = mapa[x, y]\n",
    "    return all([\n",
    "        mapa[x-1,y] > v,\n",
    "        mapa[x+1,y] > v,\n",
    "        mapa[x,y-1] > v,\n",
    "        mapa[x,y+1] > v,\n",
    "    ])"
   ]
  },
  {
   "cell_type": "code",
   "execution_count": 23,
   "metadata": {},
   "outputs": [],
   "source": [
    "def find_local_mins(mapa):\n",
    "    max_x = max([x for (x, _) in mapa])\n",
    "    max_y = max([y for (_, y) in mapa])\n",
    "    for x in range(max_x):\n",
    "        for y in range(max_y):\n",
    "            if is_local_min(mapa, x, y):\n",
    "                yield x, y, mapa[x,y]"
   ]
  },
  {
   "cell_type": "code",
   "execution_count": 24,
   "metadata": {},
   "outputs": [
    {
     "name": "stdout",
     "output_type": "stream",
     "text": [
      "2 2 5\n"
     ]
    }
   ],
   "source": [
    "heights = load_data('09-sample.txt')\n",
    "for x, y, value in find_local_mins(heights):\n",
    "    print(x, y, value)"
   ]
  },
  {
   "cell_type": "code",
   "execution_count": null,
   "metadata": {},
   "outputs": [],
   "source": []
  }
 ],
 "metadata": {
  "kernelspec": {
   "display_name": "Python 3",
   "language": "python",
   "name": "python3"
  },
  "language_info": {
   "codemirror_mode": {
    "name": "ipython",
    "version": 3
   },
   "file_extension": ".py",
   "mimetype": "text/x-python",
   "name": "python",
   "nbconvert_exporter": "python",
   "pygments_lexer": "ipython3",
   "version": "3.8.10"
  }
 },
 "nbformat": 4,
 "nbformat_minor": 4
}
