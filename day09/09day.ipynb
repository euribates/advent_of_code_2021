{
 "cells": [
  {
   "cell_type": "markdown",
   "metadata": {},
   "source": [
    "# Day 9: Smoke Basin"
   ]
  },
  {
   "cell_type": "markdown",
   "metadata": {},
   "source": [
    "## First part"
   ]
  },
  {
   "cell_type": "code",
   "execution_count": 1,
   "metadata": {},
   "outputs": [],
   "source": [
    "from collections import defaultdict\n",
    "\n",
    "def load_data(filename):\n",
    "    result = defaultdict(lambda: 10)\n",
    "    with open(filename) as f:\n",
    "        for y,line in enumerate(f.readlines()):\n",
    "            for x, character in enumerate(line.strip()):\n",
    "                # print(f\"x = {x} y = {y} character={character}\")\n",
    "                result[x, y] = int(character)\n",
    "    return result, (x, y)"
   ]
  },
  {
   "cell_type": "code",
   "execution_count": 2,
   "metadata": {},
   "outputs": [],
   "source": [
    "def is_local_min(heights, x, y):\n",
    "    v = heights[x, y]\n",
    "    return all([\n",
    "        heights[x-1,y] > v,\n",
    "        heights[x+1,y] > v,\n",
    "        heights[x,y-1] > v,\n",
    "        heights[x,y+1] > v,\n",
    "    ])"
   ]
  },
  {
   "cell_type": "code",
   "execution_count": 3,
   "metadata": {},
   "outputs": [],
   "source": [
    "def find_local_mins(heights, size):\n",
    "    max_x, max_y = size\n",
    "    for x in range(max_x+1):\n",
    "        for y in range(max_y+1):\n",
    "            if is_local_min(heights, x, y):\n",
    "                yield x, y, heights[x,y]"
   ]
  },
  {
   "cell_type": "code",
   "execution_count": 4,
   "metadata": {},
   "outputs": [
    {
     "name": "stdout",
     "output_type": "stream",
     "text": [
      "1 0 1\n",
      "2 2 5\n",
      "6 4 5\n",
      "9 0 0\n"
     ]
    }
   ],
   "source": [
    "heights, size = load_data('09-sample.txt')\n",
    "for x, y, value in find_local_mins(heights, size):\n",
    "    print(x, y, value)"
   ]
  },
  {
   "cell_type": "code",
   "execution_count": 5,
   "metadata": {},
   "outputs": [],
   "source": [
    "def find_risk_level(filename):\n",
    "    heights, size = load_data(filename)\n",
    "    acc = 0\n",
    "    for x, y, value in find_local_mins(heights, size):\n",
    "        acc += value + 1\n",
    "    return acc"
   ]
  },
  {
   "cell_type": "code",
   "execution_count": 6,
   "metadata": {},
   "outputs": [],
   "source": [
    "assert find_risk_level('09-sample.txt') == 15"
   ]
  },
  {
   "cell_type": "markdown",
   "metadata": {},
   "source": [
    "### Solution part one"
   ]
  },
  {
   "cell_type": "code",
   "execution_count": 7,
   "metadata": {},
   "outputs": [
    {
     "name": "stdout",
     "output_type": "stream",
     "text": [
      "First part solution: 468\n"
     ]
    }
   ],
   "source": [
    "sol = find_risk_level('09-input.txt')\n",
    "print(f\"First part solution: {sol}\")"
   ]
  },
  {
   "cell_type": "markdown",
   "metadata": {},
   "source": [
    "## Part two"
   ]
  },
  {
   "cell_type": "code",
   "execution_count": 8,
   "metadata": {},
   "outputs": [],
   "source": [
    "def neighbours(x, y):\n",
    "    yield x-1, y\n",
    "    yield x+1, y\n",
    "    yield x, y-1\n",
    "    yield x, y+1"
   ]
  },
  {
   "cell_type": "code",
   "execution_count": 9,
   "metadata": {},
   "outputs": [],
   "source": [
    "def get_basin(heights, initial_x, initial_y):\n",
    "    result_set = set([(initial_x, initial_y)])\n",
    "    stack = [(initial_x, initial_y, heights[initial_x, initial_y]+1)]\n",
    "    while stack:\n",
    "        x, y, reference = stack.pop()\n",
    "        for nx, ny in neighbours(x, y):\n",
    "            if heights[nx, ny] >= reference and heights[nx, ny] < 9:\n",
    "                stack.append((nx, ny, reference+1))\n",
    "                result_set.add((nx, ny))\n",
    "    return result_set\n",
    "\n",
    "\n",
    "heights, size = load_data('09-sample.txt')      \n",
    "assert len(get_basin(heights, 1, 0)) == 3\n",
    "assert len(get_basin(heights, 9, 0)) == 9\n",
    "assert len(get_basin(heights, 2, 2)) == 14\n",
    "assert len(get_basin(heights, 6, 4)) == 9"
   ]
  },
  {
   "cell_type": "code",
   "execution_count": 10,
   "metadata": {},
   "outputs": [],
   "source": [
    "import heapq\n",
    "\n",
    "def find_largest_basins(filename):\n",
    "    basins = []\n",
    "    heights, size = load_data(filename)\n",
    "    for x, y, _ in find_local_mins(heights, size):\n",
    "        size = len(get_basin(heights, x, y))\n",
    "        heapq.heappush(basins, (size, x, y))\n",
    "    return basins\n",
    "\n",
    "def solution2(filename, n=3):\n",
    "    basins = find_largest_basins(filename)\n",
    "    acc = 1\n",
    "    for (size, x, y) in heapq.nlargest(n, basins):\n",
    "        acc *= size\n",
    "    return acc"
   ]
  },
  {
   "cell_type": "markdown",
   "metadata": {},
   "source": [
    "Find the three largest basins and multiply their sizes together. In the above example, this is 9 * 14 * 9 = **1134**."
   ]
  },
  {
   "cell_type": "code",
   "execution_count": 11,
   "metadata": {},
   "outputs": [],
   "source": [
    "assert solution2('09-sample.txt') == 1134"
   ]
  },
  {
   "cell_type": "markdown",
   "metadata": {},
   "source": [
    "### Solution part 2"
   ]
  },
  {
   "cell_type": "code",
   "execution_count": 12,
   "metadata": {},
   "outputs": [
    {
     "name": "stdout",
     "output_type": "stream",
     "text": [
      "Solution for part two: 1280496\n"
     ]
    }
   ],
   "source": [
    "sol = solution2('09-input.txt')\n",
    "print(f\"Solution for part two: {sol}\")"
   ]
  },
  {
   "cell_type": "markdown",
   "metadata": {},
   "source": [
    "## Extra"
   ]
  },
  {
   "cell_type": "code",
   "execution_count": 13,
   "metadata": {},
   "outputs": [],
   "source": [
    "def dot(img, x, y, color):\n",
    "    img.putpixel((x*2, y*2), color)\n",
    "    img.putpixel((x*2+1, y*2), color)\n",
    "    img.putpixel((x*2, y*2+1), color)\n",
    "    img.putpixel((x*2+1, y*2+1), color)"
   ]
  },
  {
   "cell_type": "code",
   "execution_count": 14,
   "metadata": {},
   "outputs": [
    {
     "data": {
      "image/png": "[encoded data removed]",
      "text/plain": [
       "<PIL.Image.Image image mode=RGBA size=198x198 at 0x7F00B389BDC0>"
      ]
     },
     "execution_count": 14,
     "metadata": {},
     "output_type": "execute_result"
    }
   ],
   "source": [
    "import itertools\n",
    "from PIL import Image\n",
    "\n",
    "basins = heapq.nlargest(3, find_largest_basins('09-input.txt'))\n",
    "heights, (max_x, max_y) = load_data('09-input.txt')\n",
    "img = Image.new('RGBA', (max_x*2, max_y*2))\n",
    "for y in range(max_x):\n",
    "    for x in range(max_y):\n",
    "        level = heights[x, y] * 28 % 252\n",
    "        dot(img, x, y, (level, level, level))\n",
    "\n",
    "Color = itertools.cycle([\n",
    "    (255, 255, 0),\n",
    "    (0, 255, 0),\n",
    "    (0, 0, 255),\n",
    "])\n",
    "\n",
    "for size, xx, yy in basins:\n",
    "    color = next(Color)\n",
    "    for x, y in get_basin(heights, xx, yy):\n",
    "        dot(img, x, y, color)\n",
    "img.save('09-map.png')\n",
    "img"
   ]
  },
  {
   "cell_type": "code",
   "execution_count": 15,
   "metadata": {},
   "outputs": [
    {
     "data": {
      "text/html": [
       "<table><tr><td style=\"background: silver; color:gray\">9</td><td style=\"color:gray\">8</td><td style=\"color:gray\">7</td><td style=\"color:gray\">6</td><td style=\"color:gray\">7</td><td style=\"background: silver; color:gray\">9</td><td style=\"background: silver; color:gray\">9</td><td style=\"color:gray\">3</td><td style=\"background: silver; color:gray\">9</td><td style=\"color:gray\">8</td><td style=\"color:gray\">7</td><td style=\"color:gray\">5</td><td style=\"color:gray\">4</td><td style=\"color:gray\">3</td><td style=\"color:gray\">2</td><td style=\"color:gray\">3</td></tr><tr><td style=\"background: silver; color:gray\">9</td><td style=\"background: silver; color:gray\">9</td><td style=\"color:gray\">8</td><td style=\"color:gray\">7</td><td style=\"color:gray\">8</td><td style=\"background: silver; color:gray\">9</td><td style=\"background: yellow;\">8</td><td style=\"background: silver; color:gray\">9</td><td style=\"background: yellow;\">8</td><td style=\"background: silver; color:gray\">9</td><td style=\"color:gray\">5</td><td style=\"color:gray\">4</td><td style=\"color:gray\">3</td><td style=\"color:gray\">2</td><td style=\"color:gray\">1</td><td style=\"color:gray\">2</td></tr><tr><td style=\"color:gray\">8</td><td style=\"background: silver; color:gray\">9</td><td style=\"background: silver; color:gray\">9</td><td style=\"color:gray\">8</td><td style=\"background: silver; color:gray\">9</td><td style=\"background: silver; color:gray\">9</td><td style=\"background: yellow;\">7</td><td style=\"background: yellow;\">6</td><td style=\"background: yellow;\">7</td><td style=\"background: yellow;\">8</td><td style=\"background: silver; color:gray\">9</td><td style=\"background: silver; color:gray\">9</td><td style=\"color:gray\">4</td><td style=\"color:gray\">3</td><td style=\"color:gray\">4</td><td style=\"color:gray\">3</td></tr><tr><td style=\"color:gray\">7</td><td style=\"color:gray\">8</td><td style=\"background: silver; color:gray\">9</td><td style=\"background: silver; color:gray\">9</td><td style=\"background: yellow;\">8</td><td style=\"background: yellow;\">7</td><td style=\"background: yellow;\">8</td><td style=\"background: yellow;\">5</td><td style=\"background: yellow;\">6</td><td style=\"background: yellow;\">7</td><td style=\"background: silver; color:gray\">9</td><td style=\"background: yellow;\">8</td><td style=\"background: silver; color:gray\">9</td><td style=\"background: silver; color:gray\">9</td><td style=\"color:gray\">5</td><td style=\"color:gray\">6</td></tr><tr><td style=\"color:gray\">6</td><td style=\"color:gray\">7</td><td style=\"background: silver; color:gray\">9</td><td style=\"background: yellow;\">8</td><td style=\"background: yellow;\">7</td><td style=\"background: yellow;\">6</td><td style=\"background: yellow;\">5</td><td style=\"background: yellow;\">4</td><td style=\"background: yellow;\">3</td><td style=\"background: yellow;\">4</td><td style=\"background: yellow;\">5</td><td style=\"background: yellow;\">6</td><td style=\"background: yellow;\">7</td><td style=\"background: yellow;\">8</td><td style=\"background: silver; color:gray\">9</td><td style=\"background: silver; color:gray\">9</td></tr><tr><td style=\"color:gray\">5</td><td style=\"color:gray\">6</td><td style=\"color:gray\">7</td><td style=\"background: silver; color:gray\">9</td><td style=\"background: yellow;\">8</td><td style=\"background: yellow;\">5</td><td style=\"background: yellow;\">5</td><td style=\"background: yellow;\">3</td><td style=\"background: yellow;\">2</td><td style=\"background: yellow;\">3</td><td style=\"background: yellow;\">4</td><td style=\"background: yellow;\">5</td><td style=\"background: silver; color:gray\">9</td><td style=\"background: silver; color:gray\">9</td><td style=\"background: silver; color:gray\">9</td><td style=\"color:gray\">8</td></tr><tr><td style=\"color:gray\">4</td><td style=\"color:gray\">5</td><td style=\"background: silver; color:gray\">9</td><td style=\"background: yellow;\">8</td><td style=\"background: yellow;\">7</td><td style=\"background: yellow;\">4</td><td style=\"background: yellow;\">3</td><td style=\"background: yellow;\">2</td><td style=\"background: yellow;\">1</td><td style=\"background: yellow;\">2</td><td style=\"background: yellow;\">4</td><td style=\"background: yellow;\">8</td><td style=\"background: yellow;\">7</td><td style=\"background: yellow;\">8</td><td style=\"background: silver; color:gray\">9</td><td style=\"color:gray\">7</td></tr><tr><td style=\"color:gray\">3</td><td style=\"background: silver; color:gray\">9</td><td style=\"background: yellow;\">8</td><td style=\"background: yellow;\">7</td><td style=\"background: yellow;\">6</td><td style=\"background: yellow;\">5</td><td style=\"background: yellow;\">2</td><td style=\"background: yellow;\">1</td><th style=\"background: red;\"><b>0</b></th><td style=\"background: yellow;\">1</td><td style=\"background: yellow;\">2</td><td style=\"background: yellow;\">3</td><td style=\"background: yellow;\">6</td><td style=\"background: yellow;\">7</td><td style=\"background: yellow;\">8</td><td style=\"background: silver; color:gray\">9</td></tr><tr><td style=\"background: silver; color:gray\">9</td><td style=\"background: yellow;\">8</td><td style=\"background: yellow;\">7</td><td style=\"background: yellow;\">6</td><td style=\"background: yellow;\">5</td><td style=\"background: yellow;\">4</td><td style=\"background: yellow;\">3</td><td style=\"background: yellow;\">2</td><td style=\"background: yellow;\">1</td><td style=\"background: yellow;\">2</td><td style=\"background: yellow;\">3</td><td style=\"background: yellow;\">4</td><td style=\"background: yellow;\">5</td><td style=\"background: yellow;\">6</td><td style=\"background: silver; color:gray\">9</td><td style=\"color:gray\">5</td></tr><tr><td style=\"color:gray\">5</td><td style=\"background: silver; color:gray\">9</td><td style=\"background: yellow;\">8</td><td style=\"background: yellow;\">7</td><td style=\"background: yellow;\">6</td><td style=\"background: yellow;\">5</td><td style=\"background: yellow;\">4</td><td style=\"background: yellow;\">3</td><td style=\"background: yellow;\">2</td><td style=\"background: yellow;\">3</td><td style=\"background: yellow;\">4</td><td style=\"background: yellow;\">5</td><td style=\"background: yellow;\">6</td><td style=\"background: yellow;\">7</td><td style=\"background: yellow;\">8</td><td style=\"background: silver; color:gray\">9</td></tr><tr><td style=\"color:gray\">4</td><td style=\"color:gray\">5</td><td style=\"background: silver; color:gray\">9</td><td style=\"background: silver; color:gray\">9</td><td style=\"background: yellow;\">7</td><td style=\"background: yellow;\">6</td><td style=\"background: yellow;\">5</td><td style=\"background: yellow;\">7</td><td style=\"background: yellow;\">6</td><td style=\"background: yellow;\">5</td><td style=\"background: yellow;\">5</td><td style=\"background: yellow;\">6</td><td style=\"background: yellow;\">7</td><td style=\"background: yellow;\">8</td><td style=\"background: silver; color:gray\">9</td><td style=\"color:gray\">5</td></tr><tr><td style=\"background: silver; color:gray\">9</td><td style=\"color:gray\">6</td><td style=\"background: silver; color:gray\">9</td><td style=\"color:gray\">8</td><td style=\"background: silver; color:gray\">9</td><td style=\"background: yellow;\">7</td><td style=\"background: yellow;\">6</td><td style=\"background: yellow;\">7</td><td style=\"background: yellow;\">7</td><td style=\"background: yellow;\">6</td><td style=\"background: yellow;\">7</td><td style=\"background: silver; color:gray\">9</td><td style=\"background: yellow;\">8</td><td style=\"background: silver; color:gray\">9</td><td style=\"color:gray\">7</td><td style=\"color:gray\">6</td></tr><tr><td style=\"color:gray\">8</td><td style=\"background: silver; color:gray\">9</td><td style=\"color:gray\">8</td><td style=\"color:gray\">7</td><td style=\"background: silver; color:gray\">9</td><td style=\"background: yellow;\">8</td><td style=\"background: silver; color:gray\">9</td><td style=\"background: yellow;\">8</td><td style=\"background: yellow;\">8</td><td style=\"background: silver; color:gray\">9</td><td style=\"background: yellow;\">8</td><td style=\"background: silver; color:gray\">9</td><td style=\"background: silver; color:gray\">9</td><td style=\"background: silver; color:gray\">9</td><td style=\"color:gray\">8</td><td style=\"background: silver; color:gray\">9</td></tr><tr><td style=\"color:gray\">7</td><td style=\"color:gray\">8</td><td style=\"color:gray\">7</td><td style=\"color:gray\">6</td><td style=\"color:gray\">8</td><td style=\"background: silver; color:gray\">9</td><td style=\"color:gray\">8</td><td style=\"background: silver; color:gray\">9</td><td style=\"background: silver; color:gray\">9</td><td style=\"color:gray\">1</td><td style=\"background: silver; color:gray\">9</td><td style=\"color:gray\">6</td><td style=\"color:gray\">5</td><td style=\"color:gray\">6</td><td style=\"background: silver; color:gray\">9</td><td style=\"color:gray\">8</td></tr></table>"
      ],
      "text/plain": [
       "<IPython.core.display.HTML object>"
      ]
     },
     "execution_count": 15,
     "metadata": {},
     "output_type": "execute_result"
    }
   ],
   "source": [
    "from IPython.core.display import HTML\n",
    "\n",
    "heights, size = load_data('09-input.txt')\n",
    "\n",
    "xx, yy = 63, 60\n",
    "basins = get_basin(heights, xx, yy)\n",
    "buff = [\"<table>\"]\n",
    "for y in range(yy-7, yy+7):\n",
    "    buff.append(\"<tr>\")\n",
    "    for x in range(xx-8, xx+8):\n",
    "        if (x, y) in basins:\n",
    "            if x == xx and y == yy:\n",
    "                buff.append(f'<th style=\"background: red;\"><b>{heights[x, y]}</b></th>')\n",
    "            else:\n",
    "                buff.append(f'<td style=\"background: yellow;\">{heights[x, y]}</td>')\n",
    "        else:\n",
    "            if heights[x, y] == 9:\n",
    "                buff.append(f'<td style=\"background: silver; color:gray\">{heights[x, y]}</td>')\n",
    "            else:\n",
    "                buff.append(f'<td style=\"color:gray\">{heights[x, y]}</td>')\n",
    "    buff.append(\"</tr>\")\n",
    "buff.append(\"</table>\")        \n",
    "HTML(''.join(buff))"
   ]
  }
 ],
 "metadata": {
  "kernelspec": {
   "display_name": "Python 3",
   "language": "python",
   "name": "python3"
  },
  "language_info": {
   "codemirror_mode": {
    "name": "ipython",
    "version": 3
   },
   "file_extension": ".py",
   "mimetype": "text/x-python",
   "name": "python",
   "nbconvert_exporter": "python",
   "pygments_lexer": "ipython3",
   "version": "3.8.10"
  }
 },
 "nbformat": 4,
 "nbformat_minor": 4
}
