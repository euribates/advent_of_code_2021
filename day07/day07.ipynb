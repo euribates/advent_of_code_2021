{
 "cells": [
  {
   "cell_type": "markdown",
   "metadata": {},
   "source": [
    "# Day 7: The Treachery of Whales"
   ]
  },
  {
   "cell_type": "code",
   "execution_count": 1,
   "metadata": {},
   "outputs": [],
   "source": [
    "def load_data(filename):\n",
    "    with open(filename) as f:\n",
    "        for item in f.read().strip().split(','):\n",
    "            yield int(item)"
   ]
  },
  {
   "cell_type": "code",
   "execution_count": 2,
   "metadata": {},
   "outputs": [],
   "source": [
    "assert list(load_data('07-sample.txt')) == [16, 1, 2, 0, 4, 2, 7, 1, 2, 14]"
   ]
  },
  {
   "cell_type": "code",
   "execution_count": 3,
   "metadata": {},
   "outputs": [],
   "source": [
    "def calculate_diff(items, position):\n",
    "    return sum([\n",
    "        (item - position if item >= position else position - item)\n",
    "        for item in items\n",
    "    ])"
   ]
  },
  {
   "cell_type": "markdown",
   "metadata": {},
   "source": [
    "This [2] costs a total of 37 fuel. This is the cheapest possible outcome; more expensive outcomes include aligning at position 1 (41 fuel), position 3 (39 fuel), or position 10 (71 fuel)."
   ]
  },
  {
   "cell_type": "code",
   "execution_count": 4,
   "metadata": {},
   "outputs": [],
   "source": [
    "items = list(load_data('07-sample.txt'))\n",
    "assert calculate_diff(items, 2) == 37\n",
    "assert calculate_diff(items, 1) == 41\n",
    "assert calculate_diff(items, 3) == 39\n",
    "assert calculate_diff(items, 10) == 71\n"
   ]
  },
  {
   "cell_type": "code",
   "execution_count": 5,
   "metadata": {},
   "outputs": [],
   "source": [
    "def find_solution(input_data):\n",
    "    input_data = list(input_data)\n",
    "    min_position = min(input_data)\n",
    "    max_position = max(input_data)\n",
    "    diffs = sorted(\n",
    "        (calculate_diff(input_data, position), position)\n",
    "        for position in range(min_position, max_position+1)\n",
    "    )\n",
    "    return diffs"
   ]
  },
  {
   "cell_type": "code",
   "execution_count": 6,
   "metadata": {},
   "outputs": [],
   "source": [
    "assert find_solution(load_data('07-sample.txt'))[0][1] == 2"
   ]
  },
  {
   "cell_type": "markdown",
   "metadata": {},
   "source": [
    "### First part solution"
   ]
  },
  {
   "cell_type": "code",
   "execution_count": 7,
   "metadata": {},
   "outputs": [
    {
     "name": "stdout",
     "output_type": "stream",
     "text": [
      "First part solution: 352707\n"
     ]
    }
   ],
   "source": [
    "items = list(load_data('07-input.txt'))\n",
    "position = find_solution(items)[0][1]\n",
    "sol = calculate_diff(items, position)\n",
    "print(f\"First part solution: {sol}\")"
   ]
  },
  {
   "cell_type": "markdown",
   "metadata": {},
   "source": [
    "## Second part"
   ]
  },
  {
   "cell_type": "code",
   "execution_count": 8,
   "metadata": {},
   "outputs": [],
   "source": [
    "def calculate_diff_sumseq(items, position):\n",
    "    def sumseq(n):\n",
    "        return (n + 1) / 2 * n\n",
    "    return sum([\n",
    "        sumseq(item - position if item >= position else position - item)\n",
    "        for item in items\n",
    "    ])"
   ]
  },
  {
   "cell_type": "markdown",
   "metadata": {},
   "source": [
    "As each crab moves, moving further becomes more expensive. This changes the best horizontal position to align them all on; in the example above, this becomes 5:\n",
    "\n",
    "- Move from 16 to 5: 66 fuel\n",
    "- Move from 1 to 5: 10 fuel\n",
    "- Move from 2 to 5: 6 fuel\n",
    "- Move from 0 to 5: 15 fuel\n",
    "- Move from 4 to 5: 1 fuel\n",
    "- Move from 2 to 5: 6 fuel\n",
    "- Move from 7 to 5: 3 fuel\n",
    "- Move from 1 to 5: 10 fuel\n",
    "- Move from 2 to 5: 6 fuel\n",
    "- Move from 14 to 5: 45 fuel\n",
    "\n",
    "This costs a total of **168 fuel**.\n"
   ]
  },
  {
   "cell_type": "code",
   "execution_count": 9,
   "metadata": {},
   "outputs": [],
   "source": [
    "items = list(load_data('07-sample.txt'))\n",
    "assert calculate_diff_sumseq(items, 5) == 168"
   ]
  },
  {
   "cell_type": "code",
   "execution_count": 10,
   "metadata": {},
   "outputs": [],
   "source": [
    "def find_solution_sum(input_data):\n",
    "    input_data = list(input_data)\n",
    "    min_position = min(input_data)\n",
    "    max_position = max(input_data)\n",
    "    diffs = sorted(\n",
    "        (calculate_diff_sumseq(input_data, position), position)\n",
    "        for position in range(min_position, max_position+1)\n",
    "    )\n",
    "    return diffs"
   ]
  },
  {
   "cell_type": "code",
   "execution_count": 11,
   "metadata": {},
   "outputs": [],
   "source": [
    "items = list(load_data('07-sample.txt'))\n",
    "assert find_solution_sum(items)[0][1] == 5"
   ]
  },
  {
   "cell_type": "code",
   "execution_count": 12,
   "metadata": {},
   "outputs": [
    {
     "name": "stdout",
     "output_type": "stream",
     "text": [
      "Secood part: 95519693.0\n"
     ]
    }
   ],
   "source": [
    "items = list(load_data('07-input.txt'))\n",
    "position = find_solution_sum(items)[0][1]\n",
    "sol = calculate_diff_sumseq(items, position)\n",
    "print(f\"Secood part: {sol}\")"
   ]
  }
 ],
 "metadata": {
  "kernelspec": {
   "display_name": "Python 3",
   "language": "python",
   "name": "python3"
  },
  "language_info": {
   "codemirror_mode": {
    "name": "ipython",
    "version": 3
   },
   "file_extension": ".py",
   "mimetype": "text/x-python",
   "name": "python",
   "nbconvert_exporter": "python",
   "pygments_lexer": "ipython3",
   "version": "3.8.10"
  }
 },
 "nbformat": 4,
 "nbformat_minor": 4
}
